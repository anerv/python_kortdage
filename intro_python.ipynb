{
 "cells": [
  {
   "cell_type": "markdown",
   "id": "3acd57b9",
   "metadata": {},
   "source": [
    "<div style=\"text-align: center;\">\n",
    "<img src=\"images/python-logo.png\" alt=\"python_logo\" width=20% >\n",
    "\n",
    "# Kortdage 2025: Introduktion til Python\n",
    "\n",
    "</div>\n",
    "\n",
    "Formålet med workshoppen er at give en introduktion til, hvordan man kan arbejde med geodata i Python 🐍.\n",
    "\n",
    "Vi starter med en hurtigt introduktion til Python. Dernæst skal vi se eksempler på at arbejde med både vektor og rasterdata.\n",
    "\n",
    "Der vil undervejs være lidt øvelser i, hvad vi har lært - og er du hurtigt igennem, kan du give dig i kast med udfordringen nederst! \n",
    "\n",
    "Er du helt ny til Python kan læringskurven være stejl! ⛰️\n",
    "Men fortvivl ikke, hvis det er forvirrende i starten - det tager tid at lære et helt nyt 'sprog' - og du kan altid komme tilbage til kursusmaterialerne, hvis du har brug for at brug for at genopfriske noget.\n",
    "\n",
    "**Indhold:**\n",
    "\n",
    "* [Introduktion til Python](#introduktion-til-python)\n",
    "* [Vektordata og Geopandas](#vektor)\n",
    "* [Udfordring](#udfordring)\n",
    "* Rasterdata med Python (separat notebook, *raster_eksempel.ipynb*)\n",
    "\n",
    "\n",
    "Målsætningen med i dag er at komme *i gang* med Python - men det kræver mere end et par timer at lære alle de grundlæggende funktioner!\n",
    "\n",
    "For en grundigere introduktion til Python, se nogle af de materialer vi har linket til [HER](https://github.com/anerv/python_kortdage/blob/main/inspiration.md).\n",
    "\n",
    "*Workshoppen er baseret på materialer fra bl.a. [PythonCrashCourse](https://github.com/anastassiavybornova/pythoncrashcourse), [GeoPython](https://geo-python-site.readthedocs.io/en/latest/index.html) og [PythonGIS](https://pythongis.org/index.html).*"
   ]
  },
  {
   "cell_type": "markdown",
   "id": "d2355ef5",
   "metadata": {},
   "source": [
    "## ❓Hvorfor kode?\n",
    "\n",
    "Man kan gøre sådan ca. det samme med Python som et almindeligt desktop GIS-program, men kodning er særlig velegnet til:\n",
    "\n",
    "* *Store datasæt* ‼️\n",
    "* *Automatisering* 🔛\n",
    "* *Opgaver, der skal gentages igen og igen* 🔁\n",
    "\n",
    "Kodning hjælper os også med at *dokumentere* vores arbejde (med Python skriver du automatisk alle dine analyse-skridt ned!).\n",
    "\n",
    "Når man først har lært det grundlæggende, er det ofte også *hurtigere* end at skulle klikke rundt i et desktop-program.\n",
    "\n",
    "\n",
    "## ❓Hvorfor Python?\n",
    "\n",
    "* Et af de mest udbredte programmeringssprog - også inden for GIS og geodata 🌐\n",
    "* Relativt nemt at lære - selvom det ikke altid føles sådan i begyndelsen! 😩"
   ]
  },
  {
   "cell_type": "markdown",
   "id": "40c2fcec",
   "metadata": {},
   "source": [
    "## 💻 Installation osv.\n",
    "\n",
    "Det kan være lidt tricky første gang man skal installere Python. På denne her workshop bruger vi Google Colab så vi slipper for installationen. \n",
    "\n",
    "Hvis du skal installere Python på et senere tidspunkt, kan du finde en guide her: https://pythongis.org/part1/chapter-01/nb/06-installation.html.\n",
    "\n",
    "\n",
    "<details>\n",
    "<summary><b>Valg af software til Python</b></summary>\n",
    "\n",
    "Python er et programmeringssprog, der ikke hører til én bestemt software. Der er derfor mange måde at køre Python-kode på! \n",
    "\n",
    "Man kan fx bruge et program, designet til at skrive og køre kode (en IDE), køre sin kode i sin browser med Jupyter Lab eller Google Colab, eller bruge den indbyggede Python-konsol i fx. QGIS.\n",
    "\n",
    "Vi anbefaler at arbejde i en IDE, fx Visual Studio Code, hvor programmet også kan hjælpe en med syntax og version control.\n",
    "\n",
    "</details>\n",
    "\n"
   ]
  },
  {
   "cell_type": "markdown",
   "id": "5c00f2bb",
   "metadata": {},
   "source": [
    "***\n",
    "\n",
    "##  ✨ Introduktion til Python ✨\n",
    "\n",
    "Filen her er en [Jupyter Notebook](https://jupyter.org/). Notebooks er interaktive filer, der gør det muligt at køre kode og få vist resultatet i den samme fil.\n",
    "\n",
    "### Python som lommeregner ✖️➗➖➕\n",
    "\n",
    "En af de mest simple anvendelser af Python er som en lommeregner:"
   ]
  },
  {
   "cell_type": "code",
   "execution_count": null,
   "id": "05a6af9d",
   "metadata": {},
   "outputs": [],
   "source": [
    "# Vi kan bruge Python til at lave simple beregninger\n",
    "# Det her er forresten en \"kommentar\" - hvis man sætter et # foran en linje, så bliver den ignoreret af Python\n",
    "# Kommentarer er gode til at forklare hvad koden gør\n",
    "\n",
    "# \"Boksen\" her er en celle - det er her vi skriver vores kode\n",
    "# For at køre koden i en celle, tryk Shift + Enter"
   ]
  },
  {
   "cell_type": "code",
   "execution_count": null,
   "id": "8a0c87a7",
   "metadata": {},
   "outputs": [],
   "source": [
    "# Plus\n",
    "\n",
    "2 + 2"
   ]
  },
  {
   "cell_type": "code",
   "execution_count": null,
   "id": "2ee7108c",
   "metadata": {},
   "outputs": [],
   "source": [
    "# Minus\n",
    "\n",
    "10 - 2"
   ]
  },
  {
   "cell_type": "code",
   "execution_count": null,
   "id": "f3f8d96a",
   "metadata": {},
   "outputs": [],
   "source": [
    "# Gange\n",
    "\n",
    "5 * 3"
   ]
  },
  {
   "cell_type": "code",
   "execution_count": null,
   "id": "3a08cb40",
   "metadata": {},
   "outputs": [],
   "source": [
    "# Dividere\n",
    "\n",
    "20 / 4"
   ]
  },
  {
   "cell_type": "markdown",
   "id": "cb3470a5",
   "metadata": {},
   "source": [
    "Vil vi lave mere komplicerede udregninger har vi brug for modulet `math`.\n",
    "\n",
    "* Python moduler er som \"apps\" til din telefon - de tilføjer ekstra funktionalitet til Python og vi slipper for at skulle skrive al kode helt fra bunden.\n",
    "* Vi kan importere et modul med kommandoen \"import\" og så navnet på modulet.\n",
    "* Nogen moduler er indbygget i Python, andre skal installeres først."
   ]
  },
  {
   "cell_type": "code",
   "execution_count": null,
   "id": "073f5d9c",
   "metadata": {},
   "outputs": [],
   "source": [
    "import math  # math er et indbygget modul, så det behøver vi ikke installere først\n",
    "\n",
    "# Kvadratrod\n",
    "math.sqrt(16)"
   ]
  },
  {
   "cell_type": "markdown",
   "id": "406a73df",
   "metadata": {},
   "source": [
    "### Datatyper i Python\n",
    "\n",
    "* Python har flere forskellige *typer* af data.\n",
    "* Hver type har forskellige metoder og egenskaber.\n",
    "* De vigtigste er **integer** (heltal), **float** (decimaltal), **string** (tekst) og **boolean** (True/False)."
   ]
  },
  {
   "cell_type": "code",
   "execution_count": null,
   "id": "379b4279",
   "metadata": {},
   "outputs": [],
   "source": [
    "# integer - hele tal\n",
    "\n",
    "# man kan se typen af en variabel med metoden type()\n",
    "\n",
    "type(5)"
   ]
  },
  {
   "cell_type": "code",
   "execution_count": null,
   "id": "651ec3fd",
   "metadata": {},
   "outputs": [],
   "source": [
    "type(2.5)"
   ]
  },
  {
   "cell_type": "code",
   "execution_count": null,
   "id": "6f4dd13f",
   "metadata": {},
   "outputs": [],
   "source": [
    "type(\"hej!\")"
   ]
  },
  {
   "cell_type": "code",
   "execution_count": null,
   "id": "bc5c2ca9",
   "metadata": {},
   "outputs": [],
   "source": [
    "# det her er også en string\n",
    "type(\"2\")"
   ]
  },
  {
   "cell_type": "code",
   "execution_count": null,
   "id": "6fa5b897",
   "metadata": {},
   "outputs": [],
   "source": [
    "type(True)"
   ]
  },
  {
   "cell_type": "markdown",
   "id": "55c24113",
   "metadata": {},
   "source": [
    "Datatyper er bl.a. vigtige, da de afgør, hvad der sker når vi arbejder med vores variable.\n",
    "\n",
    "Man kan fx plusse både tal og tekst, men med meget forskellige resultater!"
   ]
  },
  {
   "cell_type": "code",
   "execution_count": null,
   "id": "2f56a5e0",
   "metadata": {},
   "outputs": [],
   "source": [
    "2 + 10"
   ]
  },
  {
   "cell_type": "code",
   "execution_count": null,
   "id": "1b656981",
   "metadata": {},
   "outputs": [],
   "source": [
    "\"hej\" + \" med dig\""
   ]
  },
  {
   "cell_type": "markdown",
   "id": "ad615c29",
   "metadata": {},
   "source": [
    "Hvad sker der hvis man blander datatyper?"
   ]
  },
  {
   "cell_type": "code",
   "execution_count": null,
   "id": "8b798a0b",
   "metadata": {},
   "outputs": [],
   "source": [
    "2 + \"hej\""
   ]
  },
  {
   "cell_type": "markdown",
   "id": "1d508991",
   "metadata": {},
   "source": [
    "Cellen ovenfor giver os en **fejlmeddelelse**. Hvis der er fejl i vores kode, der gør at Python ikke kan forstå vores kode, kommer der altid en fejlmeddelse.\n",
    "\n",
    "Fejlmeddelsen giver os et hint om, hvad fejlen er. Her får vi fx en ``TypeError``, og får at vide at man ikke kan lægge et integer tal og en tekststreng sammen.\n",
    "\n",
    "**OBS!** Der kommer kun en fejlmeddelelse, hvis koden *ikke* er korrekt *Python-syntaks* 🐍. Hvis vi har lavet fejl, der giver et forkert resultat, men stadig er korrekt Python kommer der *ikke* en fejlmeddelelse."
   ]
  },
  {
   "cell_type": "markdown",
   "id": "8204fc1c",
   "metadata": {
    "vscode": {
     "languageId": "plaintext"
    }
   },
   "source": [
    "### Variable i Python\n",
    "\n",
    "En Python variabel er en \"beholder\" der kan indeholde data.\n",
    "\n",
    "Man bestemmer selv navnet på variablen *(variabel-navne kan dog kun indeholde tal, bogstaver og _, og de må ikke starte med et tal*).\n",
    "\n",
    "En variabel skrives som `navn` = `værdi`.\n",
    "\n",
    "Fx: `min_variabel = 2025`\n",
    "\n",
    "* `min_variabel` er *navnet* på variablen.\n",
    "* `=` er den *operator* vi bruger til at koble navn og værdi.\n",
    "* `2025` er *værdien* af vores variabel.\n",
    "\n",
    "Variablen med navnet `min_variabel` indeholder nu en *pointer* der peger på værdien `2025` i din computers hukommelse.\n"
   ]
  },
  {
   "cell_type": "code",
   "execution_count": null,
   "id": "6b3cb1a0",
   "metadata": {},
   "outputs": [],
   "source": [
    "min_variabel = 2025"
   ]
  },
  {
   "cell_type": "code",
   "execution_count": null,
   "id": "fa1265b7",
   "metadata": {},
   "outputs": [],
   "source": [
    "# Hvis man vil se hvad der er i en variabel kan man printe den!\n",
    "print(min_variabel)"
   ]
  },
  {
   "cell_type": "code",
   "execution_count": null,
   "id": "7876744c",
   "metadata": {},
   "outputs": [],
   "source": [
    "# man kan overskrive værdien i en variabel\n",
    "min_variabel = \"kortdage2025\"\n",
    "\n",
    "print(min_variabel)"
   ]
  },
  {
   "cell_type": "markdown",
   "id": "6520d19c",
   "metadata": {},
   "source": [
    "Fordi vi arbejder i en **Jupyter Notebook** får vi automatisk printet resultaterne af den sidste beregning i hver celle ✏️. \n",
    "\n",
    "Hvis vi vil printe mere end den sidste udregning (eller arbejder i en standard *.py* Pythonfil) skal vi eksplicit bede Python om at printe resultatet:"
   ]
  },
  {
   "cell_type": "code",
   "execution_count": null,
   "id": "0a4c2515",
   "metadata": {},
   "outputs": [],
   "source": [
    "13 + 14 + 15\n",
    "\n",
    "2 + 2"
   ]
  },
  {
   "cell_type": "code",
   "execution_count": null,
   "id": "bd20068a",
   "metadata": {},
   "outputs": [],
   "source": [
    "print(13 + 14 + 15)\n",
    "\n",
    "print(2 + 2)"
   ]
  },
  {
   "cell_type": "markdown",
   "id": "cbad9734",
   "metadata": {},
   "source": [
    "Hvis du vil vide mere om, hvordan noget virker kan du altid bede om hjælp! 🆘"
   ]
  },
  {
   "cell_type": "code",
   "execution_count": null,
   "id": "e18e1d9f",
   "metadata": {},
   "outputs": [],
   "source": [
    "help(print)"
   ]
  },
  {
   "cell_type": "code",
   "execution_count": null,
   "id": "d43be19b",
   "metadata": {},
   "outputs": [],
   "source": [
    "help(str)"
   ]
  },
  {
   "cell_type": "markdown",
   "id": "7458cbdd",
   "metadata": {},
   "source": [
    "### Lister\n",
    "\n",
    "Man har ofte brug for at gemme mere end én værdi i en variabel.\n",
    "\n",
    "Python har flere forskellige måder at gøre det på, men den mest udbredte er nok en simpel **liste**.\n",
    "\n",
    "* En liste er omgivet af *firkantede* parentes-tegn ``[]``\n",
    "* Værdier adskilles af *komma* `,`"
   ]
  },
  {
   "cell_type": "code",
   "execution_count": null,
   "id": "e33dcaae",
   "metadata": {},
   "outputs": [],
   "source": [
    "en_liste = [1, 2, 3, 4, 5]"
   ]
  },
  {
   "cell_type": "code",
   "execution_count": null,
   "id": "292a65c2",
   "metadata": {},
   "outputs": [],
   "source": [
    "type(en_liste)"
   ]
  },
  {
   "cell_type": "markdown",
   "id": "b13438d0",
   "metadata": {},
   "source": [
    "Python indexering starter ved **0**!"
   ]
  },
  {
   "cell_type": "code",
   "execution_count": null,
   "id": "18132720",
   "metadata": {},
   "outputs": [],
   "source": [
    "en_liste[0]"
   ]
  },
  {
   "cell_type": "code",
   "execution_count": null,
   "id": "1e3d2a94",
   "metadata": {},
   "outputs": [],
   "source": [
    "en_liste[6]  # Giver fejl fordi der ikke er noget 7. element i listen"
   ]
  },
  {
   "cell_type": "markdown",
   "id": "ba573578",
   "metadata": {},
   "source": [
    "### Loops ➿\n",
    "\n",
    "En af de bedste grunde til at bruge Python er, at det gør det nemt at gøre den samme ting mange gange i træk - fx ved at bruge et **loop**.\n",
    "\n",
    "I et `for`-loop itererer vi over et itererbart objet - fx en liste - og for hvert element i listen kører vi vores kode:\n",
    "\n",
    "```python\n",
    "for element in iterable_object:\n",
    "    kode-statement\n",
    "# i det her loop vil koden blive eksekveret lige så mange gange som vi har elementer i vores iterable objekt .\n",
    "\n",
    "```\n",
    "\n",
    "Man bestemmer selv, hvad man kalder elementerne i sin liste. Ofte bruger man blot et bogstav, fx ``for l in list:``."
   ]
  },
  {
   "cell_type": "code",
   "execution_count": null,
   "id": "9004db8f",
   "metadata": {},
   "outputs": [],
   "source": [
    "# Det her er et simpelt eksempel - men man kan putte hvad som helt ind i et loop\n",
    "\n",
    "for element in en_liste:  # vores liste fra før\n",
    "    print(element)"
   ]
  },
  {
   "cell_type": "markdown",
   "id": "049955a5",
   "metadata": {},
   "source": [
    "I eksemplet ovenfor står ``print`` *indenteret* i forhold til vores ``for``-linje. Her betyder indenteringen at alt der står indenteret ift. *\"for element...\"* er en del af vores for-loop.\n",
    "\n",
    "**Indentering** og linjeskift ↩️ er afgørende i Python-kode og hjælper computeren med at forstå koden. Man kan bruge enten 4 mellemrum eller tab-tasten ↔️ til at indentere en linje."
   ]
  },
  {
   "cell_type": "markdown",
   "id": "2876697c",
   "metadata": {},
   "source": [
    "### Gør-det-selv"
   ]
  },
  {
   "cell_type": "code",
   "execution_count": null,
   "id": "d43c5c4a",
   "metadata": {},
   "outputs": [],
   "source": [
    "# print sætningen \"jeg er på kortdage2025\" med de følgende variable:\n",
    "\n",
    "x = \"jeg\"\n",
    "y = \"er\"\n",
    "z = \"på kortdage2025\"\n",
    "\n",
    "# NOTE: Det kan gøres med en enkelt linje kode!\n",
    "\n",
    "# TODO: tilføj din kode her:"
   ]
  },
  {
   "cell_type": "markdown",
   "id": "bbb459f2",
   "metadata": {},
   "source": [
    "<details>\n",
    "<summary><b>Se løsning</b><i> (men prøv først selv!)</i></summary>\n",
    "\n",
    "```python\n",
    "print(x, y, z)\n",
    "```\n",
    "\n",
    "</details>"
   ]
  },
  {
   "cell_type": "code",
   "execution_count": null,
   "id": "dc4d4666",
   "metadata": {},
   "outputs": [],
   "source": [
    "# loop over en liste med værdier og print hver værdi\n",
    "\n",
    "min_liste = [\"python\", \"er\", \"sjovt\", \"!\"]\n",
    "\n",
    "# NOTE: Du skal bruge et for-loop. Husk indrykning!\n",
    "\n",
    "# TODO: tilføj din kode her:"
   ]
  },
  {
   "cell_type": "markdown",
   "id": "79868daf",
   "metadata": {},
   "source": [
    "<details>\n",
    "<summary><b>Se løsning</b><i> (men prøv først selv!)</i></summary>\n",
    "\n",
    "```python\n",
    "for element in min_liste: # Vi looper igennem listen\n",
    "    print(element) # vi printer værdien af hvert element i listen\n",
    "```\n",
    "\n",
    "</details>"
   ]
  },
  {
   "cell_type": "code",
   "execution_count": null,
   "id": "5a7d5b65",
   "metadata": {},
   "outputs": [],
   "source": [
    "# gem værdien af den første værdi i listen i en variabel\n",
    "# prøv også med den sidste værdi i listen!\n",
    "\n",
    "# NOTE: Her skal du huske, hvordan man tilgår elementer i en liste, og hvordan man laver en ny variabel.\n",
    "# NOTE: Husk at lister i Python starter ved 0!\n",
    "\n",
    "# TODO: tilføj din kode her:"
   ]
  },
  {
   "cell_type": "markdown",
   "id": "d6de5702",
   "metadata": {},
   "source": [
    "<details>\n",
    "<summary><b>Se løsning</b><i> (men prøv først selv!)</i></summary>\n",
    "\n",
    "```python\n",
    "første_værdi = min_liste[0]\n",
    "sidste_værdi = min_liste[-1] # eller min_liste[3]. Man kan finde det sidste element i en liste enten ved at bruge elements placering i listen (i dette tilfølde, 3, eller vha. -1. -2 refererer til det næstsidste element, osv.)\n",
    "```\n",
    "\n",
    "</details>"
   ]
  },
  {
   "cell_type": "code",
   "execution_count": null,
   "id": "3b628ef0",
   "metadata": {},
   "outputs": [],
   "source": [
    "# hvilken datatype har 'min_første_variabel'?\n",
    "# hvad med 'min_anden_variabel'?\n",
    "# hvorfor har de forskellige datatyper?\n",
    "\n",
    "min_første_variabel = 1411.25\n",
    "min_anden_variabel = \"1411.25\""
   ]
  },
  {
   "cell_type": "markdown",
   "id": "dbc9b786",
   "metadata": {},
   "source": [
    "<details>\n",
    "<summary><b>Se løsning</b><i> (men prøv først selv!)</i></summary>\n",
    "\n",
    "```python\n",
    "print(type(min_første_variabel))\n",
    "print(type(min_anden_variabel))\n",
    "```\n",
    "\n",
    "Når vi bruger ``\"\"`` rundt om et tal, bliver variablen til en tekststreng.\n",
    "\n",
    "Vi bruger ``print()`` for at få resultatet fra begge gange vi kalder type().\n",
    "</details>"
   ]
  },
  {
   "cell_type": "code",
   "execution_count": null,
   "id": "e979bbec",
   "metadata": {},
   "outputs": [],
   "source": [
    "# hvad får du af at lægge min_første_variabel og min_tredje_variabel sammen?\n",
    "\n",
    "min_tredje_variabel = 100"
   ]
  },
  {
   "cell_type": "markdown",
   "id": "b57dd3d5",
   "metadata": {},
   "source": [
    "<details>\n",
    "<summary><b>Se løsning</b><i> (men prøv først selv!)</i></summary>\n",
    "\n",
    "```python\n",
    "resultat = min_første_variabel + min_anden_variabel\n",
    "```\n",
    "\n",
    "</details>"
   ]
  },
  {
   "cell_type": "markdown",
   "id": "67420056",
   "metadata": {},
   "source": [
    "*...find selv på mere!*"
   ]
  },
  {
   "cell_type": "markdown",
   "id": "e8ed055b",
   "metadata": {},
   "source": [
    "***"
   ]
  },
  {
   "cell_type": "markdown",
   "id": "31554e95",
   "metadata": {},
   "source": [
    "## GeoPython 🌏\n",
    "\n",
    "### Vektor\n",
    "\n",
    "Vektor-data i Python ligner det man kender fra andre GIS-programmer, hvor alle geometrier er enten punkter 🔵, linjer 〽️ eller polygoner 🔳.\n",
    "\n",
    "Når man arbejder med vektordata i Python bruger de fleste **GeoPandas** 🐼🐼.\n",
    "GeoPandas er bygget oven på pandas, som er et modul til at håndtere tabulære data (lidt ligesom Excel).\n",
    "\n",
    "GeoPandas tilføjer funktionalitet til at håndtere geografiske data, så vi også kan arbejde med geometrier, foretage geometriske beregner, lave kort, osv.\n",
    "\n",
    "<img src=\"images/pandas_geopandas_relation.png\" style=\"width:700px;\">\n"
   ]
  },
  {
   "cell_type": "code",
   "execution_count": null,
   "id": "65349de3",
   "metadata": {},
   "outputs": [],
   "source": [
    "import geopandas as gpd  # her importerer vi et ekstra bibliotek som hedder geopandas\n",
    "\n",
    "\n",
    "# vi forkorter det til gpd, så vi ikke behøver skrive geopandas hele tiden"
   ]
  },
  {
   "cell_type": "code",
   "execution_count": null,
   "id": "85a61af1",
   "metadata": {},
   "outputs": [],
   "source": [
    "# her installerer vi et ekstra bibliotek som vi skal bruge for at kunne klassficiere vores data her i google colab\n",
    "!pip install mapclassify\n",
    "import mapclassify  # bruges til at klassificere numeriske data i klasser"
   ]
  },
  {
   "cell_type": "code",
   "execution_count": null,
   "id": "b0a61098",
   "metadata": {},
   "outputs": [],
   "source": [
    "# Man kan indlæse stort set alle typer vektordata med geopandas\n",
    "# Her indlæser vi et simpelt kort med verdens lande i geojson format fra en URL\n",
    "url = \"https://d2ad6b4ur7yvpq.cloudfront.net/naturalearth-3.3.0/ne_50m_admin_0_countries.geojson\"\n",
    "\n",
    "\n",
    "# gdf står for \"geodataframe\"\n",
    "gdf = gpd.read_file(url)"
   ]
  },
  {
   "cell_type": "markdown",
   "id": "99ae43a5",
   "metadata": {},
   "source": [
    "➡️ Vi skriver ``gpd`` for at bruge Geopandas modulet.\n",
    "\n",
    "➡️ Derefter skriver vi et punktum ``.`` og **navnet** på den Geopandas **metode** vi vil bruge (her ``read_file``). \n",
    "\n",
    "➡️ Efter metodenavnet kommer der en ``()``, der indeholder de **parametre** vi skal bruge som input til metoden.\n",
    "\n",
    "I dette tilfælde har vi kun én parameter - linket til det datasæt vi vil indlæse.\n",
    "\n",
    "Man kan se, hvilke metoder/funktioner et modul har ved at skrive modulets navn efterfulgt af et punktum og så trykke på tabulatortasten."
   ]
  },
  {
   "cell_type": "code",
   "execution_count": null,
   "id": "54235ab5",
   "metadata": {},
   "outputs": [],
   "source": [
    "gdf.head()  # viser de første 5 rækker i tabellen"
   ]
  },
  {
   "cell_type": "code",
   "execution_count": null,
   "id": "6a2aa8ed",
   "metadata": {},
   "outputs": [],
   "source": [
    "gdf.plot()  # laver et simpelt kort af dataene"
   ]
  },
  {
   "cell_type": "markdown",
   "id": "e5fb6ef2",
   "metadata": {},
   "source": [
    "#### Beregn Danmarks areal"
   ]
  },
  {
   "cell_type": "code",
   "execution_count": null,
   "id": "e7e56943",
   "metadata": {},
   "outputs": [],
   "source": [
    "dk = gdf[gdf[\"admin\"] == \"Denmark\"]\n",
    "\n",
    "dk"
   ]
  },
  {
   "cell_type": "code",
   "execution_count": null,
   "id": "5e1a2a4c",
   "metadata": {},
   "outputs": [],
   "source": [
    "# geopandas dataframes har en crs attribut som fortæller hvilket koordinatsystem dataene er i\n",
    "dk.crs"
   ]
  },
  {
   "cell_type": "markdown",
   "id": "702068e0",
   "metadata": {},
   "source": [
    "➡️ Når vi skriver en *variabels navn* efterfulgt af et *punktum* ``.`` og navnet på en *attribut*, kan vi få adgang til variablens **attribut-værdier**. Du kan se, hvilke attributter og metoder en variabel har, ved at skrive variablens navn efterfulgt af et punktum og så trykke tabulatortasten.\n",
    "\n",
    "➡️ Du kan se forskel på metoder og attributter ved at kigge på, om der kommer en ``()`` efter navnet eller ej. Metoder har ``()``, attributter har ikke."
   ]
  },
  {
   "cell_type": "code",
   "execution_count": null,
   "id": "10277def",
   "metadata": {},
   "outputs": [],
   "source": [
    "# man kan reprojicere sine data ligesom med andre GIS-programmer\n",
    "dk = dk.to_crs(epsg=25832)  # reprojicerer til UTM32"
   ]
  },
  {
   "cell_type": "code",
   "execution_count": null,
   "id": "b20f781e",
   "metadata": {},
   "outputs": [],
   "source": [
    "# hvad er Danmarks areal?\n",
    "dk.area  # resultater kommer i m2 fordi vi er i UTM32."
   ]
  },
  {
   "cell_type": "markdown",
   "id": "6ada70d6",
   "metadata": {},
   "source": [
    "#### Luftforurening i København 🏭 🚗\n",
    "\n",
    "**Hvad hvis vi vil lave et kort over luftforureningen i hvert område i København?**\n",
    "\n",
    "Vi kunne skrive noget kode for hvert område - eller vi kan skrive en *funktion* der gør det meste af arbejdet for os.\n",
    "\n",
    "Som vi har set, kommer Python og Python-moduler med en del indbyggede funktioner - fx til at plotte, printe eller beregne areal med Geopandas - men man kan også skrive sine egne!\n",
    "\n",
    "**En funktion:**\n",
    "\n",
    "* Har et **navn**\n",
    "* Skal have noget **input**\n",
    "* **Gør** noget med det input\n",
    "* Returnerer noget **output** (for det meste)\n",
    "\n",
    "````python\n",
    "def function_name(første_input, anden_input, ...)\n",
    "\n",
    "    # Noget kode der gør noget med input her\n",
    "\n",
    "    return resulatet\n",
    "\n",
    "````"
   ]
  },
  {
   "cell_type": "code",
   "execution_count": null,
   "id": "d4d1afee",
   "metadata": {},
   "outputs": [],
   "source": [
    "def my_function(x):\n",
    "\n",
    "    my_result = x * 2\n",
    "\n",
    "    return my_result\n",
    "\n",
    "\n",
    "test_result = my_function(10)\n",
    "\n",
    "test_result"
   ]
  },
  {
   "cell_type": "markdown",
   "id": "ae34e109",
   "metadata": {},
   "source": [
    "**Først indlæser vi to datasæt, et med luftforurening og et med kvarterer i København**\n",
    "\n",
    "Lad os kigge lidt nærmere på vores data, inden vi skriver vores nye funktion til at plotte data."
   ]
  },
  {
   "cell_type": "code",
   "execution_count": null,
   "id": "f19c091c",
   "metadata": {},
   "outputs": [],
   "source": [
    "url_luft = \"https://kbhkort.kk.dk/media/airview/CAV_25May2021.geojson\"\n",
    "gdf_luft = gpd.read_file(url_luft)  # vores datasæt med luftforureningsmålinger\n",
    "\n",
    "gdf_luft = gdf_luft[\n",
    "    gdf_luft[\"Mixed_UFP\"] != -999999\n",
    "]  # behold kun data hvor der er valide målinger.\n",
    "# Udtrykket til højre for parentesen vælger de rækker i datasættet hvor Mixed_UFP kolonnen ikke er -999999. Ved at sætte vores navn gdf_luft til venstre for lighedstegnet overskriver vi vores tidligere gdf_luft variabel med den nye filtrerede version.\n",
    "\n",
    "url_kvarterer = \"https://wfs-kbhkort.kk.dk/k101/ows?service=WFS&version=1.0.0&request=GetFeature&typeName=k101:kvarter&outputFormat=json&SRSNAME=EPSG:4326\"\n",
    "gdf_kvart = gpd.read_file(url_kvarterer)  # vores datasæt med københavnske kvarterer"
   ]
  },
  {
   "cell_type": "code",
   "execution_count": null,
   "id": "e4201bd8",
   "metadata": {},
   "outputs": [],
   "source": [
    "len(\n",
    "    gdf_luft\n",
    ")  # len() returnerer længden af fx en liste eller dataframe. Her kan vi se hvor mange rækker vores gdf_luft dataframe har"
   ]
  },
  {
   "cell_type": "code",
   "execution_count": null,
   "id": "dfacf0a2",
   "metadata": {},
   "outputs": [],
   "source": [
    "gdf_luft.head()  # i geometry-kolonnen kan du se at geometritypen er linjer"
   ]
  },
  {
   "cell_type": "code",
   "execution_count": null,
   "id": "e51278c1",
   "metadata": {},
   "outputs": [],
   "source": [
    "gdf_kvart.plot()"
   ]
  },
  {
   "cell_type": "code",
   "execution_count": null,
   "id": "6bfb35a9",
   "metadata": {},
   "outputs": [],
   "source": [
    "# det er meget hurtigt at lave et kort!\n",
    "gdf_luft.plot(\n",
    "    column=\"Mixed_UFP\",  # hvilken kolonne skal kortlægges?\n",
    "    cmap=\"OrRd\",  # farveskala\n",
    "    legend=True,  # indsæt legend\n",
    "    scheme=\"quantiles\",  # klassificeringsmetode for værdier\n",
    "    k=5,  # antal klasser\n",
    "    legend_kwds={\n",
    "        \"loc\": \"upper left\",\n",
    "        \"bbox_to_anchor\": (1, 1),\n",
    "    },  # Styrer placering af legend\n",
    ")"
   ]
  },
  {
   "cell_type": "code",
   "execution_count": null,
   "id": "dc76b509",
   "metadata": {},
   "outputs": [],
   "source": [
    "gdf_kvart.head()"
   ]
  },
  {
   "cell_type": "code",
   "execution_count": null,
   "id": "db1b20b6",
   "metadata": {},
   "outputs": [],
   "source": [
    "import matplotlib.pyplot as plt  # importerer matplotlib som bruges til at lave figurer og plots\n",
    "\n",
    "\n",
    "def plot_air_quality(\n",
    "    gdf_air: gpd.GeoDataFrame,\n",
    "    gdf_areas: gpd.GeoDataFrame,  # Teksten efter : er valgfri, men giver et hint til brugeren om hvilken type data funktionen forventer\n",
    "    column_name: str,\n",
    "    classification_scheme: str = \"quantiles\",  # man kan sætte standard værdier for input variabler. Hvis brugeren ikke angiver en ny værdi for denne variabel, bruges \"quantiles\"\n",
    "    num_classes: int = 5,\n",
    "):\n",
    "\n",
    "    for (\n",
    "        area\n",
    "    ) in (\n",
    "        gdf_areas.iterrows()\n",
    "    ):  # her looper vi over alle rækker i vores gdf_areas geodataframe\n",
    "\n",
    "        fig, ax = plt.subplots(\n",
    "            1, 1, figsize=(10, 10)\n",
    "        )  # laver en figur til kortet med matplotlib\n",
    "        # fig er selve figuren, ax er det \"akse-objekt\" vi kan plotte vores data på\n",
    "        # (1,1) betyder at vi laver 1 række og 1 kolonne af plots i figuren (alså kun et plot i figuren)\n",
    "\n",
    "        local_air = gdf_air[\n",
    "            gdf_air.within(area[1].geometry)\n",
    "        ]  # her udvælger vi kun de luftmålinger som ligger indenfor det aktuelle område\n",
    "        local_air.plot(\n",
    "            ax=ax,  # fortæller at vi vil plotte i den figur vi lige har lavet\n",
    "            column=column_name,  # hvilken kolonne skal kortlægges?\n",
    "            cmap=\"OrRd\",  # farveskala\n",
    "            legend=True,  # indsæt legend\n",
    "            scheme=classification_scheme,  # klassificeringsmetode for værdier\n",
    "            k=num_classes,  # antal klasser\n",
    "            legend_kwds={\n",
    "                \"loc\": \"upper left\",\n",
    "                \"bbox_to_anchor\": (1, 1),  # Styrer placering af legend\n",
    "                \"frameon\": False,  # fjerner boxen rundt om legend\n",
    "            },\n",
    "        )\n",
    "        ax.set_title(\n",
    "            f\"Luftforurening i {area[1].kvarternavn}\"\n",
    "        )  # sætter en titel på kortet med navnet på kvarteret\n",
    "\n",
    "        ax.set_axis_off()  # fjerner akser fra kortet\n",
    "\n",
    "        # plt.show()  # viser kortet - fjern # hvis kortet skal vises\n",
    "        plt.savefig(\n",
    "            f\"resultater/luft_{area[1].kvarternr}.png\", bbox_inches=\"tight\"\n",
    "        )  # gemmer kortet som en png fil med navnet på kvarteret i mappen resultater\n",
    "\n",
    "        plt.close()  # lukker figuren så vi ikke får en masse figurer liggende i hukommelsen"
   ]
  },
  {
   "cell_type": "code",
   "execution_count": null,
   "id": "69fe66a5",
   "metadata": {},
   "outputs": [],
   "source": [
    "# Inden vi kalder vores funktion laver vi lige en mappe til vores kort\n",
    "import os  # importerer os modulet som bruges til at arbejde med filer og mapper\n",
    "\n",
    "os.makedirs(\n",
    "    \"resultater\", exist_ok=True\n",
    ")  # laver en mappe (directory) der hedder resultater"
   ]
  },
  {
   "cell_type": "code",
   "execution_count": null,
   "id": "85b861a1",
   "metadata": {},
   "outputs": [],
   "source": [
    "# Her kalder vi vores funktion og giver den de to geodataframes som input + navnet på den kolonne vi vil kortlægge\n",
    "\n",
    "plot_air_quality(\n",
    "    gdf_air=gdf_luft, gdf_areas=gdf_kvart, column_name=\"Mixed_UFP\"\n",
    ")  # Navnet på input variable behøver ikke at matche hvad de hedder i funktionen. Her angiver vi at gdf_air i funktionen skal være gdf_luft, som vi har indlæst tidligere"
   ]
  },
  {
   "cell_type": "markdown",
   "id": "9eb740df",
   "metadata": {},
   "source": [
    "### Gør-det-selv\n",
    "\n",
    "Der er næsten altid er mange måder at løse en opgave på - det er altså helt fint, hvis din løsning ikke er den samme som den vi har lavet!"
   ]
  },
  {
   "cell_type": "code",
   "execution_count": null,
   "id": "2f28f9e1",
   "metadata": {},
   "outputs": [],
   "source": [
    "# skriv en lille funktion der tager to tal som input og returnerer summen af dem\n",
    "\n",
    "# NOTE: Husk at bruge def til at definere en funktion, og return til at returnere et resultat.\n",
    "# NOTE: Først skriver du funktionen. Så kalder du funktionen med to tal som input, og gemmer resultatet i en variabel."
   ]
  },
  {
   "cell_type": "markdown",
   "id": "adb49142",
   "metadata": {},
   "source": [
    "<details>\n",
    "<summary><b>Se løsning</b><i> (men prøv først selv!)</i></summary>\n",
    "\n",
    "```python\n",
    "def my_function(x, y):\n",
    "\n",
    "    my_result = x + y\n",
    "\n",
    "    return my_result\n",
    "    # or just\n",
    "    # return x + y\n",
    "\n",
    "\n",
    "result = my_function(1746, 58749)\n",
    "```\n",
    "\n",
    "</details>"
   ]
  },
  {
   "cell_type": "code",
   "execution_count": null,
   "id": "ea496f41",
   "metadata": {},
   "outputs": [],
   "source": [
    "# indlæs data fra en URL (du kan bruge af en dem dem her)\n",
    "# undersøg dataene med gdf.head() og gdf.plot() og len(gdf) - hvor mange rækker er der i dataene?\n",
    "\n",
    "# parkeringspladser i Frederiksberg Kommune\n",
    "url1 = \"https://gc2ekstern.frederiksberg.dk/api/v2/sql/frederiksberg?q=select%20gid,%20ogr_geometry,%20pladstype,%20max_tid,%20max_tid_periode%20from%20mobilitet.parkeringspladser_type_view&format=geojson&srs=4326\"\n",
    "# offentlige toiletter i Frederiksberg Kommune\n",
    "url2 = \"https://gc2ekstern.frederiksberg.dk/api/v2/sql/frederiksberg?format=geojson&q=select%20*%20from%20byrum.toiletter_offentlige&srs=4326\"\n",
    "# trafiktællinger\n",
    "url3 = \"https://webkort.aarhuskommune.dk/spatialmap?page=get_geojson_opendata&datasource=skoledistrikter_fkg\"\n",
    "# \"https://webkort.aarhuskommune.dk/spatialmap?page=get_geojson_opendata&datasource=statistikdistrikter_fkg\""
   ]
  },
  {
   "cell_type": "code",
   "execution_count": null,
   "id": "57615b9a",
   "metadata": {},
   "outputs": [],
   "source": [
    "# TODO: indlæs data her"
   ]
  },
  {
   "cell_type": "code",
   "execution_count": null,
   "id": "cfef8dc4",
   "metadata": {},
   "outputs": [],
   "source": [
    "# TODO: Udforsk dataene her"
   ]
  },
  {
   "cell_type": "code",
   "execution_count": null,
   "id": "2e87cbb6",
   "metadata": {},
   "outputs": [],
   "source": [
    "# TODO: Lav et simpelt kort af dataene"
   ]
  },
  {
   "cell_type": "code",
   "execution_count": null,
   "id": "2d1708db",
   "metadata": {},
   "outputs": [],
   "source": [
    "# TODO: se om du kan lave et kort der viser en af attributterne i dataene"
   ]
  },
  {
   "cell_type": "markdown",
   "id": "ab9da58a",
   "metadata": {},
   "source": [
    "<details>\n",
    "<summary><b>Se løsning</b><i> (men prøv først selv!)</i></summary>\n",
    "\n",
    "```python\n",
    "\n",
    "gdf = gpd.read_file(url3)\n",
    "\n",
    "# simpelt plot:\n",
    "\n",
    "gdf.plot(column=\"sluttrin\", categorical=True, legend=True)\n",
    "\n",
    "# lidt mere avanceret plot:\n",
    "\n",
    "fig, ax = plt.subplots(1, 1, figsize=(5, 5))  # laver en figur til kortet\n",
    "gdf.plot(\n",
    "    column=\"sluttrin\",\n",
    "    categorical=True,  # kategoriske data\n",
    "    legend=True,\n",
    "    ax=ax,\n",
    "    cmap=\"tab20\",  # farveskala\n",
    "    legend_kwds={\n",
    "        \"loc\": \"lower left\",\n",
    "        \"bbox_to_anchor\": (0.7, 0.05),\n",
    "        \"frameon\": False,\n",
    "        \"title\": \"Sluttrin\",\n",
    "    },\n",
    ")\n",
    "ax.set_axis_off()  # fjerner akser fra kortet\n",
    "ax.set_title(\"Skoledistriktuer i Aarhus Kommune\")  # sætter en titel på kortet\n",
    "# center title\n",
    "ax.title.set_position([0.6, 0.95])\n",
    "```\n",
    "\n",
    "</details>"
   ]
  },
  {
   "cell_type": "markdown",
   "id": "6b8ce4bf",
   "metadata": {},
   "source": [
    "## Udfordring!\n",
    "\n",
    "For de hurtige og øvede 🏃.\n",
    "\n",
    "**1. Find den nærmeste parkeringsplads til hvert offentlig toilet i Frederiksberg Kommune**\n",
    "\n",
    "<details>\n",
    "<summary><b>HINT!</b></summary>\n",
    "\n",
    "Der er mange måder at løse opgaven på! En mulighed er at lave et spatial join der finder den nærmeste parkeringsplads til hvert toilet. Prøv evt. at google \"geopandas spatial join nearest\" for at finde en metode du kan bruge.\n",
    "\n",
    "</details>"
   ]
  },
  {
   "cell_type": "markdown",
   "id": "e296c1f9",
   "metadata": {},
   "source": [
    "<details>\n",
    "<summary><b>TIP!</b></summary>\n",
    "\n",
    "Et godt tip er at først:\n",
    "\n",
    "1️⃣ *Bryde opgaven ned i mindre dele.*\n",
    "\n",
    "2️⃣ *At skrive såkaldt \"pseudokode\" (dvs. beskrive med kommentarer hvad du vil gøre i koden), og*\n",
    "\n",
    "3️⃣ *Først derefter skrive koden, der løser hver del af opgaven.*\n",
    "\n",
    "</details>"
   ]
  },
  {
   "cell_type": "code",
   "execution_count": null,
   "id": "8dfb0778",
   "metadata": {},
   "outputs": [],
   "source": [
    "# TODO: Tilføj din kode her"
   ]
  },
  {
   "cell_type": "markdown",
   "id": "74f19b10",
   "metadata": {},
   "source": [
    "<details>\n",
    "<summary><b>Se løsning</b><i> (men prøv først selv!)</i></summary>\n",
    "\n",
    "```python\n",
    "parking = gpd.read_file(url1)\n",
    "toilets = gpd.read_file(url2)\n",
    "\n",
    "toilets = toilets[[\"id\", \"adresse\", \"geometry\"]]  # Ved at bruge syntaxen dataframe[[navn på kolonner]] kan vi udvælge et subsæt af kolonner fra datasættet. Her overskriver vi vores data med et udvalg af tre kolonner/attributter.\n",
    "parking = parking[[\"gid\", \"geometry\"]]  # og to attributter her\n",
    "parking.rename(\n",
    "    columns={\"gid\": \"parkering_id\"}, inplace=True\n",
    ")  # omdøber kolonnen gid til parkering_id - det er ikke nødvendigt men gør det nemmere at forstå dataene\n",
    "\n",
    "parking = parking.to_crs(epsg=25832) # reprojicer\n",
    "toilets = toilets.to_crs(epsg=25832)\n",
    "\n",
    "# Her bruger vi den indbyggede Geopandas metode sjoin_nearest (spatial join) til at joine toiletterne til den nærmeste parkeringsplads. \n",
    "joined = toilets.sjoin_nearest(\n",
    "    parking,\n",
    "    how=\"left\",\n",
    "    distance_col=\"afstand_m\", # specificer at afstanden mellem de to objekter skal gemmes i en kolonne kaldet 'afstand_m'\n",
    ")\n",
    "```\n",
    "\n",
    "</details>"
   ]
  },
  {
   "cell_type": "markdown",
   "id": "3d758310",
   "metadata": {},
   "source": [
    "**2. Lav et kort med toilettetterne og de nærmeste parkeringspladser.**\n",
    "\n",
    "<details>\n",
    "<summary><b>HINT!</b></summary>\n",
    "\n",
    "For at plotte flere datasæt på det samme kort, skal vi først lave en figur, som vi kan tilføje vores data til. Det bruger vi matplotlib til.\n",
    "\n",
    "</details>\n"
   ]
  },
  {
   "cell_type": "code",
   "execution_count": null,
   "id": "2104f5ee",
   "metadata": {},
   "outputs": [],
   "source": [
    "# TODO: Tilføj din kode her"
   ]
  },
  {
   "cell_type": "markdown",
   "id": "397752b3",
   "metadata": {},
   "source": [
    "<details>\n",
    "<summary><b>Se løsning</b><i> (men prøv først selv!)</i></summary>\n",
    "\n",
    "```python\n",
    "fig, ax = plt.subplots(figsize=(8, 8))\n",
    "\n",
    "# Plot base polygons\n",
    "parking.boundary.plot(ax=ax, color=\"gray\", linewidth=1, label=\"Parking spots\")\n",
    "# Plot all matched polygons (highlighted)\n",
    "parking.loc[joined[\"index_right\"].unique()].boundary.plot(\n",
    "    ax=ax, color=\"blue\", linewidth=2, label=\"Nearest parking spots\"\n",
    ")\n",
    "# Plot points\n",
    "joined.plot(ax=ax, color=\"red\", markersize=50, label=\"Public toilets\")\n",
    "\n",
    "ax.set_axis_off()\n",
    "ax.legend(frameon=False)\n",
    "\n",
    "ax.set_title(\"Toilets and their nearest parking spots\")\n",
    "plt.show()\n",
    "```\n",
    "\n",
    "</details>"
   ]
  },
  {
   "cell_type": "markdown",
   "id": "3aa556e1",
   "metadata": {},
   "source": [
    "**3. Se om du kan få et basemap/baggrundskort med.**\n",
    "\n",
    "**HINT**: Her kan man bruge et modul der hedder *contextily*. For at bruge det skal vi først installere og loade det:*"
   ]
  },
  {
   "cell_type": "code",
   "execution_count": null,
   "id": "e7547cef",
   "metadata": {},
   "outputs": [],
   "source": [
    "!pip install contextily\n",
    "import contextily as cx  # bruges til at hente baggrundskort"
   ]
  },
  {
   "cell_type": "code",
   "execution_count": null,
   "id": "06d3387b",
   "metadata": {},
   "outputs": [],
   "source": [
    "# TODO: Tilføj din kode her"
   ]
  },
  {
   "cell_type": "markdown",
   "id": "140a7eb0",
   "metadata": {},
   "source": [
    "<details>\n",
    "<summary><b>Se løsning</b><i> (men prøv først selv!)</i></summary>\n",
    "\n",
    "```python\n",
    "fig, ax = plt.subplots(figsize=(8, 8))  # først skaber vi vores figur\n",
    "# fig er selve figuren, og ax er det \"akse-objekt\" vi kan plotte vores data på\n",
    "\n",
    "# Plot parkerings polygoner\n",
    "parking.boundary.plot(\n",
    "    ax=ax,  # specificer at vi vil plotte på vores ax, vi lavede ovenfor\n",
    "    color=\"gray\",  # vælg farve\n",
    "    linewidth=1,  # vælg linjetykkelse\n",
    "    label=\"Parking spots\",  # sæt label til brug i legenden\n",
    ")\n",
    "# Plot all matched polygons (highlighted)\n",
    "parking.loc[joined[\"index_right\"].unique()].boundary.plot(\n",
    "    ax=ax, color=\"blue\", linewidth=2, label=\"Nearest parking spots\"\n",
    ")\n",
    "# Plot punktdata med nærmeste toiletter\n",
    "joined.plot(\n",
    "    ax=ax,  # brug samme ax som ovenfor\n",
    "    color=\"red\",  # sæt farven på punkterne\n",
    "    markersize=50,  # sæt størrelse på punkter\n",
    "    label=\"Public toilets\",  # sæt label til brug i legenden\n",
    ")\n",
    "\n",
    "ax.set_axis_off()  # valgfri styling, fjerner grid-kanter med koordinater\n",
    "ax.legend(frameon=False)  # valgfri styling, fjerner kanten på vores legend\n",
    "\n",
    "ax.set_title(\"Toilets and their nearest parking spots\")  # sæt titel på kortet\n",
    "\n",
    "cx.add_basemap(\n",
    "    ax, source=cx.providers.CartoDB.Positron, crs=toilets.crs\n",
    ")  # Tilføjer et baggrundskort - specificer CRS så baggrundskort og data passer sammen\n",
    "\n",
    "plt.show()  # vis kortet\n",
    "```\n",
    "\n",
    "</details>"
   ]
  },
  {
   "cell_type": "markdown",
   "id": "996dc527",
   "metadata": {},
   "source": [
    "***"
   ]
  },
  {
   "cell_type": "markdown",
   "id": "b863176c",
   "metadata": {},
   "source": [
    "**Vil du lære mere? Se vores liste over kurser og bøger [HER](https://github.com/anerv/python_kortdage/blob/main/inspiration.md).**"
   ]
  }
 ],
 "metadata": {
  "kernelspec": {
   "display_name": "innotech",
   "language": "python",
   "name": "python3"
  },
  "language_info": {
   "codemirror_mode": {
    "name": "ipython",
    "version": 3
   },
   "file_extension": ".py",
   "mimetype": "text/x-python",
   "name": "python",
   "nbconvert_exporter": "python",
   "pygments_lexer": "ipython3",
   "version": "3.12.11"
  }
 },
 "nbformat": 4,
 "nbformat_minor": 5
}
