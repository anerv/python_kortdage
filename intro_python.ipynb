{
 "cells": [
  {
   "cell_type": "markdown",
   "id": "3acd57b9",
   "metadata": {},
   "source": [
    "<div style=\"text-align: center;\">\n",
    "<img src=\"images/python-logo.png\" alt=\"python_logo\" width=20% >\n",
    "\n",
    "# Kortdage 2025: Introduktion til Python\n",
    "\n",
    "</div>\n",
    "\n",
    "Formålet med workshoppen er at give en introduktion til, hvordan man kan arbejde med geodata i Python 🐍.\n",
    "\n",
    "Vi starter med en hurtigt introduktion til Python. Dernæst skal vi se eksempler på at arbejde med både vektor og rasterdata.\n",
    "\n",
    "Der vil undervejs være lidt øvelser i, hvad vi har lært - og er du hurtigt igennem, kan du give dig i kast med udfordringen nederst! \n",
    "\n",
    "Er du helt ny til Python kan læringskurven være stejl! ⛰️\n",
    "Men fortvivl ikke, hvis det er forvirrende i starten - det tager tid at lære et helt nyt 'sprog' - og du kan altid komme tilbage til kursusmaterialerne, hvis du har brug for at brug for at genopfriske noget.\n",
    "\n",
    "**Indhold:**\n",
    "\n",
    "* [Introduktion til Python](#introduktion-til-python)\n",
    "* [Vektordata og Geopandas](#vektor)\n",
    "* [Udfordring](#udfordring)\n",
    "* Rasterdata med Python (separat notebook)\n",
    "\n",
    "\n",
    "Målsætningen med i dag er at komme *i gang* med Python - men det kræver mere end et par timer at lære alle de grundlæggende funktioner!\n",
    "\n",
    "For en grundigere introduktion til Python, se nogle af de materialer vi har linket til [HER](https://github.com/anerv/python_kortdage/blob/main/inspiration.md).\n",
    "\n",
    "*Workshoppen er baseret på materialer fra bl.a. [PythonCrashCourse](https://github.com/anastassiavybornova/pythoncrashcourse), [GeoPython](https://geo-python-site.readthedocs.io/en/latest/index.html) og [PythonGIS](https://pythongis.org/index.html).*"
   ]
  },
  {
   "cell_type": "markdown",
   "id": "d2355ef5",
   "metadata": {},
   "source": [
    "## ❓Hvorfor kode?\n",
    "\n",
    "Man kan gøre sådan ca. det samme med Python som et almindeligt desktop GIS-program, men kodning er særlig velegnet til:\n",
    "\n",
    "* *Store datasæt*.\n",
    "* *Automatisering*.\n",
    "* *Opgaver, der skal gentages igen og igen*.\n",
    "\n",
    "Kodning hjælper os også med at *dokumentere* vores arbejde (med Python skriver du automatisk alle dine analyse-skridt ned!).\n",
    "\n",
    "Når man først har lært det grundlæggende, er det ofte også *hurtigere* end at skulle klikke rundt i et desktop-program.\n",
    "\n",
    "\n",
    "## ❓Hvorfor Python?\n",
    "\n",
    "* Et af de mest udbredte programmeringssprog - også inden for GIS og geodata 🌐\n",
    "* Relativt nemt at lære - selvom det ikke altid føles sådan i begyndelsen! 😩"
   ]
  },
  {
   "cell_type": "markdown",
   "id": "40c2fcec",
   "metadata": {},
   "source": [
    "## 💻 Installation osv.\n",
    "\n",
    "Det kan være lidt tricky første gang man skal installere Python. På denne her workshop bruger vi Google Colab så vi slipper for installationen. \n",
    "\n",
    "Hvis du skal installere Python på et senere tidspunkt, kan du finde en guide her: https://pythongis.org/part1/chapter-01/nb/06-installation.html.\n",
    "\n",
    "\n",
    "<details>\n",
    "<summary><b>Valg af software til Python</b></summary>\n",
    "\n",
    "Python er et programmeringssprog, der ikke hører til én bestemt software. Der er derfor mange måde at køre Python-kode på! \n",
    "\n",
    "Man kan fx bruge et program, designet til at skrive og køre kode (en IDE), køre sin kode i sin browser med Jupyter Lab eller Google Colab, eller bruge den indbyggede Python-konsol i fx. QGIS.\n",
    "\n",
    "Vi anbefaler at arbejde i en IDE, fx Visual Studio Code, hvor programmet også kan hjælpe en med syntax og version control.\n",
    "\n",
    "</details>\n",
    "\n"
   ]
  },
  {
   "cell_type": "markdown",
   "id": "5c00f2bb",
   "metadata": {},
   "source": [
    "***\n",
    "\n",
    "##  ✨ Introduktion til Python ✨\n",
    "\n",
    "Filen her er en [Jupyter Notebook](https://jupyter.org/). Notebooks er interaktive filer, der gør det muligt at køre kode og få vist resultatet i den samme fil.\n",
    "\n",
    "### Python som lommeregner ✖️➗➖➕\n",
    "\n",
    "En af de mest simple anvendelser af Python er som en lommeregner:"
   ]
  },
  {
   "cell_type": "code",
   "execution_count": 1,
   "id": "05a6af9d",
   "metadata": {},
   "outputs": [],
   "source": [
    "# Vi kan bruge Python til at lave simple beregninger\n",
    "# Det her er forresten en \"kommentar\" - hvis man sætter et # foran en linje, så bliver den ignoreret af Python\n",
    "# Kommentarer er gode til at forklare hvad koden gør\n",
    "\n",
    "# \"Boksen\" her er en celle - det er her vi skriver vores kode\n",
    "# For at køre koden i en celle, tryk Shift + Enter"
   ]
  },
  {
   "cell_type": "code",
   "execution_count": 3,
   "id": "8a0c87a7",
   "metadata": {},
   "outputs": [
    {
     "data": {
      "text/plain": [
       "4"
      ]
     },
     "execution_count": 3,
     "metadata": {},
     "output_type": "execute_result"
    }
   ],
   "source": [
    "# Plus\n",
    "\n",
    "2 + 2"
   ]
  },
  {
   "cell_type": "code",
   "execution_count": 4,
   "id": "2ee7108c",
   "metadata": {},
   "outputs": [
    {
     "data": {
      "text/plain": [
       "8"
      ]
     },
     "execution_count": 4,
     "metadata": {},
     "output_type": "execute_result"
    }
   ],
   "source": [
    "# Minus\n",
    "\n",
    "10 - 2"
   ]
  },
  {
   "cell_type": "code",
   "execution_count": 5,
   "id": "f3f8d96a",
   "metadata": {},
   "outputs": [
    {
     "data": {
      "text/plain": [
       "15"
      ]
     },
     "execution_count": 5,
     "metadata": {},
     "output_type": "execute_result"
    }
   ],
   "source": [
    "# Gange\n",
    "\n",
    "5 * 3"
   ]
  },
  {
   "cell_type": "code",
   "execution_count": 6,
   "id": "3a08cb40",
   "metadata": {},
   "outputs": [
    {
     "data": {
      "text/plain": [
       "5.0"
      ]
     },
     "execution_count": 6,
     "metadata": {},
     "output_type": "execute_result"
    }
   ],
   "source": [
    "# Dividere\n",
    "\n",
    "20 / 4"
   ]
  },
  {
   "cell_type": "markdown",
   "id": "cb3470a5",
   "metadata": {},
   "source": [
    "Vil vi lave mere komplicerede udregninger har vi brug for modulet `math`.\n",
    "\n",
    "* Python moduler er som \"apps\" til din telefon - de tilføjer ekstra funktionalitet til Python og vi slipper for at skulle skrive al kode helt fra bunden.\n",
    "* Vi kan importere et modul med kommandoen \"import\" og så navnet på modulet.\n",
    "* Nogen moduler er indbygget i Python, andre skal installeres først."
   ]
  },
  {
   "cell_type": "code",
   "execution_count": 3,
   "id": "073f5d9c",
   "metadata": {},
   "outputs": [
    {
     "data": {
      "text/plain": [
       "4.0"
      ]
     },
     "execution_count": 3,
     "metadata": {},
     "output_type": "execute_result"
    }
   ],
   "source": [
    "import math  # math er et indbygget modul, så det behøver vi ikke installere først\n",
    "\n",
    "# Kvadratrod\n",
    "math.sqrt(16)"
   ]
  },
  {
   "cell_type": "markdown",
   "id": "406a73df",
   "metadata": {},
   "source": [
    "### Datatyper i Python\n",
    "\n",
    "* Python har flere forskellige *typer* af data.\n",
    "* Hver type har forskellige metoder og egenskaber.\n",
    "* De vigtigste er **integer** (heltal), **float** (decimaltal), **string** (tekst) og **boolean** (True/False)."
   ]
  },
  {
   "cell_type": "code",
   "execution_count": 2,
   "id": "379b4279",
   "metadata": {},
   "outputs": [
    {
     "data": {
      "text/plain": [
       "int"
      ]
     },
     "execution_count": 2,
     "metadata": {},
     "output_type": "execute_result"
    }
   ],
   "source": [
    "# integer - hele tal\n",
    "\n",
    "# man kan se typen af en variabel med metoden type()\n",
    "\n",
    "type(5)"
   ]
  },
  {
   "cell_type": "code",
   "execution_count": 9,
   "id": "651ec3fd",
   "metadata": {},
   "outputs": [
    {
     "data": {
      "text/plain": [
       "float"
      ]
     },
     "execution_count": 9,
     "metadata": {},
     "output_type": "execute_result"
    }
   ],
   "source": [
    "type(2.5)"
   ]
  },
  {
   "cell_type": "code",
   "execution_count": 10,
   "id": "6f4dd13f",
   "metadata": {},
   "outputs": [
    {
     "data": {
      "text/plain": [
       "str"
      ]
     },
     "execution_count": 10,
     "metadata": {},
     "output_type": "execute_result"
    }
   ],
   "source": [
    "type(\"hej!\")"
   ]
  },
  {
   "cell_type": "code",
   "execution_count": 11,
   "id": "bc5c2ca9",
   "metadata": {},
   "outputs": [
    {
     "data": {
      "text/plain": [
       "str"
      ]
     },
     "execution_count": 11,
     "metadata": {},
     "output_type": "execute_result"
    }
   ],
   "source": [
    "# det her er også en string\n",
    "type(\"2\")"
   ]
  },
  {
   "cell_type": "code",
   "execution_count": 12,
   "id": "6fa5b897",
   "metadata": {},
   "outputs": [
    {
     "data": {
      "text/plain": [
       "bool"
      ]
     },
     "execution_count": 12,
     "metadata": {},
     "output_type": "execute_result"
    }
   ],
   "source": [
    "type(True)"
   ]
  },
  {
   "cell_type": "markdown",
   "id": "55c24113",
   "metadata": {},
   "source": [
    "Datatyper er bl.a. vigtige, da de afgør, hvad der sker når vi arbejder med vores variable.\n",
    "\n",
    "Man kan fx plusse både tal og tekst, men med meget forskellige resultater!"
   ]
  },
  {
   "cell_type": "code",
   "execution_count": 13,
   "id": "2f56a5e0",
   "metadata": {},
   "outputs": [
    {
     "data": {
      "text/plain": [
       "12"
      ]
     },
     "execution_count": 13,
     "metadata": {},
     "output_type": "execute_result"
    }
   ],
   "source": [
    "2 + 10"
   ]
  },
  {
   "cell_type": "code",
   "execution_count": 14,
   "id": "1b656981",
   "metadata": {},
   "outputs": [
    {
     "data": {
      "text/plain": [
       "'hej med dig'"
      ]
     },
     "execution_count": 14,
     "metadata": {},
     "output_type": "execute_result"
    }
   ],
   "source": [
    "\"hej\" + \" med dig\""
   ]
  },
  {
   "cell_type": "markdown",
   "id": "ad615c29",
   "metadata": {},
   "source": [
    "Hvad sker der hvis man blander datatyper?"
   ]
  },
  {
   "cell_type": "code",
   "execution_count": 15,
   "id": "8b798a0b",
   "metadata": {},
   "outputs": [
    {
     "ename": "TypeError",
     "evalue": "unsupported operand type(s) for +: 'int' and 'str'",
     "output_type": "error",
     "traceback": [
      "\u001b[31m---------------------------------------------------------------------------\u001b[39m",
      "\u001b[31mTypeError\u001b[39m                                 Traceback (most recent call last)",
      "\u001b[36mCell\u001b[39m\u001b[36m \u001b[39m\u001b[32mIn[15]\u001b[39m\u001b[32m, line 1\u001b[39m\n\u001b[32m----> \u001b[39m\u001b[32m1\u001b[39m \u001b[32;43m2\u001b[39;49m\u001b[43m \u001b[49m\u001b[43m+\u001b[49m\u001b[43m \u001b[49m\u001b[33;43m\"\u001b[39;49m\u001b[33;43mhej\u001b[39;49m\u001b[33;43m\"\u001b[39;49m\n",
      "\u001b[31mTypeError\u001b[39m: unsupported operand type(s) for +: 'int' and 'str'"
     ]
    }
   ],
   "source": [
    "2 + \"hej\""
   ]
  },
  {
   "cell_type": "markdown",
   "id": "1d508991",
   "metadata": {},
   "source": [
    "Cellen ovenfor giver os en **fejlmeddelelse**. Hvis der er fejl i vores kode, der gør at Python ikke kan forstå vores kode, kommer der altid en fejlmeddelse.\n",
    "\n",
    "Fejlmeddelsen giver os et hint om, hvad fejlen er. Her får vi fx en ``TypeError``, og får at vide at man ikke kan lægge et integer tal og en tekststreng sammen."
   ]
  },
  {
   "cell_type": "markdown",
   "id": "8204fc1c",
   "metadata": {
    "vscode": {
     "languageId": "plaintext"
    }
   },
   "source": [
    "### Variable i Python\n",
    "\n",
    "En Python variabel er en \"beholder\" der kan indeholde data.\n",
    "\n",
    "Man bestemmer selv navnet på variablen *(variabel-navne kan dog kun indeholde tal, bogstaver og _, og de må ikke starte med et tal*).\n",
    "\n",
    "En variabel skrives som `navn` = `værdi`.\n",
    "\n",
    "Fx: `min_variabel = 2025`\n",
    "\n",
    "* `min_variabel` er *navnet* på variablen.\n",
    "* `=` er den *operator* vi bruger til at koble navn og værdi.\n",
    "* `2025` er *værdien* af vores variabel.\n",
    "\n",
    "Variablen med navnet `min_variabel` indeholder nu en *pointer* der peger på værdien `2025` i din computers hukommelse.\n"
   ]
  },
  {
   "cell_type": "code",
   "execution_count": 16,
   "id": "6b3cb1a0",
   "metadata": {},
   "outputs": [],
   "source": [
    "min_variabel = 2025"
   ]
  },
  {
   "cell_type": "code",
   "execution_count": 17,
   "id": "fa1265b7",
   "metadata": {},
   "outputs": [
    {
     "name": "stdout",
     "output_type": "stream",
     "text": [
      "2025\n"
     ]
    }
   ],
   "source": [
    "# Hvis man vil se hvad der er i en variabel kan man printe den!\n",
    "print(min_variabel)"
   ]
  },
  {
   "cell_type": "code",
   "execution_count": 18,
   "id": "7876744c",
   "metadata": {},
   "outputs": [
    {
     "name": "stdout",
     "output_type": "stream",
     "text": [
      "kortdage2025\n"
     ]
    }
   ],
   "source": [
    "# man kan overskrive værdien i en variabel\n",
    "min_variabel = \"kortdage2025\"\n",
    "\n",
    "print(min_variabel)"
   ]
  },
  {
   "cell_type": "markdown",
   "id": "6520d19c",
   "metadata": {},
   "source": [
    "Fordi vi arbejder i en **Jupyter Notebook** får vi automatisk printet resultaterne af den sidste beregning i hver celle ✏️. \n",
    "\n",
    "Hvis vi vil printe mere end den sidste udregning (eller arbejder i en standard *.py* Pythonfil) skal vi eksplicit bede Python om at printe resultatet:"
   ]
  },
  {
   "cell_type": "code",
   "execution_count": 19,
   "id": "0a4c2515",
   "metadata": {},
   "outputs": [
    {
     "data": {
      "text/plain": [
       "4"
      ]
     },
     "execution_count": 19,
     "metadata": {},
     "output_type": "execute_result"
    }
   ],
   "source": [
    "13 + 14 + 15\n",
    "\n",
    "2 + 2"
   ]
  },
  {
   "cell_type": "code",
   "execution_count": 20,
   "id": "bd20068a",
   "metadata": {},
   "outputs": [
    {
     "name": "stdout",
     "output_type": "stream",
     "text": [
      "42\n",
      "4\n"
     ]
    }
   ],
   "source": [
    "print(13 + 14 + 15)\n",
    "\n",
    "print(2 + 2)"
   ]
  },
  {
   "cell_type": "markdown",
   "id": "cbad9734",
   "metadata": {},
   "source": [
    "Hvis du vil vide mere om, hvordan noget virker kan du altid bede om hjælp! 🆘"
   ]
  },
  {
   "cell_type": "code",
   "execution_count": 21,
   "id": "e18e1d9f",
   "metadata": {},
   "outputs": [
    {
     "name": "stdout",
     "output_type": "stream",
     "text": [
      "Help on built-in function print in module builtins:\n",
      "\n",
      "print(*args, sep=' ', end='\\n', file=None, flush=False)\n",
      "    Prints the values to a stream, or to sys.stdout by default.\n",
      "\n",
      "    sep\n",
      "      string inserted between values, default a space.\n",
      "    end\n",
      "      string appended after the last value, default a newline.\n",
      "    file\n",
      "      a file-like object (stream); defaults to the current sys.stdout.\n",
      "    flush\n",
      "      whether to forcibly flush the stream.\n",
      "\n"
     ]
    }
   ],
   "source": [
    "help(print)"
   ]
  },
  {
   "cell_type": "code",
   "execution_count": 22,
   "id": "d43be19b",
   "metadata": {},
   "outputs": [
    {
     "name": "stdout",
     "output_type": "stream",
     "text": [
      "Help on class str in module builtins:\n",
      "\n",
      "class str(object)\n",
      " |  str(object='') -> str\n",
      " |  str(bytes_or_buffer[, encoding[, errors]]) -> str\n",
      " |\n",
      " |  Create a new string object from the given object. If encoding or\n",
      " |  errors is specified, then the object must expose a data buffer\n",
      " |  that will be decoded using the given encoding and error handler.\n",
      " |  Otherwise, returns the result of object.__str__() (if defined)\n",
      " |  or repr(object).\n",
      " |  encoding defaults to sys.getdefaultencoding().\n",
      " |  errors defaults to 'strict'.\n",
      " |\n",
      " |  Methods defined here:\n",
      " |\n",
      " |  __add__(self, value, /)\n",
      " |      Return self+value.\n",
      " |\n",
      " |  __contains__(self, key, /)\n",
      " |      Return bool(key in self).\n",
      " |\n",
      " |  __eq__(self, value, /)\n",
      " |      Return self==value.\n",
      " |\n",
      " |  __format__(self, format_spec, /)\n",
      " |      Return a formatted version of the string as described by format_spec.\n",
      " |\n",
      " |  __ge__(self, value, /)\n",
      " |      Return self>=value.\n",
      " |\n",
      " |  __getitem__(self, key, /)\n",
      " |      Return self[key].\n",
      " |\n",
      " |  __getnewargs__(...)\n",
      " |\n",
      " |  __gt__(self, value, /)\n",
      " |      Return self>value.\n",
      " |\n",
      " |  __hash__(self, /)\n",
      " |      Return hash(self).\n",
      " |\n",
      " |  __iter__(self, /)\n",
      " |      Implement iter(self).\n",
      " |\n",
      " |  __le__(self, value, /)\n",
      " |      Return self<=value.\n",
      " |\n",
      " |  __len__(self, /)\n",
      " |      Return len(self).\n",
      " |\n",
      " |  __lt__(self, value, /)\n",
      " |      Return self<value.\n",
      " |\n",
      " |  __mod__(self, value, /)\n",
      " |      Return self%value.\n",
      " |\n",
      " |  __mul__(self, value, /)\n",
      " |      Return self*value.\n",
      " |\n",
      " |  __ne__(self, value, /)\n",
      " |      Return self!=value.\n",
      " |\n",
      " |  __repr__(self, /)\n",
      " |      Return repr(self).\n",
      " |\n",
      " |  __rmod__(self, value, /)\n",
      " |      Return value%self.\n",
      " |\n",
      " |  __rmul__(self, value, /)\n",
      " |      Return value*self.\n",
      " |\n",
      " |  __sizeof__(self, /)\n",
      " |      Return the size of the string in memory, in bytes.\n",
      " |\n",
      " |  __str__(self, /)\n",
      " |      Return str(self).\n",
      " |\n",
      " |  capitalize(self, /)\n",
      " |      Return a capitalized version of the string.\n",
      " |\n",
      " |      More specifically, make the first character have upper case and the rest lower\n",
      " |      case.\n",
      " |\n",
      " |  casefold(self, /)\n",
      " |      Return a version of the string suitable for caseless comparisons.\n",
      " |\n",
      " |  center(self, width, fillchar=' ', /)\n",
      " |      Return a centered string of length width.\n",
      " |\n",
      " |      Padding is done using the specified fill character (default is a space).\n",
      " |\n",
      " |  count(...)\n",
      " |      S.count(sub[, start[, end]]) -> int\n",
      " |\n",
      " |      Return the number of non-overlapping occurrences of substring sub in\n",
      " |      string S[start:end].  Optional arguments start and end are\n",
      " |      interpreted as in slice notation.\n",
      " |\n",
      " |  encode(self, /, encoding='utf-8', errors='strict')\n",
      " |      Encode the string using the codec registered for encoding.\n",
      " |\n",
      " |      encoding\n",
      " |        The encoding in which to encode the string.\n",
      " |      errors\n",
      " |        The error handling scheme to use for encoding errors.\n",
      " |        The default is 'strict' meaning that encoding errors raise a\n",
      " |        UnicodeEncodeError.  Other possible values are 'ignore', 'replace' and\n",
      " |        'xmlcharrefreplace' as well as any other name registered with\n",
      " |        codecs.register_error that can handle UnicodeEncodeErrors.\n",
      " |\n",
      " |  endswith(...)\n",
      " |      S.endswith(suffix[, start[, end]]) -> bool\n",
      " |\n",
      " |      Return True if S ends with the specified suffix, False otherwise.\n",
      " |      With optional start, test S beginning at that position.\n",
      " |      With optional end, stop comparing S at that position.\n",
      " |      suffix can also be a tuple of strings to try.\n",
      " |\n",
      " |  expandtabs(self, /, tabsize=8)\n",
      " |      Return a copy where all tab characters are expanded using spaces.\n",
      " |\n",
      " |      If tabsize is not given, a tab size of 8 characters is assumed.\n",
      " |\n",
      " |  find(...)\n",
      " |      S.find(sub[, start[, end]]) -> int\n",
      " |\n",
      " |      Return the lowest index in S where substring sub is found,\n",
      " |      such that sub is contained within S[start:end].  Optional\n",
      " |      arguments start and end are interpreted as in slice notation.\n",
      " |\n",
      " |      Return -1 on failure.\n",
      " |\n",
      " |  format(...)\n",
      " |      S.format(*args, **kwargs) -> str\n",
      " |\n",
      " |      Return a formatted version of S, using substitutions from args and kwargs.\n",
      " |      The substitutions are identified by braces ('{' and '}').\n",
      " |\n",
      " |  format_map(...)\n",
      " |      S.format_map(mapping) -> str\n",
      " |\n",
      " |      Return a formatted version of S, using substitutions from mapping.\n",
      " |      The substitutions are identified by braces ('{' and '}').\n",
      " |\n",
      " |  index(...)\n",
      " |      S.index(sub[, start[, end]]) -> int\n",
      " |\n",
      " |      Return the lowest index in S where substring sub is found,\n",
      " |      such that sub is contained within S[start:end].  Optional\n",
      " |      arguments start and end are interpreted as in slice notation.\n",
      " |\n",
      " |      Raises ValueError when the substring is not found.\n",
      " |\n",
      " |  isalnum(self, /)\n",
      " |      Return True if the string is an alpha-numeric string, False otherwise.\n",
      " |\n",
      " |      A string is alpha-numeric if all characters in the string are alpha-numeric and\n",
      " |      there is at least one character in the string.\n",
      " |\n",
      " |  isalpha(self, /)\n",
      " |      Return True if the string is an alphabetic string, False otherwise.\n",
      " |\n",
      " |      A string is alphabetic if all characters in the string are alphabetic and there\n",
      " |      is at least one character in the string.\n",
      " |\n",
      " |  isascii(self, /)\n",
      " |      Return True if all characters in the string are ASCII, False otherwise.\n",
      " |\n",
      " |      ASCII characters have code points in the range U+0000-U+007F.\n",
      " |      Empty string is ASCII too.\n",
      " |\n",
      " |  isdecimal(self, /)\n",
      " |      Return True if the string is a decimal string, False otherwise.\n",
      " |\n",
      " |      A string is a decimal string if all characters in the string are decimal and\n",
      " |      there is at least one character in the string.\n",
      " |\n",
      " |  isdigit(self, /)\n",
      " |      Return True if the string is a digit string, False otherwise.\n",
      " |\n",
      " |      A string is a digit string if all characters in the string are digits and there\n",
      " |      is at least one character in the string.\n",
      " |\n",
      " |  isidentifier(self, /)\n",
      " |      Return True if the string is a valid Python identifier, False otherwise.\n",
      " |\n",
      " |      Call keyword.iskeyword(s) to test whether string s is a reserved identifier,\n",
      " |      such as \"def\" or \"class\".\n",
      " |\n",
      " |  islower(self, /)\n",
      " |      Return True if the string is a lowercase string, False otherwise.\n",
      " |\n",
      " |      A string is lowercase if all cased characters in the string are lowercase and\n",
      " |      there is at least one cased character in the string.\n",
      " |\n",
      " |  isnumeric(self, /)\n",
      " |      Return True if the string is a numeric string, False otherwise.\n",
      " |\n",
      " |      A string is numeric if all characters in the string are numeric and there is at\n",
      " |      least one character in the string.\n",
      " |\n",
      " |  isprintable(self, /)\n",
      " |      Return True if all characters in the string are printable, False otherwise.\n",
      " |\n",
      " |      A character is printable if repr() may use it in its output.\n",
      " |\n",
      " |  isspace(self, /)\n",
      " |      Return True if the string is a whitespace string, False otherwise.\n",
      " |\n",
      " |      A string is whitespace if all characters in the string are whitespace and there\n",
      " |      is at least one character in the string.\n",
      " |\n",
      " |  istitle(self, /)\n",
      " |      Return True if the string is a title-cased string, False otherwise.\n",
      " |\n",
      " |      In a title-cased string, upper- and title-case characters may only\n",
      " |      follow uncased characters and lowercase characters only cased ones.\n",
      " |\n",
      " |  isupper(self, /)\n",
      " |      Return True if the string is an uppercase string, False otherwise.\n",
      " |\n",
      " |      A string is uppercase if all cased characters in the string are uppercase and\n",
      " |      there is at least one cased character in the string.\n",
      " |\n",
      " |  join(self, iterable, /)\n",
      " |      Concatenate any number of strings.\n",
      " |\n",
      " |      The string whose method is called is inserted in between each given string.\n",
      " |      The result is returned as a new string.\n",
      " |\n",
      " |      Example: '.'.join(['ab', 'pq', 'rs']) -> 'ab.pq.rs'\n",
      " |\n",
      " |  ljust(self, width, fillchar=' ', /)\n",
      " |      Return a left-justified string of length width.\n",
      " |\n",
      " |      Padding is done using the specified fill character (default is a space).\n",
      " |\n",
      " |  lower(self, /)\n",
      " |      Return a copy of the string converted to lowercase.\n",
      " |\n",
      " |  lstrip(self, chars=None, /)\n",
      " |      Return a copy of the string with leading whitespace removed.\n",
      " |\n",
      " |      If chars is given and not None, remove characters in chars instead.\n",
      " |\n",
      " |  partition(self, sep, /)\n",
      " |      Partition the string into three parts using the given separator.\n",
      " |\n",
      " |      This will search for the separator in the string.  If the separator is found,\n",
      " |      returns a 3-tuple containing the part before the separator, the separator\n",
      " |      itself, and the part after it.\n",
      " |\n",
      " |      If the separator is not found, returns a 3-tuple containing the original string\n",
      " |      and two empty strings.\n",
      " |\n",
      " |  removeprefix(self, prefix, /)\n",
      " |      Return a str with the given prefix string removed if present.\n",
      " |\n",
      " |      If the string starts with the prefix string, return string[len(prefix):].\n",
      " |      Otherwise, return a copy of the original string.\n",
      " |\n",
      " |  removesuffix(self, suffix, /)\n",
      " |      Return a str with the given suffix string removed if present.\n",
      " |\n",
      " |      If the string ends with the suffix string and that suffix is not empty,\n",
      " |      return string[:-len(suffix)]. Otherwise, return a copy of the original\n",
      " |      string.\n",
      " |\n",
      " |  replace(self, old, new, count=-1, /)\n",
      " |      Return a copy with all occurrences of substring old replaced by new.\n",
      " |\n",
      " |        count\n",
      " |          Maximum number of occurrences to replace.\n",
      " |          -1 (the default value) means replace all occurrences.\n",
      " |\n",
      " |      If the optional argument count is given, only the first count occurrences are\n",
      " |      replaced.\n",
      " |\n",
      " |  rfind(...)\n",
      " |      S.rfind(sub[, start[, end]]) -> int\n",
      " |\n",
      " |      Return the highest index in S where substring sub is found,\n",
      " |      such that sub is contained within S[start:end].  Optional\n",
      " |      arguments start and end are interpreted as in slice notation.\n",
      " |\n",
      " |      Return -1 on failure.\n",
      " |\n",
      " |  rindex(...)\n",
      " |      S.rindex(sub[, start[, end]]) -> int\n",
      " |\n",
      " |      Return the highest index in S where substring sub is found,\n",
      " |      such that sub is contained within S[start:end].  Optional\n",
      " |      arguments start and end are interpreted as in slice notation.\n",
      " |\n",
      " |      Raises ValueError when the substring is not found.\n",
      " |\n",
      " |  rjust(self, width, fillchar=' ', /)\n",
      " |      Return a right-justified string of length width.\n",
      " |\n",
      " |      Padding is done using the specified fill character (default is a space).\n",
      " |\n",
      " |  rpartition(self, sep, /)\n",
      " |      Partition the string into three parts using the given separator.\n",
      " |\n",
      " |      This will search for the separator in the string, starting at the end. If\n",
      " |      the separator is found, returns a 3-tuple containing the part before the\n",
      " |      separator, the separator itself, and the part after it.\n",
      " |\n",
      " |      If the separator is not found, returns a 3-tuple containing two empty strings\n",
      " |      and the original string.\n",
      " |\n",
      " |  rsplit(self, /, sep=None, maxsplit=-1)\n",
      " |      Return a list of the substrings in the string, using sep as the separator string.\n",
      " |\n",
      " |        sep\n",
      " |          The separator used to split the string.\n",
      " |\n",
      " |          When set to None (the default value), will split on any whitespace\n",
      " |          character (including \\n \\r \\t \\f and spaces) and will discard\n",
      " |          empty strings from the result.\n",
      " |        maxsplit\n",
      " |          Maximum number of splits.\n",
      " |          -1 (the default value) means no limit.\n",
      " |\n",
      " |      Splitting starts at the end of the string and works to the front.\n",
      " |\n",
      " |  rstrip(self, chars=None, /)\n",
      " |      Return a copy of the string with trailing whitespace removed.\n",
      " |\n",
      " |      If chars is given and not None, remove characters in chars instead.\n",
      " |\n",
      " |  split(self, /, sep=None, maxsplit=-1)\n",
      " |      Return a list of the substrings in the string, using sep as the separator string.\n",
      " |\n",
      " |        sep\n",
      " |          The separator used to split the string.\n",
      " |\n",
      " |          When set to None (the default value), will split on any whitespace\n",
      " |          character (including \\n \\r \\t \\f and spaces) and will discard\n",
      " |          empty strings from the result.\n",
      " |        maxsplit\n",
      " |          Maximum number of splits.\n",
      " |          -1 (the default value) means no limit.\n",
      " |\n",
      " |      Splitting starts at the front of the string and works to the end.\n",
      " |\n",
      " |      Note, str.split() is mainly useful for data that has been intentionally\n",
      " |      delimited.  With natural text that includes punctuation, consider using\n",
      " |      the regular expression module.\n",
      " |\n",
      " |  splitlines(self, /, keepends=False)\n",
      " |      Return a list of the lines in the string, breaking at line boundaries.\n",
      " |\n",
      " |      Line breaks are not included in the resulting list unless keepends is given and\n",
      " |      true.\n",
      " |\n",
      " |  startswith(...)\n",
      " |      S.startswith(prefix[, start[, end]]) -> bool\n",
      " |\n",
      " |      Return True if S starts with the specified prefix, False otherwise.\n",
      " |      With optional start, test S beginning at that position.\n",
      " |      With optional end, stop comparing S at that position.\n",
      " |      prefix can also be a tuple of strings to try.\n",
      " |\n",
      " |  strip(self, chars=None, /)\n",
      " |      Return a copy of the string with leading and trailing whitespace removed.\n",
      " |\n",
      " |      If chars is given and not None, remove characters in chars instead.\n",
      " |\n",
      " |  swapcase(self, /)\n",
      " |      Convert uppercase characters to lowercase and lowercase characters to uppercase.\n",
      " |\n",
      " |  title(self, /)\n",
      " |      Return a version of the string where each word is titlecased.\n",
      " |\n",
      " |      More specifically, words start with uppercased characters and all remaining\n",
      " |      cased characters have lower case.\n",
      " |\n",
      " |  translate(self, table, /)\n",
      " |      Replace each character in the string using the given translation table.\n",
      " |\n",
      " |        table\n",
      " |          Translation table, which must be a mapping of Unicode ordinals to\n",
      " |          Unicode ordinals, strings, or None.\n",
      " |\n",
      " |      The table must implement lookup/indexing via __getitem__, for instance a\n",
      " |      dictionary or list.  If this operation raises LookupError, the character is\n",
      " |      left untouched.  Characters mapped to None are deleted.\n",
      " |\n",
      " |  upper(self, /)\n",
      " |      Return a copy of the string converted to uppercase.\n",
      " |\n",
      " |  zfill(self, width, /)\n",
      " |      Pad a numeric string with zeros on the left, to fill a field of the given width.\n",
      " |\n",
      " |      The string is never truncated.\n",
      " |\n",
      " |  ----------------------------------------------------------------------\n",
      " |  Static methods defined here:\n",
      " |\n",
      " |  __new__(*args, **kwargs)\n",
      " |      Create and return a new object.  See help(type) for accurate signature.\n",
      " |\n",
      " |  maketrans(...)\n",
      " |      Return a translation table usable for str.translate().\n",
      " |\n",
      " |      If there is only one argument, it must be a dictionary mapping Unicode\n",
      " |      ordinals (integers) or characters to Unicode ordinals, strings or None.\n",
      " |      Character keys will be then converted to ordinals.\n",
      " |      If there are two arguments, they must be strings of equal length, and\n",
      " |      in the resulting dictionary, each character in x will be mapped to the\n",
      " |      character at the same position in y. If there is a third argument, it\n",
      " |      must be a string, whose characters will be mapped to None in the result.\n",
      "\n"
     ]
    }
   ],
   "source": [
    "help(str)"
   ]
  },
  {
   "cell_type": "markdown",
   "id": "7458cbdd",
   "metadata": {},
   "source": [
    "### Lister\n",
    "\n",
    "Man har ofte brug for at gemme mere end én værdi i en variabel.\n",
    "\n",
    "Python har flere forskellige måder at gøre det på, men den mest udbredte er nok en simpel **liste**.\n",
    "\n",
    "* En liste er omgivet af *firkantede* parentes-tegn ``[]``\n",
    "* Værdier adskilles af *komma* `,`"
   ]
  },
  {
   "cell_type": "code",
   "execution_count": 23,
   "id": "e33dcaae",
   "metadata": {},
   "outputs": [],
   "source": [
    "en_liste = [1, 2, 3, 4, 5]"
   ]
  },
  {
   "cell_type": "code",
   "execution_count": 24,
   "id": "292a65c2",
   "metadata": {},
   "outputs": [
    {
     "data": {
      "text/plain": [
       "list"
      ]
     },
     "execution_count": 24,
     "metadata": {},
     "output_type": "execute_result"
    }
   ],
   "source": [
    "type(en_liste)"
   ]
  },
  {
   "cell_type": "markdown",
   "id": "b13438d0",
   "metadata": {},
   "source": [
    "Python indexering starter ved **0**!"
   ]
  },
  {
   "cell_type": "code",
   "execution_count": null,
   "id": "18132720",
   "metadata": {},
   "outputs": [
    {
     "data": {
      "text/plain": [
       "1"
      ]
     },
     "execution_count": 25,
     "metadata": {},
     "output_type": "execute_result"
    }
   ],
   "source": [
    "en_liste[0]"
   ]
  },
  {
   "cell_type": "code",
   "execution_count": 26,
   "id": "1e3d2a94",
   "metadata": {},
   "outputs": [
    {
     "ename": "IndexError",
     "evalue": "list index out of range",
     "output_type": "error",
     "traceback": [
      "\u001b[31m---------------------------------------------------------------------------\u001b[39m",
      "\u001b[31mIndexError\u001b[39m                                Traceback (most recent call last)",
      "\u001b[36mCell\u001b[39m\u001b[36m \u001b[39m\u001b[32mIn[26]\u001b[39m\u001b[32m, line 1\u001b[39m\n\u001b[32m----> \u001b[39m\u001b[32m1\u001b[39m \u001b[43men_liste\u001b[49m\u001b[43m[\u001b[49m\u001b[32;43m6\u001b[39;49m\u001b[43m]\u001b[49m  \u001b[38;5;66;03m# Giver fejl fordi der ikke er noget 7. element i listen\u001b[39;00m\n",
      "\u001b[31mIndexError\u001b[39m: list index out of range"
     ]
    }
   ],
   "source": [
    "en_liste[6]  # Giver fejl fordi der ikke er noget 7. element i listen"
   ]
  },
  {
   "cell_type": "markdown",
   "id": "ba573578",
   "metadata": {},
   "source": [
    "### Loops ➿\n",
    "\n",
    "En af de bedste grunde til at bruge Python er, at det gør det nemt at gøre den samme ting mange gange i træk - fx ved at bruge et **loop**.\n",
    "\n",
    "I et `for`-loop itererer vi over et itererbart objet - fx en liste - og for hvert element i listen kører vi vores kode:\n",
    "\n",
    "```python\n",
    "for variable in iterable_object:\n",
    "    kode-statement\n",
    "# i det her loop vil koden blive eksekveret lige så mange gange som vi har elementer i vores iterable objekt .\n",
    "```"
   ]
  },
  {
   "cell_type": "code",
   "execution_count": 27,
   "id": "9004db8f",
   "metadata": {},
   "outputs": [
    {
     "name": "stdout",
     "output_type": "stream",
     "text": [
      "1\n",
      "2\n",
      "3\n",
      "4\n",
      "5\n"
     ]
    }
   ],
   "source": [
    "# Det her er et simpelt eksempel - men man kan putte hvad som helt ind i et loop\n",
    "\n",
    "for element in en_liste:  # vores liste fra før\n",
    "    print(element)"
   ]
  },
  {
   "cell_type": "markdown",
   "id": "049955a5",
   "metadata": {},
   "source": [
    "I eksemplet ovenfor står ``print`` *indenteret* i forhold til vores ``for``-linje. Her betyder indenteringen at alt der står indenteret ift. *\"for element...\"* er en del af vores for-loop.\n",
    "\n",
    "**Indentering** og linjeskift ↩️ er afgørende i Python-kode og hjælper computeren med at forstå koden. Man kan bruge enten 4 mellemrum eller tab-tasten ↔️ til at indentere en linje."
   ]
  },
  {
   "cell_type": "markdown",
   "id": "2876697c",
   "metadata": {},
   "source": [
    "### Gør-det-selv"
   ]
  },
  {
   "cell_type": "code",
   "execution_count": null,
   "id": "d43c5c4a",
   "metadata": {},
   "outputs": [
    {
     "name": "stdout",
     "output_type": "stream",
     "text": [
      "jeg er på kortdage2025\n"
     ]
    }
   ],
   "source": [
    "# print sætningen \"jeg er på kortdage2025\" med de følgende variable:\n",
    "\n",
    "x = \"jeg\"\n",
    "y = \"er\"\n",
    "z = \"på kortdage2025\"\n",
    "\n",
    "# TODO: tilføj din kode her:"
   ]
  },
  {
   "cell_type": "markdown",
   "id": "bbb459f2",
   "metadata": {},
   "source": [
    "<details>\n",
    "<summary><b>Se løsning</b><i> (men prøv først selv!)</i></summary>\n",
    "\n",
    "```python\n",
    "print(x, y, z)\n",
    "```\n",
    "\n",
    "</details>"
   ]
  },
  {
   "cell_type": "code",
   "execution_count": null,
   "id": "dc4d4666",
   "metadata": {},
   "outputs": [],
   "source": [
    "# loop over en liste med værdier og print hver værdi\n",
    "\n",
    "min_liste = [\"python\", \"er\", \"sjovt\", \"!\"]\n",
    "\n",
    "# TODO: tilføj din kode her:"
   ]
  },
  {
   "cell_type": "markdown",
   "id": "79868daf",
   "metadata": {},
   "source": [
    "<details>\n",
    "<summary><b>Se løsning</b><i> (men prøv først selv!)</i></summary>\n",
    "\n",
    "```python\n",
    "for element in min_liste:\n",
    "    print(element)\n",
    "```\n",
    "\n",
    "</details>"
   ]
  },
  {
   "cell_type": "code",
   "execution_count": null,
   "id": "5a7d5b65",
   "metadata": {},
   "outputs": [],
   "source": [
    "# gem værdien af den første værdi i listen i en variabel\n",
    "# prøv også med den sidste værdi i listen!\n",
    "\n",
    "# TODO: tilføj din kode her:"
   ]
  },
  {
   "cell_type": "markdown",
   "id": "d6de5702",
   "metadata": {},
   "source": [
    "<details>\n",
    "<summary><b>Se løsning</b><i> (men prøv først selv!)</i></summary>\n",
    "\n",
    "```python\n",
    "første_værdi = min_liste[0]\n",
    "sidste_værdi = min_liste[-1] # eller min_liste[3]. Man kan finde det sidste element i en liste enten ved at bruge elements placering i listen (i dette tilfølde, 3, eller vha. -1. -2 refererer til det næstsidste element, osv.)\n",
    "```\n",
    "\n",
    "</details>"
   ]
  },
  {
   "cell_type": "code",
   "execution_count": 59,
   "id": "3b628ef0",
   "metadata": {},
   "outputs": [],
   "source": [
    "# hvilken datatype har 'min_første_variabel'?\n",
    "\n",
    "min_første_variabel = 1411.25"
   ]
  },
  {
   "cell_type": "markdown",
   "id": "dbc9b786",
   "metadata": {},
   "source": [
    "<details>\n",
    "<summary><b>Se løsning</b><i> (men prøv først selv!)</i></summary>\n",
    "\n",
    "```python\n",
    "type(min_første_variabel)\n",
    "```\n",
    "\n",
    "</details>"
   ]
  },
  {
   "cell_type": "code",
   "execution_count": 60,
   "id": "e979bbec",
   "metadata": {},
   "outputs": [],
   "source": [
    "# hvad får du af at lægge min_første_variabel og min_anden_variabel sammen?\n",
    "\n",
    "min_anden_variabel = 100"
   ]
  },
  {
   "cell_type": "markdown",
   "id": "b57dd3d5",
   "metadata": {},
   "source": [
    "<details>\n",
    "<summary><b>Se løsning</b><i> (men prøv først selv!)</i></summary>\n",
    "\n",
    "```python\n",
    "resultat = min_første_variabel + min_anden_variabel\n",
    "```\n",
    "\n",
    "</details>"
   ]
  },
  {
   "cell_type": "markdown",
   "id": "67420056",
   "metadata": {},
   "source": [
    "*...find selv på mere!*"
   ]
  },
  {
   "cell_type": "markdown",
   "id": "e8ed055b",
   "metadata": {},
   "source": [
    "***"
   ]
  },
  {
   "cell_type": "markdown",
   "id": "31554e95",
   "metadata": {},
   "source": [
    "## GeoPython 🌏\n",
    "\n",
    "### Vektor\n",
    "\n",
    "Vektor-data i Python ligner det man kender fra andre programmer, hvor alle geometrier er enten punkter 🔵, linjer 〽️ eller polygoner 🔳.\n",
    "\n",
    "Når man arbejder med vektordata i Python bruger de fleste **GeoPandas** 🐼🐼.\n",
    "GeoPandas er bygget oven på pandas, som er et modul til at håndtere tabulære data (lidt ligesom Excel).\n",
    "\n",
    "GeoPandas tilføjer funktionalitet til at håndtere geografiske data, så vi også kan arbejde med geometrier, foretage geometriske beregner, lave kort, osv.\n",
    "\n",
    "<img src=\"images/pandas_geopandas_relation.png\" style=\"width:700px;\">\n"
   ]
  },
  {
   "cell_type": "code",
   "execution_count": 7,
   "id": "65349de3",
   "metadata": {},
   "outputs": [],
   "source": [
    "import geopandas as gpd  # her importerer vi et ekstra bibliotek som hedder geopandas\n",
    "\n",
    "\n",
    "# vi forkorter det til gpd så vi ikke behøver skrive geopandas hele tiden"
   ]
  },
  {
   "cell_type": "code",
   "execution_count": null,
   "id": "85a61af1",
   "metadata": {},
   "outputs": [],
   "source": [
    "# her installerer vi et ekstra bibliotek som vi skal bruge for at kunne klassficiere vores data her i google colab\n",
    "!pip install mapclassify\n",
    "import mapclassify  # bruges til at klassificere numeriske data i klasser"
   ]
  },
  {
   "cell_type": "code",
   "execution_count": null,
   "id": "b0a61098",
   "metadata": {},
   "outputs": [],
   "source": [
    "# Man kan indlæse stort set alle typer vektordata med geopandas\n",
    "# Her indlæser vi et simpelt kort med verdens lande i geojson format fra en URL\n",
    "url = \"https://d2ad6b4ur7yvpq.cloudfront.net/naturalearth-3.3.0/ne_50m_admin_0_countries.geojson\"\n",
    "\n",
    "\n",
    "# gdf står for \"geodataframe\"\n",
    "gdf = gpd.read_file(url)"
   ]
  },
  {
   "cell_type": "markdown",
   "id": "99ae43a5",
   "metadata": {},
   "source": [
    "➡️ Vi skriver ``gpd`` for at bruge Geopandas modulet.\n",
    "\n",
    "➡️ Derefter skriver vi et punktum ``.`` og **navnet** på den Geopandas **metode** vi vil bruge (her ``read_file``). \n",
    "\n",
    "➡️ Efter metodenavnet kommer der en ``()``, der indeholder de **parametre** vi skal bruge som input til metoden.\n",
    "\n",
    "I dette tilfælde har vi kun én parameter - linket til det datasæt vi vil indlæse.\n",
    "\n",
    "Man kan se, hvilke metoder/funktioner et modul har ved at skrive modulets navn efterfulgt af et punktum og så trykke tabulatortasten."
   ]
  },
  {
   "cell_type": "code",
   "execution_count": 29,
   "id": "54235ab5",
   "metadata": {},
   "outputs": [
    {
     "data": {
      "text/html": [
       "<div>\n",
       "<style scoped>\n",
       "    .dataframe tbody tr th:only-of-type {\n",
       "        vertical-align: middle;\n",
       "    }\n",
       "\n",
       "    .dataframe tbody tr th {\n",
       "        vertical-align: top;\n",
       "    }\n",
       "\n",
       "    .dataframe thead th {\n",
       "        text-align: right;\n",
       "    }\n",
       "</style>\n",
       "<table border=\"1\" class=\"dataframe\">\n",
       "  <thead>\n",
       "    <tr style=\"text-align: right;\">\n",
       "      <th></th>\n",
       "      <th>scalerank</th>\n",
       "      <th>labelrank</th>\n",
       "      <th>sovereignt</th>\n",
       "      <th>sov_a3</th>\n",
       "      <th>adm0_dif</th>\n",
       "      <th>level</th>\n",
       "      <th>type</th>\n",
       "      <th>admin</th>\n",
       "      <th>adm0_a3</th>\n",
       "      <th>geou_dif</th>\n",
       "      <th>...</th>\n",
       "      <th>region_un</th>\n",
       "      <th>subregion</th>\n",
       "      <th>region_wb</th>\n",
       "      <th>name_len</th>\n",
       "      <th>long_len</th>\n",
       "      <th>abbrev_len</th>\n",
       "      <th>tiny</th>\n",
       "      <th>homepart</th>\n",
       "      <th>featureclass</th>\n",
       "      <th>geometry</th>\n",
       "    </tr>\n",
       "  </thead>\n",
       "  <tbody>\n",
       "    <tr>\n",
       "      <th>0</th>\n",
       "      <td>3</td>\n",
       "      <td>5</td>\n",
       "      <td>Netherlands</td>\n",
       "      <td>NL1</td>\n",
       "      <td>1</td>\n",
       "      <td>2</td>\n",
       "      <td>Country</td>\n",
       "      <td>Aruba</td>\n",
       "      <td>ABW</td>\n",
       "      <td>0</td>\n",
       "      <td>...</td>\n",
       "      <td>Americas</td>\n",
       "      <td>Caribbean</td>\n",
       "      <td>Latin America &amp; Caribbean</td>\n",
       "      <td>5</td>\n",
       "      <td>5</td>\n",
       "      <td>5</td>\n",
       "      <td>4</td>\n",
       "      <td>-99</td>\n",
       "      <td>Admin-0 country</td>\n",
       "      <td>POLYGON ((-69.89912 12.452, -69.8957 12.423, -...</td>\n",
       "    </tr>\n",
       "    <tr>\n",
       "      <th>1</th>\n",
       "      <td>1</td>\n",
       "      <td>3</td>\n",
       "      <td>Afghanistan</td>\n",
       "      <td>AFG</td>\n",
       "      <td>0</td>\n",
       "      <td>2</td>\n",
       "      <td>Sovereign country</td>\n",
       "      <td>Afghanistan</td>\n",
       "      <td>AFG</td>\n",
       "      <td>0</td>\n",
       "      <td>...</td>\n",
       "      <td>Asia</td>\n",
       "      <td>Southern Asia</td>\n",
       "      <td>South Asia</td>\n",
       "      <td>11</td>\n",
       "      <td>11</td>\n",
       "      <td>4</td>\n",
       "      <td>-99</td>\n",
       "      <td>1</td>\n",
       "      <td>Admin-0 country</td>\n",
       "      <td>POLYGON ((74.89131 37.23164, 74.84023 37.22505...</td>\n",
       "    </tr>\n",
       "    <tr>\n",
       "      <th>2</th>\n",
       "      <td>1</td>\n",
       "      <td>3</td>\n",
       "      <td>Angola</td>\n",
       "      <td>AGO</td>\n",
       "      <td>0</td>\n",
       "      <td>2</td>\n",
       "      <td>Sovereign country</td>\n",
       "      <td>Angola</td>\n",
       "      <td>AGO</td>\n",
       "      <td>0</td>\n",
       "      <td>...</td>\n",
       "      <td>Africa</td>\n",
       "      <td>Middle Africa</td>\n",
       "      <td>Sub-Saharan Africa</td>\n",
       "      <td>6</td>\n",
       "      <td>6</td>\n",
       "      <td>4</td>\n",
       "      <td>-99</td>\n",
       "      <td>1</td>\n",
       "      <td>Admin-0 country</td>\n",
       "      <td>MULTIPOLYGON (((14.19082 -5.87598, 14.39863 -5...</td>\n",
       "    </tr>\n",
       "    <tr>\n",
       "      <th>3</th>\n",
       "      <td>1</td>\n",
       "      <td>6</td>\n",
       "      <td>United Kingdom</td>\n",
       "      <td>GB1</td>\n",
       "      <td>1</td>\n",
       "      <td>2</td>\n",
       "      <td>Dependency</td>\n",
       "      <td>Anguilla</td>\n",
       "      <td>AIA</td>\n",
       "      <td>0</td>\n",
       "      <td>...</td>\n",
       "      <td>Americas</td>\n",
       "      <td>Caribbean</td>\n",
       "      <td>Latin America &amp; Caribbean</td>\n",
       "      <td>8</td>\n",
       "      <td>8</td>\n",
       "      <td>4</td>\n",
       "      <td>-99</td>\n",
       "      <td>-99</td>\n",
       "      <td>Admin-0 country</td>\n",
       "      <td>POLYGON ((-63.00122 18.22178, -63.16001 18.171...</td>\n",
       "    </tr>\n",
       "    <tr>\n",
       "      <th>4</th>\n",
       "      <td>1</td>\n",
       "      <td>6</td>\n",
       "      <td>Albania</td>\n",
       "      <td>ALB</td>\n",
       "      <td>0</td>\n",
       "      <td>2</td>\n",
       "      <td>Sovereign country</td>\n",
       "      <td>Albania</td>\n",
       "      <td>ALB</td>\n",
       "      <td>0</td>\n",
       "      <td>...</td>\n",
       "      <td>Europe</td>\n",
       "      <td>Southern Europe</td>\n",
       "      <td>Europe &amp; Central Asia</td>\n",
       "      <td>7</td>\n",
       "      <td>7</td>\n",
       "      <td>4</td>\n",
       "      <td>-99</td>\n",
       "      <td>1</td>\n",
       "      <td>Admin-0 country</td>\n",
       "      <td>POLYGON ((20.06396 42.54727, 20.10352 42.52466...</td>\n",
       "    </tr>\n",
       "  </tbody>\n",
       "</table>\n",
       "<p>5 rows × 64 columns</p>\n",
       "</div>"
      ],
      "text/plain": [
       "   scalerank  labelrank      sovereignt sov_a3  adm0_dif  level  \\\n",
       "0          3          5     Netherlands    NL1         1      2   \n",
       "1          1          3     Afghanistan    AFG         0      2   \n",
       "2          1          3          Angola    AGO         0      2   \n",
       "3          1          6  United Kingdom    GB1         1      2   \n",
       "4          1          6         Albania    ALB         0      2   \n",
       "\n",
       "                type        admin adm0_a3  geou_dif  ... region_un  \\\n",
       "0            Country        Aruba     ABW         0  ...  Americas   \n",
       "1  Sovereign country  Afghanistan     AFG         0  ...      Asia   \n",
       "2  Sovereign country       Angola     AGO         0  ...    Africa   \n",
       "3         Dependency     Anguilla     AIA         0  ...  Americas   \n",
       "4  Sovereign country      Albania     ALB         0  ...    Europe   \n",
       "\n",
       "         subregion                  region_wb name_len long_len  abbrev_len  \\\n",
       "0        Caribbean  Latin America & Caribbean        5        5           5   \n",
       "1    Southern Asia                 South Asia       11       11           4   \n",
       "2    Middle Africa         Sub-Saharan Africa        6        6           4   \n",
       "3        Caribbean  Latin America & Caribbean        8        8           4   \n",
       "4  Southern Europe      Europe & Central Asia        7        7           4   \n",
       "\n",
       "  tiny homepart     featureclass  \\\n",
       "0    4      -99  Admin-0 country   \n",
       "1  -99        1  Admin-0 country   \n",
       "2  -99        1  Admin-0 country   \n",
       "3  -99      -99  Admin-0 country   \n",
       "4  -99        1  Admin-0 country   \n",
       "\n",
       "                                            geometry  \n",
       "0  POLYGON ((-69.89912 12.452, -69.8957 12.423, -...  \n",
       "1  POLYGON ((74.89131 37.23164, 74.84023 37.22505...  \n",
       "2  MULTIPOLYGON (((14.19082 -5.87598, 14.39863 -5...  \n",
       "3  POLYGON ((-63.00122 18.22178, -63.16001 18.171...  \n",
       "4  POLYGON ((20.06396 42.54727, 20.10352 42.52466...  \n",
       "\n",
       "[5 rows x 64 columns]"
      ]
     },
     "execution_count": 29,
     "metadata": {},
     "output_type": "execute_result"
    }
   ],
   "source": [
    "gdf.head()  # viser de første 5 rækker i tabellen"
   ]
  },
  {
   "cell_type": "code",
   "execution_count": 30,
   "id": "6a2aa8ed",
   "metadata": {},
   "outputs": [
    {
     "data": {
      "text/plain": [
       "<Axes: >"
      ]
     },
     "execution_count": 30,
     "metadata": {},
     "output_type": "execute_result"
    },
    {
     "data": {
      "image/png": "[encoded data removed]",
      "text/plain": [
       "<Figure size 640x480 with 1 Axes>"
      ]
     },
     "metadata": {},
     "output_type": "display_data"
    }
   ],
   "source": [
    "gdf.plot()  # laver et simpelt kort af dataene"
   ]
  },
  {
   "cell_type": "markdown",
   "id": "e5fb6ef2",
   "metadata": {},
   "source": [
    "#### Beregn Danmarks areal"
   ]
  },
  {
   "cell_type": "code",
   "execution_count": 31,
   "id": "e7e56943",
   "metadata": {},
   "outputs": [
    {
     "data": {
      "text/html": [
       "<div>\n",
       "<style scoped>\n",
       "    .dataframe tbody tr th:only-of-type {\n",
       "        vertical-align: middle;\n",
       "    }\n",
       "\n",
       "    .dataframe tbody tr th {\n",
       "        vertical-align: top;\n",
       "    }\n",
       "\n",
       "    .dataframe thead th {\n",
       "        text-align: right;\n",
       "    }\n",
       "</style>\n",
       "<table border=\"1\" class=\"dataframe\">\n",
       "  <thead>\n",
       "    <tr style=\"text-align: right;\">\n",
       "      <th></th>\n",
       "      <th>scalerank</th>\n",
       "      <th>labelrank</th>\n",
       "      <th>sovereignt</th>\n",
       "      <th>sov_a3</th>\n",
       "      <th>adm0_dif</th>\n",
       "      <th>level</th>\n",
       "      <th>type</th>\n",
       "      <th>admin</th>\n",
       "      <th>adm0_a3</th>\n",
       "      <th>geou_dif</th>\n",
       "      <th>...</th>\n",
       "      <th>region_un</th>\n",
       "      <th>subregion</th>\n",
       "      <th>region_wb</th>\n",
       "      <th>name_len</th>\n",
       "      <th>long_len</th>\n",
       "      <th>abbrev_len</th>\n",
       "      <th>tiny</th>\n",
       "      <th>homepart</th>\n",
       "      <th>featureclass</th>\n",
       "      <th>geometry</th>\n",
       "    </tr>\n",
       "  </thead>\n",
       "  <tbody>\n",
       "    <tr>\n",
       "      <th>60</th>\n",
       "      <td>1</td>\n",
       "      <td>4</td>\n",
       "      <td>Denmark</td>\n",
       "      <td>DN1</td>\n",
       "      <td>1</td>\n",
       "      <td>2</td>\n",
       "      <td>Country</td>\n",
       "      <td>Denmark</td>\n",
       "      <td>DNK</td>\n",
       "      <td>0</td>\n",
       "      <td>...</td>\n",
       "      <td>Europe</td>\n",
       "      <td>Northern Europe</td>\n",
       "      <td>Europe &amp; Central Asia</td>\n",
       "      <td>7</td>\n",
       "      <td>7</td>\n",
       "      <td>4</td>\n",
       "      <td>-99</td>\n",
       "      <td>1</td>\n",
       "      <td>Admin-0 country</td>\n",
       "      <td>MULTIPOLYGON (((11.36143 54.89165, 11.53838 54...</td>\n",
       "    </tr>\n",
       "  </tbody>\n",
       "</table>\n",
       "<p>1 rows × 64 columns</p>\n",
       "</div>"
      ],
      "text/plain": [
       "    scalerank  labelrank sovereignt sov_a3  adm0_dif  level     type    admin  \\\n",
       "60          1          4    Denmark    DN1         1      2  Country  Denmark   \n",
       "\n",
       "   adm0_a3  geou_dif  ... region_un        subregion              region_wb  \\\n",
       "60     DNK         0  ...    Europe  Northern Europe  Europe & Central Asia   \n",
       "\n",
       "   name_len long_len  abbrev_len tiny homepart     featureclass  \\\n",
       "60        7        7           4  -99        1  Admin-0 country   \n",
       "\n",
       "                                             geometry  \n",
       "60  MULTIPOLYGON (((11.36143 54.89165, 11.53838 54...  \n",
       "\n",
       "[1 rows x 64 columns]"
      ]
     },
     "execution_count": 31,
     "metadata": {},
     "output_type": "execute_result"
    }
   ],
   "source": [
    "dk = gdf[gdf[\"admin\"] == \"Denmark\"]\n",
    "\n",
    "dk"
   ]
  },
  {
   "cell_type": "code",
   "execution_count": null,
   "id": "5e1a2a4c",
   "metadata": {},
   "outputs": [
    {
     "data": {
      "text/plain": [
       "<Geographic 2D CRS: EPSG:4326>\n",
       "Name: WGS 84\n",
       "Axis Info [ellipsoidal]:\n",
       "- Lat[north]: Geodetic latitude (degree)\n",
       "- Lon[east]: Geodetic longitude (degree)\n",
       "Area of Use:\n",
       "- name: World.\n",
       "- bounds: (-180.0, -90.0, 180.0, 90.0)\n",
       "Datum: World Geodetic System 1984 ensemble\n",
       "- Ellipsoid: WGS 84\n",
       "- Prime Meridian: Greenwich"
      ]
     },
     "execution_count": 32,
     "metadata": {},
     "output_type": "execute_result"
    }
   ],
   "source": [
    "# geopandas dataframes har en crs attribut som fortæller hvilket koordinatsystem dataene er i\n",
    "dk.crs"
   ]
  },
  {
   "cell_type": "markdown",
   "id": "702068e0",
   "metadata": {},
   "source": [
    "➡️ Når vi skriver en variabels navn efterfulgt af et punktum og en attributs navn, kan vi få adgang til variablens attributter. Du kan også se hvilke metoder/funktioner en variabel har, ved at skrive variablens navn efterfulgt af et punktum og så trykke tabulatortasten.\n",
    "\n",
    "➡️ Du kan se forskel på metoder og attributter ved at kigge på, om der kommer en ``()`` efter navnet eller ej. Metoder har ``()``, attributter har ikke."
   ]
  },
  {
   "cell_type": "code",
   "execution_count": 33,
   "id": "10277def",
   "metadata": {},
   "outputs": [],
   "source": [
    "# man kan reprojicere sine data ligesom med andre GIS-programmer\n",
    "dk = dk.to_crs(epsg=25832)  # reprojicerer til UTM32"
   ]
  },
  {
   "cell_type": "code",
   "execution_count": 34,
   "id": "b20f781e",
   "metadata": {},
   "outputs": [
    {
     "data": {
      "text/plain": [
       "60    4.259583e+10\n",
       "dtype: float64"
      ]
     },
     "execution_count": 34,
     "metadata": {},
     "output_type": "execute_result"
    }
   ],
   "source": [
    "# hvad er Danmarks areal?\n",
    "dk.area  # i m2 fordi vi er i UTM32."
   ]
  },
  {
   "cell_type": "markdown",
   "id": "6ada70d6",
   "metadata": {},
   "source": [
    "#### Luftforurening i København 🏭 🚗\n",
    "\n",
    "**Hvad hvis vil vi gerne lave et kort over luftforureningen i hvert område i København?**\n",
    "\n",
    "Vi kunne skrive for noget kode for hvert område - eller vi kan skrive en *funktion* der gør det meste af arbejdet for os.\n",
    "\n",
    "Python og Python-moduler kommer med en del indbyggede funktioner - fx til at plotte, printe eller beregne areal med geopandas - men man kan også skrive sine egne.\n",
    "\n",
    "**En funktion:**\n",
    "\n",
    "* Har et **navn**\n",
    "* Skal have noget **input**\n",
    "* **Gør** noget med det input\n",
    "* Returnerer noget **output** (for det meste)\n",
    "\n",
    "````python\n",
    "def function_name(første_input, anden_input, ...)\n",
    "\n",
    "    # Noget kode der gør noget med input her\n",
    "\n",
    "    return resulatet\n",
    "\n",
    "````"
   ]
  },
  {
   "cell_type": "code",
   "execution_count": 35,
   "id": "d4d1afee",
   "metadata": {},
   "outputs": [
    {
     "data": {
      "text/plain": [
       "20"
      ]
     },
     "execution_count": 35,
     "metadata": {},
     "output_type": "execute_result"
    }
   ],
   "source": [
    "def my_function(x):\n",
    "\n",
    "    my_result = x * 2\n",
    "\n",
    "    return my_result\n",
    "\n",
    "\n",
    "test_result = my_function(10)\n",
    "\n",
    "test_result"
   ]
  },
  {
   "cell_type": "markdown",
   "id": "ae34e109",
   "metadata": {},
   "source": [
    "**Først indlæser vi to datasæt, et med luftforurening og et med kvarterer i København**"
   ]
  },
  {
   "cell_type": "code",
   "execution_count": null,
   "id": "f19c091c",
   "metadata": {},
   "outputs": [],
   "source": [
    "url_luft = \"https://kbhkort.kk.dk/media/airview/CAV_25May2021.geojson\"\n",
    "gdf_luft = gpd.read_file(url_luft)  # vores datasæt med luftforureningsmålinger\n",
    "\n",
    "gdf_luft = gdf_luft[\n",
    "    gdf_luft[\"Mixed_UFP\"] != -999999\n",
    "]  # behold kun data hvor der er valide målinger.\n",
    "# Udtrykket til højre for parentesen vælger de rækker i datasættet hvor Mixed_UFP kolonnen ikke er -999999. Ved at sætte vores navn gdf_luft til venstre for lighedstegnet overskriver vi vores tidligere gdf_luft variabel med den nye filtrerede version.\n",
    "\n",
    "url_kvarterer = \"https://wfs-kbhkort.kk.dk/k101/ows?service=WFS&version=1.0.0&request=GetFeature&typeName=k101:kvarter&outputFormat=json&SRSNAME=EPSG:4326\"\n",
    "gdf_kvart = gpd.read_file(url_kvarterer)  # vores datasæt med københavnske kvarterer"
   ]
  },
  {
   "cell_type": "code",
   "execution_count": null,
   "id": "e4201bd8",
   "metadata": {},
   "outputs": [
    {
     "data": {
      "text/plain": [
       "29881"
      ]
     },
     "execution_count": 37,
     "metadata": {},
     "output_type": "execute_result"
    }
   ],
   "source": [
    "len(\n",
    "    gdf_luft\n",
    ")  # len returnerer længden af en liste eller dataframe. Her kan vi se hvor mange rækker vores gdf_luft dataframe har"
   ]
  },
  {
   "cell_type": "code",
   "execution_count": null,
   "id": "dfacf0a2",
   "metadata": {},
   "outputs": [
    {
     "data": {
      "text/html": [
       "<div>\n",
       "<style scoped>\n",
       "    .dataframe tbody tr th:only-of-type {\n",
       "        vertical-align: middle;\n",
       "    }\n",
       "\n",
       "    .dataframe tbody tr th {\n",
       "        vertical-align: top;\n",
       "    }\n",
       "\n",
       "    .dataframe thead th {\n",
       "        text-align: right;\n",
       "    }\n",
       "</style>\n",
       "<table border=\"1\" class=\"dataframe\">\n",
       "  <thead>\n",
       "    <tr style=\"text-align: right;\">\n",
       "      <th></th>\n",
       "      <th>FID</th>\n",
       "      <th>Shape_Leng</th>\n",
       "      <th>ROAD_FID</th>\n",
       "      <th>Mixed_NO2</th>\n",
       "      <th>Mixed_UFP</th>\n",
       "      <th>Mixed_BC</th>\n",
       "      <th>geometry</th>\n",
       "    </tr>\n",
       "  </thead>\n",
       "  <tbody>\n",
       "    <tr>\n",
       "      <th>1</th>\n",
       "      <td>1</td>\n",
       "      <td>31.898519</td>\n",
       "      <td>2</td>\n",
       "      <td>10</td>\n",
       "      <td>18500</td>\n",
       "      <td>0.8</td>\n",
       "      <td>LINESTRING (12.62463 55.63461, 12.62473 55.63433)</td>\n",
       "    </tr>\n",
       "    <tr>\n",
       "      <th>2</th>\n",
       "      <td>2</td>\n",
       "      <td>36.276259</td>\n",
       "      <td>3</td>\n",
       "      <td>9</td>\n",
       "      <td>12800</td>\n",
       "      <td>0.8</td>\n",
       "      <td>LINESTRING (12.58604 55.60184, 12.58595 55.602...</td>\n",
       "    </tr>\n",
       "    <tr>\n",
       "      <th>3</th>\n",
       "      <td>3</td>\n",
       "      <td>40.416066</td>\n",
       "      <td>4</td>\n",
       "      <td>9</td>\n",
       "      <td>10700</td>\n",
       "      <td>0.7</td>\n",
       "      <td>LINESTRING (12.58629 55.59317, 12.58569 55.59305)</td>\n",
       "    </tr>\n",
       "    <tr>\n",
       "      <th>4</th>\n",
       "      <td>4</td>\n",
       "      <td>32.734397</td>\n",
       "      <td>5</td>\n",
       "      <td>13</td>\n",
       "      <td>14500</td>\n",
       "      <td>1.1</td>\n",
       "      <td>LINESTRING (12.58135 55.592, 12.5813 55.59171)</td>\n",
       "    </tr>\n",
       "    <tr>\n",
       "      <th>5</th>\n",
       "      <td>5</td>\n",
       "      <td>52.513793</td>\n",
       "      <td>6</td>\n",
       "      <td>9</td>\n",
       "      <td>9020</td>\n",
       "      <td>0.8</td>\n",
       "      <td>LINESTRING (12.5806 55.59217, 12.5798 55.59205)</td>\n",
       "    </tr>\n",
       "  </tbody>\n",
       "</table>\n",
       "</div>"
      ],
      "text/plain": [
       "   FID  Shape_Leng  ROAD_FID  Mixed_NO2  Mixed_UFP  Mixed_BC  \\\n",
       "1    1   31.898519         2         10      18500       0.8   \n",
       "2    2   36.276259         3          9      12800       0.8   \n",
       "3    3   40.416066         4          9      10700       0.7   \n",
       "4    4   32.734397         5         13      14500       1.1   \n",
       "5    5   52.513793         6          9       9020       0.8   \n",
       "\n",
       "                                            geometry  \n",
       "1  LINESTRING (12.62463 55.63461, 12.62473 55.63433)  \n",
       "2  LINESTRING (12.58604 55.60184, 12.58595 55.602...  \n",
       "3  LINESTRING (12.58629 55.59317, 12.58569 55.59305)  \n",
       "4     LINESTRING (12.58135 55.592, 12.5813 55.59171)  \n",
       "5    LINESTRING (12.5806 55.59217, 12.5798 55.59205)  "
      ]
     },
     "execution_count": 9,
     "metadata": {},
     "output_type": "execute_result"
    }
   ],
   "source": [
    "gdf_luft.head()  # i geometry-kolonnen kan du se at geometritypen er linjer"
   ]
  },
  {
   "cell_type": "code",
   "execution_count": 39,
   "id": "e51278c1",
   "metadata": {},
   "outputs": [
    {
     "data": {
      "text/plain": [
       "<Axes: >"
      ]
     },
     "execution_count": 39,
     "metadata": {},
     "output_type": "execute_result"
    },
    {
     "data": {
      "image/png": "[encoded data removed]",
      "text/plain": [
       "<Figure size 640x480 with 1 Axes>"
      ]
     },
     "metadata": {},
     "output_type": "display_data"
    }
   ],
   "source": [
    "gdf_kvart.plot()"
   ]
  },
  {
   "cell_type": "code",
   "execution_count": 40,
   "id": "6bfb35a9",
   "metadata": {},
   "outputs": [
    {
     "data": {
      "text/plain": [
       "<Axes: >"
      ]
     },
     "execution_count": 40,
     "metadata": {},
     "output_type": "execute_result"
    },
    {
     "data": {
      "image/png": "[encoded data removed]",
      "text/plain": [
       "<Figure size 640x480 with 1 Axes>"
      ]
     },
     "metadata": {},
     "output_type": "display_data"
    }
   ],
   "source": [
    "# det er meget hurtigt at lave et kort!\n",
    "gdf_luft.plot(\n",
    "    column=\"Mixed_UFP\",  # hvilken kolonne skal kortlægges?\n",
    "    cmap=\"OrRd\",  # farveskala\n",
    "    legend=True,  # indsæt legend\n",
    "    scheme=\"quantiles\",  # klassificeringsmetode for værdier\n",
    "    k=5,  # antal klasser\n",
    "    legend_kwds={\n",
    "        \"loc\": \"upper left\",\n",
    "        \"bbox_to_anchor\": (1, 1),\n",
    "    },  # Styrer placering af legend\n",
    ")"
   ]
  },
  {
   "cell_type": "code",
   "execution_count": null,
   "id": "dc76b509",
   "metadata": {},
   "outputs": [
    {
     "data": {
      "text/html": [
       "<div>\n",
       "<style scoped>\n",
       "    .dataframe tbody tr th:only-of-type {\n",
       "        vertical-align: middle;\n",
       "    }\n",
       "\n",
       "    .dataframe tbody tr th {\n",
       "        vertical-align: top;\n",
       "    }\n",
       "\n",
       "    .dataframe thead th {\n",
       "        text-align: right;\n",
       "    }\n",
       "</style>\n",
       "<table border=\"1\" class=\"dataframe\">\n",
       "  <thead>\n",
       "    <tr style=\"text-align: right;\">\n",
       "      <th></th>\n",
       "      <th>id</th>\n",
       "      <th>v_id</th>\n",
       "      <th>kvarternr</th>\n",
       "      <th>kvarternavn</th>\n",
       "      <th>ogc_fid</th>\n",
       "      <th>geometry</th>\n",
       "    </tr>\n",
       "  </thead>\n",
       "  <tbody>\n",
       "    <tr>\n",
       "      <th>0</th>\n",
       "      <td>kvarter.1</td>\n",
       "      <td>1</td>\n",
       "      <td>20101</td>\n",
       "      <td>Middelalderbyen</td>\n",
       "      <td>1</td>\n",
       "      <td>MULTIPOLYGON (((12.57948 55.6725, 12.57949 55....</td>\n",
       "    </tr>\n",
       "    <tr>\n",
       "      <th>1</th>\n",
       "      <td>kvarter.2</td>\n",
       "      <td>2</td>\n",
       "      <td>20102</td>\n",
       "      <td>Metropolzonen</td>\n",
       "      <td>2</td>\n",
       "      <td>MULTIPOLYGON (((12.5714 55.67555, 12.57111 55....</td>\n",
       "    </tr>\n",
       "    <tr>\n",
       "      <th>2</th>\n",
       "      <td>kvarter.3</td>\n",
       "      <td>3</td>\n",
       "      <td>20103</td>\n",
       "      <td>Nansensgade-Kvarteret</td>\n",
       "      <td>3</td>\n",
       "      <td>MULTIPOLYGON (((12.56247 55.68027, 12.56035 55...</td>\n",
       "    </tr>\n",
       "    <tr>\n",
       "      <th>3</th>\n",
       "      <td>kvarter.4</td>\n",
       "      <td>4</td>\n",
       "      <td>20104</td>\n",
       "      <td>Øster Farimagsgade-kvarteret</td>\n",
       "      <td>4</td>\n",
       "      <td>MULTIPOLYGON (((12.57616 55.68629, 12.57377 55...</td>\n",
       "    </tr>\n",
       "    <tr>\n",
       "      <th>4</th>\n",
       "      <td>kvarter.8</td>\n",
       "      <td>8</td>\n",
       "      <td>20201</td>\n",
       "      <td>Christianshavn Neden Vandet</td>\n",
       "      <td>8</td>\n",
       "      <td>MULTIPOLYGON (((12.59091 55.67237, 12.59091 55...</td>\n",
       "    </tr>\n",
       "  </tbody>\n",
       "</table>\n",
       "</div>"
      ],
      "text/plain": [
       "          id  v_id  kvarternr                   kvarternavn  ogc_fid  \\\n",
       "0  kvarter.1     1      20101               Middelalderbyen        1   \n",
       "1  kvarter.2     2      20102                 Metropolzonen        2   \n",
       "2  kvarter.3     3      20103         Nansensgade-Kvarteret        3   \n",
       "3  kvarter.4     4      20104  Øster Farimagsgade-kvarteret        4   \n",
       "4  kvarter.8     8      20201   Christianshavn Neden Vandet        8   \n",
       "\n",
       "                                            geometry  \n",
       "0  MULTIPOLYGON (((12.57948 55.6725, 12.57949 55....  \n",
       "1  MULTIPOLYGON (((12.5714 55.67555, 12.57111 55....  \n",
       "2  MULTIPOLYGON (((12.56247 55.68027, 12.56035 55...  \n",
       "3  MULTIPOLYGON (((12.57616 55.68629, 12.57377 55...  \n",
       "4  MULTIPOLYGON (((12.59091 55.67237, 12.59091 55...  "
      ]
     },
     "execution_count": 94,
     "metadata": {},
     "output_type": "execute_result"
    }
   ],
   "source": [
    "gdf_kvart.head()"
   ]
  },
  {
   "cell_type": "code",
   "execution_count": null,
   "id": "db1b20b6",
   "metadata": {},
   "outputs": [],
   "source": [
    "import matplotlib.pyplot as plt  # importerer matplotlib som bruges til at lave figurer og plots\n",
    "\n",
    "\n",
    "def plot_air_quality(\n",
    "    gdf_air: gpd.GeoDataFrame,\n",
    "    gdf_areas: gpd.GeoDataFrame,\n",
    "    column_name: str,\n",
    "    classification_scheme: str = \"quantiles\",  # man kan sætte default værdier for input variabler\n",
    "    num_classes: int = 5,\n",
    "):  # Navnet på input variable kan være hvad som helst. Teksten efter : er bare en hint til brugeren om hvilken type data funktionen forventer\n",
    "\n",
    "    for (\n",
    "        area\n",
    "    ) in (\n",
    "        gdf_areas.iterrows()\n",
    "    ):  # her looper vi over alle rækker i vores gdf_areas geodataframe\n",
    "\n",
    "        fig, ax = plt.subplots(1, 1, figsize=(10, 10))  # laver en figur til kortet\n",
    "        local_air = gdf_air[\n",
    "            gdf_air.within(area[1].geometry)\n",
    "        ]  # her udvælger vi kun de luftmålinger som ligger indenfor det aktuelle område\n",
    "        local_air.plot(\n",
    "            ax=ax,  # fortæller at vi vil plotte i den figur vi lige har lavet\n",
    "            column=column_name,  # hvilken kolonne skal kortlægges?\n",
    "            cmap=\"OrRd\",  # farveskala\n",
    "            legend=True,  # indsæt legend\n",
    "            scheme=classification_scheme,  # klassificeringsmetode for værdier\n",
    "            k=num_classes,  # antal klasser\n",
    "            legend_kwds={\n",
    "                \"loc\": \"upper left\",\n",
    "                \"bbox_to_anchor\": (1, 1),  # Styrer placering af legend\n",
    "                \"frameon\": False,  # fjerner boxen rundt om legend\n",
    "            },\n",
    "        )\n",
    "        ax.set_title(\n",
    "            f\"Luftforurening i {area[1].kvarternavn}\"\n",
    "        )  # sætter en titel på kortet med navnet på kvarteret\n",
    "\n",
    "        ax.set_axis_off()  # fjerner akser fra kortet\n",
    "\n",
    "        # plt.show()  # viser kortet - fjern # hvis kortet skal vises\n",
    "        plt.savefig(\n",
    "            f\"resultater/luft_{area[1].kvarternr}.png\", bbox_inches=\"tight\"\n",
    "        )  # gemmer kortet som en png fil med navnet på kvarteret i mappen resultater\n",
    "\n",
    "        plt.close()  # lukker figuren så vi ikke får en masse figurer liggende i hukommelsen"
   ]
  },
  {
   "cell_type": "code",
   "execution_count": 10,
   "id": "69fe66a5",
   "metadata": {},
   "outputs": [],
   "source": [
    "# Inden vi kalder vores funktion laver vi lige en mappe til vores kort\n",
    "import os\n",
    "\n",
    "os.makedirs(\n",
    "    \"resultater\", exist_ok=True\n",
    ")  # laver en mappe (directory) der hedder resultater"
   ]
  },
  {
   "cell_type": "code",
   "execution_count": 47,
   "id": "85b861a1",
   "metadata": {},
   "outputs": [],
   "source": [
    "# Her kalder vi vores funktion og giver den de to geodataframes som input + navnet på den kolonne vi vil kortlægge\n",
    "\n",
    "plot_air_quality(gdf_air=gdf_luft, gdf_areas=gdf_kvart, column_name=\"Mixed_UFP\")"
   ]
  },
  {
   "cell_type": "markdown",
   "id": "9eb740df",
   "metadata": {},
   "source": [
    "### Gør-det-selv\n",
    "\n",
    "Der er næsten altid er mange måder at løse en opgave på - så det er helt fint, hvis din løsning ikke er den samme som den vi har lavet."
   ]
  },
  {
   "cell_type": "code",
   "execution_count": 53,
   "id": "2f28f9e1",
   "metadata": {},
   "outputs": [],
   "source": [
    "# skriv en lille funktion der tager to tal som input og returnerer summen af dem"
   ]
  },
  {
   "cell_type": "markdown",
   "id": "adb49142",
   "metadata": {},
   "source": [
    "<details>\n",
    "<summary><b>Se løsning</b><i> (men prøv først selv!)</i></summary>\n",
    "\n",
    "```python\n",
    "def my_function(x, y):\n",
    "\n",
    "    my_result = x + y\n",
    "\n",
    "    return my_result\n",
    "    # or just\n",
    "    # return x + y\n",
    "```\n",
    "\n",
    "</details>"
   ]
  },
  {
   "cell_type": "code",
   "execution_count": null,
   "id": "ea496f41",
   "metadata": {},
   "outputs": [],
   "source": [
    "# indlæs data fra en URL (du kan bruge af en dem dem her)\n",
    "# undersøg dataene med gdf.head() og gdf.plot() og len(gdf) - hvor mange rækker er der i dataene?\n",
    "\n",
    "# parkeringspladser i Frederiksberg Kommune\n",
    "url1 = \"https://gc2ekstern.frederiksberg.dk/api/v2/sql/frederiksberg?q=select%20gid,%20ogr_geometry,%20pladstype,%20max_tid,%20max_tid_periode%20from%20mobilitet.parkeringspladser_type_view&format=geojson&srs=4326\"\n",
    "# offentlige toiletter i Frederiksberg Kommune\n",
    "url2 = \"https://gc2ekstern.frederiksberg.dk/api/v2/sql/frederiksberg?format=geojson&q=select%20*%20from%20byrum.toiletter_offentlige&srs=4326\"\n",
    "# trafiktællinger\n",
    "url3 = \"https://webkort.aarhuskommune.dk/spatialmap?page=get_geojson_opendata&datasource=skoledistrikter_fkg\"\n",
    "# \"https://webkort.aarhuskommune.dk/spatialmap?page=get_geojson_opendata&datasource=statistikdistrikter_fkg\""
   ]
  },
  {
   "cell_type": "code",
   "execution_count": 11,
   "id": "57615b9a",
   "metadata": {},
   "outputs": [],
   "source": [
    "# TODO: indlæs data her"
   ]
  },
  {
   "cell_type": "code",
   "execution_count": null,
   "id": "cfef8dc4",
   "metadata": {},
   "outputs": [],
   "source": [
    "# TODO: Udforsk dataene her"
   ]
  },
  {
   "cell_type": "code",
   "execution_count": null,
   "id": "2e87cbb6",
   "metadata": {},
   "outputs": [],
   "source": [
    "# TODO: Lav et simpelt kort af dataene"
   ]
  },
  {
   "cell_type": "code",
   "execution_count": null,
   "id": "2d1708db",
   "metadata": {},
   "outputs": [],
   "source": [
    "# TODO: se om du kan lave et kort der viser en af attributterne i dataene"
   ]
  },
  {
   "cell_type": "markdown",
   "id": "ab9da58a",
   "metadata": {},
   "source": [
    "<details>\n",
    "<summary><b>Se løsning</b><i> (men prøv først selv!)</i></summary>\n",
    "\n",
    "```python\n",
    "\n",
    "gdf = gpd.read_file(url3)\n",
    "\n",
    "# simpelt plot:\n",
    "\n",
    "gdf.plot(column=\"sluttrin\", categorical=True, legend=True)\n",
    "\n",
    "# lidt mere avanceret plot:\n",
    "\n",
    "fig, ax = plt.subplots(1, 1, figsize=(5, 5))  # laver en figur til kortet\n",
    "gdf.plot(\n",
    "    column=\"sluttrin\",\n",
    "    categorical=True,  # kategoriske data\n",
    "    legend=True,\n",
    "    ax=ax,\n",
    "    cmap=\"tab20\",  # farveskala\n",
    "    legend_kwds={\n",
    "        \"loc\": \"lower left\",\n",
    "        \"bbox_to_anchor\": (0.7, 0.05),\n",
    "        \"frameon\": False,\n",
    "        \"title\": \"Sluttrin\",\n",
    "    },\n",
    ")\n",
    "ax.set_axis_off()  # fjerner akser fra kortet\n",
    "ax.set_title(\"Skoledistriktuer i Aarhus Kommune\")  # sætter en titel på kortet\n",
    "# center title\n",
    "ax.title.set_position([0.6, 0.95])\n",
    "```\n",
    "\n",
    "</details>"
   ]
  },
  {
   "cell_type": "markdown",
   "id": "6b8ce4bf",
   "metadata": {},
   "source": [
    "## Udfordring!\n",
    "\n",
    "For de hurtige og øvede 🏃.\n",
    "\n",
    "**1. Find den nærmeste parkeringsplads til hvert offentlig toilet i Frederiksberg Kommune**\n"
   ]
  },
  {
   "cell_type": "code",
   "execution_count": null,
   "id": "8dfb0778",
   "metadata": {},
   "outputs": [],
   "source": [
    "# TODO: Tilføj din kode her"
   ]
  },
  {
   "cell_type": "markdown",
   "id": "74f19b10",
   "metadata": {},
   "source": [
    "<details>\n",
    "<summary><b>Se løsning</b><i> (men prøv først selv!)</i></summary>\n",
    "\n",
    "```python\n",
    "parking = gpd.read_file(url1)\n",
    "toilets = gpd.read_file(url2)\n",
    "\n",
    "toilets = toilets[[\"id\", \"adresse\", \"geometry\"]]  # Vi beholder kun tre attributter\n",
    "parking = parking[[\"gid\", \"geometry\"]]  # og to attributter her\n",
    "parking.rename(\n",
    "    columns={\"gid\": \"parkering_id\"}, inplace=True\n",
    ")  # omdøber kolonnen gid til parkering_id - det er ikke nødvendigt men gør det nemmere at forstå dataene\n",
    "\n",
    "parking = parking.to_crs(epsg=25832)\n",
    "toilets = toilets.to_crs(epsg=25832)\n",
    "\n",
    "joined = toilets.sjoin_nearest(\n",
    "    parking,\n",
    "    how=\"left\",\n",
    "    distance_col=\"afstand_m\",\n",
    ")\n",
    "```\n",
    "\n",
    "</details>"
   ]
  },
  {
   "cell_type": "markdown",
   "id": "3d758310",
   "metadata": {},
   "source": [
    "**2. Lav et kort med toilettetterne og de nærmeste parkeringspladser.**\n",
    "\n"
   ]
  },
  {
   "cell_type": "markdown",
   "id": "397752b3",
   "metadata": {},
   "source": [
    "<details>\n",
    "<summary><b>Se løsning</b><i> (men prøv først selv!)</i></summary>\n",
    "\n",
    "```python\n",
    "fig, ax = plt.subplots(figsize=(8, 8))\n",
    "\n",
    "# Plot base polygons\n",
    "parking.boundary.plot(ax=ax, color=\"gray\", linewidth=1, label=\"Parking spots\")\n",
    "# Plot all matched polygons (highlighted)\n",
    "parking.loc[joined[\"index_right\"].unique()].boundary.plot(\n",
    "    ax=ax, color=\"blue\", linewidth=2, label=\"Nearest parking spots\"\n",
    ")\n",
    "# Plot points\n",
    "joined.plot(ax=ax, color=\"red\", markersize=50, label=\"Public toilets\")\n",
    "\n",
    "ax.set_axis_off()\n",
    "ax.legend(frameon=False)\n",
    "\n",
    "ax.set_title(\"Toilets and their nearest parking spots\")\n",
    "plt.show()\n",
    "```\n",
    "\n",
    "</details>"
   ]
  },
  {
   "cell_type": "markdown",
   "id": "3aa556e1",
   "metadata": {},
   "source": [
    "**3. Se om du kan få et basemap/baggrundskort med. HINT: Her kan man bruge et modul der hedder *contextily*. For at bruge det skal vi først installere og loade det:**"
   ]
  },
  {
   "cell_type": "code",
   "execution_count": null,
   "id": "e7547cef",
   "metadata": {},
   "outputs": [],
   "source": [
    "!pip install contextily\n",
    "import contextily as cx  # bruges til at hente baggrundskort"
   ]
  },
  {
   "cell_type": "code",
   "execution_count": null,
   "id": "06d3387b",
   "metadata": {},
   "outputs": [],
   "source": [
    "# TODO: Tilføj din kode her"
   ]
  },
  {
   "cell_type": "markdown",
   "id": "140a7eb0",
   "metadata": {},
   "source": [
    "<details>\n",
    "<summary><b>Se løsning</b><i> (men prøv først selv!)</i></summary>\n",
    "\n",
    "```python\n",
    "fig, ax = plt.subplots(figsize=(8, 8))\n",
    "\n",
    "# Plot base polygons\n",
    "parking.boundary.plot(ax=ax, color=\"gray\", linewidth=1, label=\"Parking spots\")\n",
    "# Plot all matched polygons (highlighted)\n",
    "parking.loc[joined[\"index_right\"].unique()].boundary.plot(\n",
    "    ax=ax, color=\"blue\", linewidth=2, label=\"Nearest parking spots\"\n",
    ")\n",
    "# Plot points\n",
    "joined.plot(ax=ax, color=\"red\", markersize=50, label=\"Public toilets\")\n",
    "\n",
    "ax.set_axis_off()\n",
    "ax.legend(frameon=False)\n",
    "\n",
    "ax.set_title(\"Toilets and their nearest parking spots\")\n",
    "\n",
    "cx.add_basemap(\n",
    "    ax, source=cx.providers.CartoDB.Positron, crs=toilets.crs\n",
    ")  # Tilføjer et baggrundskort - specificer CRS så de passer\n",
    "plt.show()\n",
    "```\n",
    "\n",
    "</details>"
   ]
  },
  {
   "cell_type": "markdown",
   "id": "996dc527",
   "metadata": {},
   "source": [
    "***"
   ]
  },
  {
   "cell_type": "markdown",
   "id": "b863176c",
   "metadata": {},
   "source": [
    "**Vil du lære mere? Se vores liste over kurser og bøger [HER](https://github.com/anerv/python_kortdage/blob/main/inspiration.md).**"
   ]
  }
 ],
 "metadata": {
  "kernelspec": {
   "display_name": "innotech",
   "language": "python",
   "name": "python3"
  },
  "language_info": {
   "codemirror_mode": {
    "name": "ipython",
    "version": 3
   },
   "file_extension": ".py",
   "mimetype": "text/x-python",
   "name": "python",
   "nbconvert_exporter": "python",
   "pygments_lexer": "ipython3",
   "version": "3.12.11"
  }
 },
 "nbformat": 4,
 "nbformat_minor": 5
}
