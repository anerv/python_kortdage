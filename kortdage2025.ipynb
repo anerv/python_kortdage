{
 "cells": [
  {
   "cell_type": "markdown",
   "id": "3acd57b9",
   "metadata": {},
   "source": [
    "<div style=\"text-align: center;\">\n",
    "<img src=\"images/python-logo.png\" alt=\"python_logo\" width=20% >\n",
    "\n",
    "# Kortdage 2025: Introduktion til Python\n",
    "\n",
    "</div>\n",
    "\n",
    "*Tilføj:*\n",
    "* Intro: hvad er formålet med workshoppen?\n",
    "* Oversigt over indhold\n",
    "* Kilder: https://pythongis.org/index.html, geopython, learn python"
   ]
  },
  {
   "cell_type": "markdown",
   "id": "d2355ef5",
   "metadata": {},
   "source": [
    "## Hvorfor lære Python?\n",
    "\n",
    "- logisk, repetitiv, dokumenteret, automatiseret\n",
    "- særligt brugbar for ting vi gør mange gange\n",
    "- gør hvad man beder computeren om - selv om det ikke altid føles sådan"
   ]
  },
  {
   "cell_type": "markdown",
   "id": "40c2fcec",
   "metadata": {},
   "source": [
    "## Introduktion til Python\n",
    "\n",
    "### Installation\n",
    "\n",
    "* Writing and running Python code (py, ipynb, IDE, jupyterlab, colab)\n",
    "* Installation af Python (skal vi ikke her, men link til guide https://pythongis.org/part1/chapter-01/nb/06-installation.html)\n",
    "\n",
    "### Start\n",
    "\n",
    "* demonster import af libraries\n",
    "* basic calculator and logic\n",
    "* variable assignment\n",
    "* data types\n",
    "* list\n",
    "* print\n",
    "* functions\n",
    "* loops"
   ]
  },
  {
   "cell_type": "markdown",
   "id": "9e07e704",
   "metadata": {},
   "source": [
    "## Geodata og Python\n",
    "\n",
    "### Vektor\n",
    "\n",
    "plot, areal, crs\n",
    "\n",
    "### Raster\n",
    "\n"
   ]
  },
  {
   "cell_type": "markdown",
   "id": "986c99bb",
   "metadata": {},
   "source": [
    "## Øvelser"
   ]
  },
  {
   "cell_type": "markdown",
   "id": "6b8ce4bf",
   "metadata": {},
   "source": [
    "## Udfordring!"
   ]
  },
  {
   "cell_type": "markdown",
   "id": "b863176c",
   "metadata": {},
   "source": []
  }
 ],
 "metadata": {
  "language_info": {
   "name": "python"
  }
 },
 "nbformat": 4,
 "nbformat_minor": 5
}
