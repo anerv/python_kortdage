{
 "cells": [
  {
   "cell_type": "markdown",
   "id": "3acd57b9",
   "metadata": {},
   "source": [
    "<div style=\"text-align: center;\">\n",
    "<img src=\"images/python-logo.png\" alt=\"python_logo\" width=20% >\n",
    "\n",
    "# Kortdage 2025: Introduktion til Python\n",
    "\n",
    "</div>\n",
    "\n",
    "Formålet med workshoppen er at give en introduktion til, hvordan man kan arbejde med geodata i Python 🐍.\n",
    "Vi starter med en hurtigt introduktion til Python. Dernæst skal vi se eksempler på at arbejde med både vektor og rasterdata. Hvis der er tid slutter vi med lidt øvelser i hvad vi har lært - og er du hurtigt igennem kan du give dig i kast med udfordringen nederst! \n",
    "\n",
    "**Indhold:**\n",
    "\n",
    "* [Introduktion til Python](#introduktion-til-python)\n",
    "* [Vektordata og Geopandas](#vektor)\n",
    "* [Rasterdata med Python](#raster)\n",
    "* [Øvelser](#øvelser)\n",
    "* [Udfordring](#udfordring)\n",
    "\n",
    "\n",
    "Målsætningen med i dag er at komme godt *i gang* med Python - men det kræver mere end et par timer at lære alle de grundlæggende funktioner!\n",
    "\n",
    "For en grundigere introduktion til Python, se nogle af de materialer vi har linket til [HER](https://github.com/anerv/python_kortdage/blob/main/inspiration.md).\n",
    "\n",
    "*Workshoppen er baseret på materialer fra bl.a. [PythonCrashCourse](https://github.com/anastassiavybornova/pythoncrashcourse), [GeoPython](https://geo-python-site.readthedocs.io/en/latest/index.html) og [PythonGIS](https://pythongis.org/index.html).*"
   ]
  },
  {
   "cell_type": "markdown",
   "id": "d2355ef5",
   "metadata": {},
   "source": [
    "## ❓Hvorfor kode?\n",
    "\n",
    "Man kan gøre sådan ca. det samme med Python som et almindeligt desktop GIS-program, men kodning er særlig velegnet til:\n",
    "\n",
    "* *Store datasæt*\n",
    "* *Automatisering*\n",
    "* *Opgaver, der skal gentages igen og igen*\n",
    "\n",
    "Kodning hjælper os også med at *dokumentere* vores arbejde (du skriver alle dine analyse-skridt ned!).\n",
    "\n",
    "Når man først har lært det grundlæggende er det ofte også *hurtigere* end at skulle klikke rundt i et desktop-program.\n",
    "\n",
    "\n",
    "## ❓Hvorfor Python?\n",
    "\n",
    "* Et af de mest udbredte programmeringssprog - også inden for GIS og geodata 🌐\n",
    "* Relativt nemt at lære - selvom det ikke altid føles sådan i begyndelsen! 😩"
   ]
  },
  {
   "cell_type": "markdown",
   "id": "40c2fcec",
   "metadata": {},
   "source": [
    "## 💻 Installation osv.\n",
    "\n",
    "Det kan være lidt tricky første gang man skal installere Python. På denne her workshop bruger vi Google Colab så vi slipper for installationen, men du kan finde en guide her: https://pythongis.org/part1/chapter-01/nb/06-installation.html.\n",
    "\n",
    "\n",
    "<details>\n",
    "<summary><b>Hvilket program skal jeg bruge?</b></summary>\n",
    "\n",
    "Der er mange måde at køre Python-kode på! Man kan f.eks. bruge et program, designet til at skrive og køre kode (en IDE), køre sin kode i sin browser med Jupyter Lab eller Google Colab, eller bruge den indbyggede Python-konsol i QGIS.\n",
    "Vi anbefaler at arbejde i en IDE, f.eks. Visual Studio Code, hvor programmet også kan hjælpe en med syntax og version control.\n",
    "\n",
    "</details>\n",
    "\n"
   ]
  },
  {
   "cell_type": "markdown",
   "id": "5c00f2bb",
   "metadata": {},
   "source": [
    "***\n",
    "\n",
    "##  ✨ Introduktion til Python ✨\n",
    "\n",
    "### Python som lommeregner ✖️➗➖➕"
   ]
  },
  {
   "cell_type": "code",
   "execution_count": null,
   "id": "05a6af9d",
   "metadata": {},
   "outputs": [],
   "source": [
    "# Vi kan bruge Python til at lave simple beregninger\n",
    "# Det her er forresten en \"kommentar\" - hvis man sætter et # foran en linje, så bliver den ignoreret af Python\n",
    "# Kommentarer er gode til at forklare hvad koden gør"
   ]
  },
  {
   "cell_type": "code",
   "execution_count": 1,
   "id": "8a0c87a7",
   "metadata": {},
   "outputs": [
    {
     "data": {
      "text/plain": [
       "4"
      ]
     },
     "execution_count": 1,
     "metadata": {},
     "output_type": "execute_result"
    }
   ],
   "source": [
    "# Plus\n",
    "\n",
    "2 + 2"
   ]
  },
  {
   "cell_type": "code",
   "execution_count": 2,
   "id": "2ee7108c",
   "metadata": {},
   "outputs": [
    {
     "data": {
      "text/plain": [
       "8"
      ]
     },
     "execution_count": 2,
     "metadata": {},
     "output_type": "execute_result"
    }
   ],
   "source": [
    "# Minus\n",
    "\n",
    "10 - 2"
   ]
  },
  {
   "cell_type": "code",
   "execution_count": 3,
   "id": "f3f8d96a",
   "metadata": {},
   "outputs": [
    {
     "data": {
      "text/plain": [
       "15"
      ]
     },
     "execution_count": 3,
     "metadata": {},
     "output_type": "execute_result"
    }
   ],
   "source": [
    "# Gange\n",
    "\n",
    "5 * 3"
   ]
  },
  {
   "cell_type": "code",
   "execution_count": 4,
   "id": "3a08cb40",
   "metadata": {},
   "outputs": [
    {
     "data": {
      "text/plain": [
       "5.0"
      ]
     },
     "execution_count": 4,
     "metadata": {},
     "output_type": "execute_result"
    }
   ],
   "source": [
    "# Dividere\n",
    "\n",
    "20 / 4"
   ]
  },
  {
   "cell_type": "markdown",
   "id": "cb3470a5",
   "metadata": {},
   "source": [
    "Hvis vi vil lave mere komplicerede udregninger har vi brug for modulet `math`.\n",
    "\n",
    "* Python moduler er som \"apps\" til din telefon - de tilføjer ekstra funktionalitet til Python og vi slipper for at skulle skrive al kode helt fra bunden.\n",
    "* Vi kan importere et modul med kommandoen \"import\" og så navnet på modulet.\n",
    "* Nogen moduler er indbygget i Python, andre skal installeres først."
   ]
  },
  {
   "cell_type": "code",
   "execution_count": null,
   "id": "073f5d9c",
   "metadata": {},
   "outputs": [
    {
     "data": {
      "text/plain": [
       "4.0"
      ]
     },
     "execution_count": 5,
     "metadata": {},
     "output_type": "execute_result"
    }
   ],
   "source": [
    "import math\n",
    "\n",
    "math.sqrt(16)"
   ]
  },
  {
   "cell_type": "markdown",
   "id": "406a73df",
   "metadata": {},
   "source": [
    "### Datatyper i Python\n",
    "\n",
    "* Python har flere forskellige *typer* af data.\n",
    "* Hver type har forskellige metoder og egenskaber.\n",
    "* De vigtigste er **integer** (heltal), **float** (decimaltal), **string** (tekst) og **boolean** (True/False)"
   ]
  },
  {
   "cell_type": "code",
   "execution_count": 8,
   "id": "379b4279",
   "metadata": {},
   "outputs": [
    {
     "data": {
      "text/plain": [
       "int"
      ]
     },
     "execution_count": 8,
     "metadata": {},
     "output_type": "execute_result"
    }
   ],
   "source": [
    "# integer - hele tal\n",
    "\n",
    "# man kan se typen af en variabel med kommandoen type()\n",
    "\n",
    "type(5)"
   ]
  },
  {
   "cell_type": "code",
   "execution_count": 9,
   "id": "651ec3fd",
   "metadata": {},
   "outputs": [
    {
     "data": {
      "text/plain": [
       "float"
      ]
     },
     "execution_count": 9,
     "metadata": {},
     "output_type": "execute_result"
    }
   ],
   "source": [
    "type(2.5)"
   ]
  },
  {
   "cell_type": "code",
   "execution_count": 10,
   "id": "6f4dd13f",
   "metadata": {},
   "outputs": [
    {
     "data": {
      "text/plain": [
       "str"
      ]
     },
     "execution_count": 10,
     "metadata": {},
     "output_type": "execute_result"
    }
   ],
   "source": [
    "type(\"hej!\")"
   ]
  },
  {
   "cell_type": "code",
   "execution_count": null,
   "id": "bc5c2ca9",
   "metadata": {},
   "outputs": [
    {
     "data": {
      "text/plain": [
       "str"
      ]
     },
     "execution_count": 16,
     "metadata": {},
     "output_type": "execute_result"
    }
   ],
   "source": [
    "# det her er også en string\n",
    "type(\"2\")"
   ]
  },
  {
   "cell_type": "code",
   "execution_count": 11,
   "id": "6fa5b897",
   "metadata": {},
   "outputs": [
    {
     "data": {
      "text/plain": [
       "bool"
      ]
     },
     "execution_count": 11,
     "metadata": {},
     "output_type": "execute_result"
    }
   ],
   "source": [
    "type(True)"
   ]
  },
  {
   "cell_type": "markdown",
   "id": "55c24113",
   "metadata": {},
   "source": [
    "Datatyper er bl.a. vigtige, da de afgør, hvad der sker når vi arbejder med vores variable.\n",
    "\n",
    "Man kan fx plusse både tal og tekst, men med meget forskellige resultater!"
   ]
  },
  {
   "cell_type": "code",
   "execution_count": 12,
   "id": "2f56a5e0",
   "metadata": {},
   "outputs": [
    {
     "data": {
      "text/plain": [
       "12"
      ]
     },
     "execution_count": 12,
     "metadata": {},
     "output_type": "execute_result"
    }
   ],
   "source": [
    "2 + 10"
   ]
  },
  {
   "cell_type": "code",
   "execution_count": 13,
   "id": "1b656981",
   "metadata": {},
   "outputs": [
    {
     "data": {
      "text/plain": [
       "'hej med dig'"
      ]
     },
     "execution_count": 13,
     "metadata": {},
     "output_type": "execute_result"
    }
   ],
   "source": [
    "\"hej\" + \" med dig\""
   ]
  },
  {
   "cell_type": "markdown",
   "id": "ad615c29",
   "metadata": {},
   "source": [
    "Hvad sker der hvis man blander datatyper?"
   ]
  },
  {
   "cell_type": "code",
   "execution_count": 14,
   "id": "8b798a0b",
   "metadata": {},
   "outputs": [
    {
     "ename": "TypeError",
     "evalue": "unsupported operand type(s) for +: 'int' and 'str'",
     "output_type": "error",
     "traceback": [
      "\u001b[31m---------------------------------------------------------------------------\u001b[39m",
      "\u001b[31mTypeError\u001b[39m                                 Traceback (most recent call last)",
      "\u001b[36mCell\u001b[39m\u001b[36m \u001b[39m\u001b[32mIn[14]\u001b[39m\u001b[32m, line 1\u001b[39m\n\u001b[32m----> \u001b[39m\u001b[32m1\u001b[39m \u001b[32;43m2\u001b[39;49m\u001b[43m \u001b[49m\u001b[43m+\u001b[49m\u001b[43m \u001b[49m\u001b[33;43m\"\u001b[39;49m\u001b[33;43mhej\u001b[39;49m\u001b[33;43m\"\u001b[39;49m\n",
      "\u001b[31mTypeError\u001b[39m: unsupported operand type(s) for +: 'int' and 'str'"
     ]
    }
   ],
   "source": [
    "2 + \"hej\""
   ]
  },
  {
   "cell_type": "markdown",
   "id": "8204fc1c",
   "metadata": {
    "vscode": {
     "languageId": "plaintext"
    }
   },
   "source": [
    "### Variable i Python\n",
    "\n",
    "En python variabel er en \"beholder\" der kan indeholde data.\n",
    "\n",
    "Man bestemmer selv navnet på variablen *(navne kan dog kun undeholde tal, bogstaver og _, og de må ikke starte med et tal*).\n",
    "\n",
    "En variables skrives som `navn` = `værdi`.\n",
    "\n",
    "Fx: `min_variabel = 2025`\n",
    "\n",
    "* `min_variabel` er *navnet* på variablen.\n",
    "* `=` er den *operator* vi bruger til at koble navn og værdi.\n",
    "* `2025` er *værdien* af vores variabel.\n",
    "\n",
    "Variablen med navnet `min_variabel` indeholder nu en *pointer* der peger på værdien `2025` i din computers hukommelse.\n"
   ]
  },
  {
   "cell_type": "code",
   "execution_count": null,
   "id": "6b3cb1a0",
   "metadata": {},
   "outputs": [],
   "source": [
    "min_variabel = 2025"
   ]
  },
  {
   "cell_type": "code",
   "execution_count": 19,
   "id": "fa1265b7",
   "metadata": {},
   "outputs": [
    {
     "name": "stdout",
     "output_type": "stream",
     "text": [
      "2025\n"
     ]
    }
   ],
   "source": [
    "# Hvis man vil se hvad der er i en variabel kan man printe den!\n",
    "print(min_variabel)"
   ]
  },
  {
   "cell_type": "code",
   "execution_count": 20,
   "id": "7876744c",
   "metadata": {},
   "outputs": [
    {
     "name": "stdout",
     "output_type": "stream",
     "text": [
      "kortdage2025\n"
     ]
    }
   ],
   "source": [
    "# man kan overskrive værdien i en variabel\n",
    "min_variabel = \"kortdage2025\"\n",
    "\n",
    "print(min_variabel)"
   ]
  },
  {
   "cell_type": "markdown",
   "id": "6520d19c",
   "metadata": {},
   "source": [
    "Her arbejder vi i en **Jupyter Notebook**. Det betyder at vi automatisk får printet resultaterne af den sidste beregning i hver celle ✏️. \n",
    "\n",
    "Hvis vi vil printe mere end den sidste udregning (eller arbejder i en anden type fil) skal vi eksplicit bede Python om at printe resultatet:"
   ]
  },
  {
   "cell_type": "code",
   "execution_count": 22,
   "id": "0a4c2515",
   "metadata": {},
   "outputs": [
    {
     "data": {
      "text/plain": [
       "4"
      ]
     },
     "execution_count": 22,
     "metadata": {},
     "output_type": "execute_result"
    }
   ],
   "source": [
    "13 + 14 + 15\n",
    "\n",
    "2 + 2"
   ]
  },
  {
   "cell_type": "code",
   "execution_count": 26,
   "id": "bd20068a",
   "metadata": {},
   "outputs": [
    {
     "name": "stdout",
     "output_type": "stream",
     "text": [
      "42\n",
      "4\n"
     ]
    }
   ],
   "source": [
    "print(13 + 14 + 15)\n",
    "\n",
    "print(2 + 2)"
   ]
  },
  {
   "cell_type": "markdown",
   "id": "cbad9734",
   "metadata": {},
   "source": [
    "Hvis du vil vide mere om, hvordan noget virker kan du altid bede om hjælp! 🆘"
   ]
  },
  {
   "cell_type": "code",
   "execution_count": 14,
   "id": "e18e1d9f",
   "metadata": {},
   "outputs": [
    {
     "name": "stdout",
     "output_type": "stream",
     "text": [
      "Help on built-in function print in module builtins:\n",
      "\n",
      "print(*args, sep=' ', end='\\n', file=None, flush=False)\n",
      "    Prints the values to a stream, or to sys.stdout by default.\n",
      "\n",
      "    sep\n",
      "      string inserted between values, default a space.\n",
      "    end\n",
      "      string appended after the last value, default a newline.\n",
      "    file\n",
      "      a file-like object (stream); defaults to the current sys.stdout.\n",
      "    flush\n",
      "      whether to forcibly flush the stream.\n",
      "\n"
     ]
    }
   ],
   "source": [
    "help(print)"
   ]
  },
  {
   "cell_type": "code",
   "execution_count": 16,
   "id": "d43be19b",
   "metadata": {},
   "outputs": [
    {
     "name": "stdout",
     "output_type": "stream",
     "text": [
      "Help on class str in module builtins:\n",
      "\n",
      "class str(object)\n",
      " |  str(object='') -> str\n",
      " |  str(bytes_or_buffer[, encoding[, errors]]) -> str\n",
      " |\n",
      " |  Create a new string object from the given object. If encoding or\n",
      " |  errors is specified, then the object must expose a data buffer\n",
      " |  that will be decoded using the given encoding and error handler.\n",
      " |  Otherwise, returns the result of object.__str__() (if defined)\n",
      " |  or repr(object).\n",
      " |  encoding defaults to sys.getdefaultencoding().\n",
      " |  errors defaults to 'strict'.\n",
      " |\n",
      " |  Methods defined here:\n",
      " |\n",
      " |  __add__(self, value, /)\n",
      " |      Return self+value.\n",
      " |\n",
      " |  __contains__(self, key, /)\n",
      " |      Return bool(key in self).\n",
      " |\n",
      " |  __eq__(self, value, /)\n",
      " |      Return self==value.\n",
      " |\n",
      " |  __format__(self, format_spec, /)\n",
      " |      Return a formatted version of the string as described by format_spec.\n",
      " |\n",
      " |  __ge__(self, value, /)\n",
      " |      Return self>=value.\n",
      " |\n",
      " |  __getitem__(self, key, /)\n",
      " |      Return self[key].\n",
      " |\n",
      " |  __getnewargs__(...)\n",
      " |\n",
      " |  __gt__(self, value, /)\n",
      " |      Return self>value.\n",
      " |\n",
      " |  __hash__(self, /)\n",
      " |      Return hash(self).\n",
      " |\n",
      " |  __iter__(self, /)\n",
      " |      Implement iter(self).\n",
      " |\n",
      " |  __le__(self, value, /)\n",
      " |      Return self<=value.\n",
      " |\n",
      " |  __len__(self, /)\n",
      " |      Return len(self).\n",
      " |\n",
      " |  __lt__(self, value, /)\n",
      " |      Return self<value.\n",
      " |\n",
      " |  __mod__(self, value, /)\n",
      " |      Return self%value.\n",
      " |\n",
      " |  __mul__(self, value, /)\n",
      " |      Return self*value.\n",
      " |\n",
      " |  __ne__(self, value, /)\n",
      " |      Return self!=value.\n",
      " |\n",
      " |  __repr__(self, /)\n",
      " |      Return repr(self).\n",
      " |\n",
      " |  __rmod__(self, value, /)\n",
      " |      Return value%self.\n",
      " |\n",
      " |  __rmul__(self, value, /)\n",
      " |      Return value*self.\n",
      " |\n",
      " |  __sizeof__(self, /)\n",
      " |      Return the size of the string in memory, in bytes.\n",
      " |\n",
      " |  __str__(self, /)\n",
      " |      Return str(self).\n",
      " |\n",
      " |  capitalize(self, /)\n",
      " |      Return a capitalized version of the string.\n",
      " |\n",
      " |      More specifically, make the first character have upper case and the rest lower\n",
      " |      case.\n",
      " |\n",
      " |  casefold(self, /)\n",
      " |      Return a version of the string suitable for caseless comparisons.\n",
      " |\n",
      " |  center(self, width, fillchar=' ', /)\n",
      " |      Return a centered string of length width.\n",
      " |\n",
      " |      Padding is done using the specified fill character (default is a space).\n",
      " |\n",
      " |  count(...)\n",
      " |      S.count(sub[, start[, end]]) -> int\n",
      " |\n",
      " |      Return the number of non-overlapping occurrences of substring sub in\n",
      " |      string S[start:end].  Optional arguments start and end are\n",
      " |      interpreted as in slice notation.\n",
      " |\n",
      " |  encode(self, /, encoding='utf-8', errors='strict')\n",
      " |      Encode the string using the codec registered for encoding.\n",
      " |\n",
      " |      encoding\n",
      " |        The encoding in which to encode the string.\n",
      " |      errors\n",
      " |        The error handling scheme to use for encoding errors.\n",
      " |        The default is 'strict' meaning that encoding errors raise a\n",
      " |        UnicodeEncodeError.  Other possible values are 'ignore', 'replace' and\n",
      " |        'xmlcharrefreplace' as well as any other name registered with\n",
      " |        codecs.register_error that can handle UnicodeEncodeErrors.\n",
      " |\n",
      " |  endswith(...)\n",
      " |      S.endswith(suffix[, start[, end]]) -> bool\n",
      " |\n",
      " |      Return True if S ends with the specified suffix, False otherwise.\n",
      " |      With optional start, test S beginning at that position.\n",
      " |      With optional end, stop comparing S at that position.\n",
      " |      suffix can also be a tuple of strings to try.\n",
      " |\n",
      " |  expandtabs(self, /, tabsize=8)\n",
      " |      Return a copy where all tab characters are expanded using spaces.\n",
      " |\n",
      " |      If tabsize is not given, a tab size of 8 characters is assumed.\n",
      " |\n",
      " |  find(...)\n",
      " |      S.find(sub[, start[, end]]) -> int\n",
      " |\n",
      " |      Return the lowest index in S where substring sub is found,\n",
      " |      such that sub is contained within S[start:end].  Optional\n",
      " |      arguments start and end are interpreted as in slice notation.\n",
      " |\n",
      " |      Return -1 on failure.\n",
      " |\n",
      " |  format(...)\n",
      " |      S.format(*args, **kwargs) -> str\n",
      " |\n",
      " |      Return a formatted version of S, using substitutions from args and kwargs.\n",
      " |      The substitutions are identified by braces ('{' and '}').\n",
      " |\n",
      " |  format_map(...)\n",
      " |      S.format_map(mapping) -> str\n",
      " |\n",
      " |      Return a formatted version of S, using substitutions from mapping.\n",
      " |      The substitutions are identified by braces ('{' and '}').\n",
      " |\n",
      " |  index(...)\n",
      " |      S.index(sub[, start[, end]]) -> int\n",
      " |\n",
      " |      Return the lowest index in S where substring sub is found,\n",
      " |      such that sub is contained within S[start:end].  Optional\n",
      " |      arguments start and end are interpreted as in slice notation.\n",
      " |\n",
      " |      Raises ValueError when the substring is not found.\n",
      " |\n",
      " |  isalnum(self, /)\n",
      " |      Return True if the string is an alpha-numeric string, False otherwise.\n",
      " |\n",
      " |      A string is alpha-numeric if all characters in the string are alpha-numeric and\n",
      " |      there is at least one character in the string.\n",
      " |\n",
      " |  isalpha(self, /)\n",
      " |      Return True if the string is an alphabetic string, False otherwise.\n",
      " |\n",
      " |      A string is alphabetic if all characters in the string are alphabetic and there\n",
      " |      is at least one character in the string.\n",
      " |\n",
      " |  isascii(self, /)\n",
      " |      Return True if all characters in the string are ASCII, False otherwise.\n",
      " |\n",
      " |      ASCII characters have code points in the range U+0000-U+007F.\n",
      " |      Empty string is ASCII too.\n",
      " |\n",
      " |  isdecimal(self, /)\n",
      " |      Return True if the string is a decimal string, False otherwise.\n",
      " |\n",
      " |      A string is a decimal string if all characters in the string are decimal and\n",
      " |      there is at least one character in the string.\n",
      " |\n",
      " |  isdigit(self, /)\n",
      " |      Return True if the string is a digit string, False otherwise.\n",
      " |\n",
      " |      A string is a digit string if all characters in the string are digits and there\n",
      " |      is at least one character in the string.\n",
      " |\n",
      " |  isidentifier(self, /)\n",
      " |      Return True if the string is a valid Python identifier, False otherwise.\n",
      " |\n",
      " |      Call keyword.iskeyword(s) to test whether string s is a reserved identifier,\n",
      " |      such as \"def\" or \"class\".\n",
      " |\n",
      " |  islower(self, /)\n",
      " |      Return True if the string is a lowercase string, False otherwise.\n",
      " |\n",
      " |      A string is lowercase if all cased characters in the string are lowercase and\n",
      " |      there is at least one cased character in the string.\n",
      " |\n",
      " |  isnumeric(self, /)\n",
      " |      Return True if the string is a numeric string, False otherwise.\n",
      " |\n",
      " |      A string is numeric if all characters in the string are numeric and there is at\n",
      " |      least one character in the string.\n",
      " |\n",
      " |  isprintable(self, /)\n",
      " |      Return True if all characters in the string are printable, False otherwise.\n",
      " |\n",
      " |      A character is printable if repr() may use it in its output.\n",
      " |\n",
      " |  isspace(self, /)\n",
      " |      Return True if the string is a whitespace string, False otherwise.\n",
      " |\n",
      " |      A string is whitespace if all characters in the string are whitespace and there\n",
      " |      is at least one character in the string.\n",
      " |\n",
      " |  istitle(self, /)\n",
      " |      Return True if the string is a title-cased string, False otherwise.\n",
      " |\n",
      " |      In a title-cased string, upper- and title-case characters may only\n",
      " |      follow uncased characters and lowercase characters only cased ones.\n",
      " |\n",
      " |  isupper(self, /)\n",
      " |      Return True if the string is an uppercase string, False otherwise.\n",
      " |\n",
      " |      A string is uppercase if all cased characters in the string are uppercase and\n",
      " |      there is at least one cased character in the string.\n",
      " |\n",
      " |  join(self, iterable, /)\n",
      " |      Concatenate any number of strings.\n",
      " |\n",
      " |      The string whose method is called is inserted in between each given string.\n",
      " |      The result is returned as a new string.\n",
      " |\n",
      " |      Example: '.'.join(['ab', 'pq', 'rs']) -> 'ab.pq.rs'\n",
      " |\n",
      " |  ljust(self, width, fillchar=' ', /)\n",
      " |      Return a left-justified string of length width.\n",
      " |\n",
      " |      Padding is done using the specified fill character (default is a space).\n",
      " |\n",
      " |  lower(self, /)\n",
      " |      Return a copy of the string converted to lowercase.\n",
      " |\n",
      " |  lstrip(self, chars=None, /)\n",
      " |      Return a copy of the string with leading whitespace removed.\n",
      " |\n",
      " |      If chars is given and not None, remove characters in chars instead.\n",
      " |\n",
      " |  partition(self, sep, /)\n",
      " |      Partition the string into three parts using the given separator.\n",
      " |\n",
      " |      This will search for the separator in the string.  If the separator is found,\n",
      " |      returns a 3-tuple containing the part before the separator, the separator\n",
      " |      itself, and the part after it.\n",
      " |\n",
      " |      If the separator is not found, returns a 3-tuple containing the original string\n",
      " |      and two empty strings.\n",
      " |\n",
      " |  removeprefix(self, prefix, /)\n",
      " |      Return a str with the given prefix string removed if present.\n",
      " |\n",
      " |      If the string starts with the prefix string, return string[len(prefix):].\n",
      " |      Otherwise, return a copy of the original string.\n",
      " |\n",
      " |  removesuffix(self, suffix, /)\n",
      " |      Return a str with the given suffix string removed if present.\n",
      " |\n",
      " |      If the string ends with the suffix string and that suffix is not empty,\n",
      " |      return string[:-len(suffix)]. Otherwise, return a copy of the original\n",
      " |      string.\n",
      " |\n",
      " |  replace(self, old, new, count=-1, /)\n",
      " |      Return a copy with all occurrences of substring old replaced by new.\n",
      " |\n",
      " |        count\n",
      " |          Maximum number of occurrences to replace.\n",
      " |          -1 (the default value) means replace all occurrences.\n",
      " |\n",
      " |      If the optional argument count is given, only the first count occurrences are\n",
      " |      replaced.\n",
      " |\n",
      " |  rfind(...)\n",
      " |      S.rfind(sub[, start[, end]]) -> int\n",
      " |\n",
      " |      Return the highest index in S where substring sub is found,\n",
      " |      such that sub is contained within S[start:end].  Optional\n",
      " |      arguments start and end are interpreted as in slice notation.\n",
      " |\n",
      " |      Return -1 on failure.\n",
      " |\n",
      " |  rindex(...)\n",
      " |      S.rindex(sub[, start[, end]]) -> int\n",
      " |\n",
      " |      Return the highest index in S where substring sub is found,\n",
      " |      such that sub is contained within S[start:end].  Optional\n",
      " |      arguments start and end are interpreted as in slice notation.\n",
      " |\n",
      " |      Raises ValueError when the substring is not found.\n",
      " |\n",
      " |  rjust(self, width, fillchar=' ', /)\n",
      " |      Return a right-justified string of length width.\n",
      " |\n",
      " |      Padding is done using the specified fill character (default is a space).\n",
      " |\n",
      " |  rpartition(self, sep, /)\n",
      " |      Partition the string into three parts using the given separator.\n",
      " |\n",
      " |      This will search for the separator in the string, starting at the end. If\n",
      " |      the separator is found, returns a 3-tuple containing the part before the\n",
      " |      separator, the separator itself, and the part after it.\n",
      " |\n",
      " |      If the separator is not found, returns a 3-tuple containing two empty strings\n",
      " |      and the original string.\n",
      " |\n",
      " |  rsplit(self, /, sep=None, maxsplit=-1)\n",
      " |      Return a list of the substrings in the string, using sep as the separator string.\n",
      " |\n",
      " |        sep\n",
      " |          The separator used to split the string.\n",
      " |\n",
      " |          When set to None (the default value), will split on any whitespace\n",
      " |          character (including \\n \\r \\t \\f and spaces) and will discard\n",
      " |          empty strings from the result.\n",
      " |        maxsplit\n",
      " |          Maximum number of splits.\n",
      " |          -1 (the default value) means no limit.\n",
      " |\n",
      " |      Splitting starts at the end of the string and works to the front.\n",
      " |\n",
      " |  rstrip(self, chars=None, /)\n",
      " |      Return a copy of the string with trailing whitespace removed.\n",
      " |\n",
      " |      If chars is given and not None, remove characters in chars instead.\n",
      " |\n",
      " |  split(self, /, sep=None, maxsplit=-1)\n",
      " |      Return a list of the substrings in the string, using sep as the separator string.\n",
      " |\n",
      " |        sep\n",
      " |          The separator used to split the string.\n",
      " |\n",
      " |          When set to None (the default value), will split on any whitespace\n",
      " |          character (including \\n \\r \\t \\f and spaces) and will discard\n",
      " |          empty strings from the result.\n",
      " |        maxsplit\n",
      " |          Maximum number of splits.\n",
      " |          -1 (the default value) means no limit.\n",
      " |\n",
      " |      Splitting starts at the front of the string and works to the end.\n",
      " |\n",
      " |      Note, str.split() is mainly useful for data that has been intentionally\n",
      " |      delimited.  With natural text that includes punctuation, consider using\n",
      " |      the regular expression module.\n",
      " |\n",
      " |  splitlines(self, /, keepends=False)\n",
      " |      Return a list of the lines in the string, breaking at line boundaries.\n",
      " |\n",
      " |      Line breaks are not included in the resulting list unless keepends is given and\n",
      " |      true.\n",
      " |\n",
      " |  startswith(...)\n",
      " |      S.startswith(prefix[, start[, end]]) -> bool\n",
      " |\n",
      " |      Return True if S starts with the specified prefix, False otherwise.\n",
      " |      With optional start, test S beginning at that position.\n",
      " |      With optional end, stop comparing S at that position.\n",
      " |      prefix can also be a tuple of strings to try.\n",
      " |\n",
      " |  strip(self, chars=None, /)\n",
      " |      Return a copy of the string with leading and trailing whitespace removed.\n",
      " |\n",
      " |      If chars is given and not None, remove characters in chars instead.\n",
      " |\n",
      " |  swapcase(self, /)\n",
      " |      Convert uppercase characters to lowercase and lowercase characters to uppercase.\n",
      " |\n",
      " |  title(self, /)\n",
      " |      Return a version of the string where each word is titlecased.\n",
      " |\n",
      " |      More specifically, words start with uppercased characters and all remaining\n",
      " |      cased characters have lower case.\n",
      " |\n",
      " |  translate(self, table, /)\n",
      " |      Replace each character in the string using the given translation table.\n",
      " |\n",
      " |        table\n",
      " |          Translation table, which must be a mapping of Unicode ordinals to\n",
      " |          Unicode ordinals, strings, or None.\n",
      " |\n",
      " |      The table must implement lookup/indexing via __getitem__, for instance a\n",
      " |      dictionary or list.  If this operation raises LookupError, the character is\n",
      " |      left untouched.  Characters mapped to None are deleted.\n",
      " |\n",
      " |  upper(self, /)\n",
      " |      Return a copy of the string converted to uppercase.\n",
      " |\n",
      " |  zfill(self, width, /)\n",
      " |      Pad a numeric string with zeros on the left, to fill a field of the given width.\n",
      " |\n",
      " |      The string is never truncated.\n",
      " |\n",
      " |  ----------------------------------------------------------------------\n",
      " |  Static methods defined here:\n",
      " |\n",
      " |  __new__(*args, **kwargs)\n",
      " |      Create and return a new object.  See help(type) for accurate signature.\n",
      " |\n",
      " |  maketrans(...)\n",
      " |      Return a translation table usable for str.translate().\n",
      " |\n",
      " |      If there is only one argument, it must be a dictionary mapping Unicode\n",
      " |      ordinals (integers) or characters to Unicode ordinals, strings or None.\n",
      " |      Character keys will be then converted to ordinals.\n",
      " |      If there are two arguments, they must be strings of equal length, and\n",
      " |      in the resulting dictionary, each character in x will be mapped to the\n",
      " |      character at the same position in y. If there is a third argument, it\n",
      " |      must be a string, whose characters will be mapped to None in the result.\n",
      "\n"
     ]
    }
   ],
   "source": [
    "help(str)"
   ]
  },
  {
   "cell_type": "markdown",
   "id": "7458cbdd",
   "metadata": {},
   "source": [
    "### Lister\n",
    "\n",
    "Man har ofte brug for at gemme mere end én værdi i en variabel.\n",
    "\n",
    "Python har flere forskellige måder at gøre det på, men den mest udbredte er nok en simpel **liste**.\n",
    "\n",
    "* En liste er omgivet af *firkantede* parentes-tegn 🔲\n",
    "* Værdier adskilles af *komma* `,`"
   ]
  },
  {
   "cell_type": "code",
   "execution_count": 5,
   "id": "e33dcaae",
   "metadata": {},
   "outputs": [],
   "source": [
    "en_liste = [1, 2, 3, 4, 5]"
   ]
  },
  {
   "cell_type": "code",
   "execution_count": 7,
   "id": "292a65c2",
   "metadata": {},
   "outputs": [
    {
     "data": {
      "text/plain": [
       "list"
      ]
     },
     "execution_count": 7,
     "metadata": {},
     "output_type": "execute_result"
    }
   ],
   "source": [
    "type(en_liste)"
   ]
  },
  {
   "cell_type": "code",
   "execution_count": null,
   "id": "18132720",
   "metadata": {},
   "outputs": [],
   "source": [
    "# Python indexing starter ved 0!\n",
    "en_liste[0]"
   ]
  },
  {
   "cell_type": "code",
   "execution_count": null,
   "id": "1e3d2a94",
   "metadata": {},
   "outputs": [
    {
     "ename": "IndexError",
     "evalue": "list index out of range",
     "output_type": "error",
     "traceback": [
      "\u001b[31m---------------------------------------------------------------------------\u001b[39m",
      "\u001b[31mIndexError\u001b[39m                                Traceback (most recent call last)",
      "\u001b[36mCell\u001b[39m\u001b[36m \u001b[39m\u001b[32mIn[10]\u001b[39m\u001b[32m, line 1\u001b[39m\n\u001b[32m----> \u001b[39m\u001b[32m1\u001b[39m \u001b[43men_liste\u001b[49m\u001b[43m[\u001b[49m\u001b[32;43m6\u001b[39;49m\u001b[43m]\u001b[49m \u001b[38;5;66;03m# Giver fejl fordi der ikke er noget 7. element i listen\u001b[39;00m\n",
      "\u001b[31mIndexError\u001b[39m: list index out of range"
     ]
    }
   ],
   "source": [
    "en_liste[6]  # Giver fejl fordi der ikke er noget 7. element i listen"
   ]
  },
  {
   "cell_type": "markdown",
   "id": "ba573578",
   "metadata": {},
   "source": [
    "### Loops ➿\n",
    "\n",
    "En af de bedste grunde til at bruge Python er, at det gør det nemt at gøre den samme ting mange gange i træk - f.eks. ved at bruge et **loop**.\n",
    "\n",
    "I et `for`-loop itererer vi over et itererbart objet - fx en liste - og for hvert element i listen kører vi vores kode:\n",
    "\n",
    "```python\n",
    "for variable in iterable_object:\n",
    "    kode-statement\n",
    "# i det her loop vil koden blive eksekveret lige så mange gange som vi har elementer i vores iterable objekt .\n",
    "```"
   ]
  },
  {
   "cell_type": "code",
   "execution_count": null,
   "id": "9004db8f",
   "metadata": {},
   "outputs": [
    {
     "name": "stdout",
     "output_type": "stream",
     "text": [
      "1\n",
      "2\n",
      "3\n",
      "4\n",
      "5\n"
     ]
    }
   ],
   "source": [
    "# Det her er et simpelt eksempel - men man kan putte hvad som helt ind i et loop\n",
    "\n",
    "for element in en_liste:  # vores liste fra før\n",
    "    print(element)"
   ]
  },
  {
   "cell_type": "markdown",
   "id": "e8ed055b",
   "metadata": {},
   "source": [
    "***"
   ]
  },
  {
   "cell_type": "markdown",
   "id": "b29f2984",
   "metadata": {},
   "source": [
    "## GeoPython 🌏"
   ]
  },
  {
   "cell_type": "markdown",
   "id": "31554e95",
   "metadata": {},
   "source": [
    "### Vektor\n",
    "\n",
    "Vektor-data i Python ligner det man kender fra andre programmer, hvor alle geometrier er enten punkter 🔵, linjer 〽️ eller polygoner 🔳.\n",
    "\n",
    "* Indlæs fra url \n",
    "\n",
    "* vis data (head)\n",
    "\n",
    "* geopandas explore \n",
    "\n",
    "* Tjek CRS og reproject\n",
    "\n",
    "* beregn areal\n",
    "\n",
    "* indlæs datasæt 2\n",
    "\n",
    "* vis spatial intersection/spatial join\n",
    "\n",
    "* lav kort simpelt og lav flot kort med klassifikation, legend, scale-bar etc\n",
    "\n",
    "\n",
    "* nævn at areal, plot, etc er indbyggede funktioner - men man kan også skrive sin egen\n",
    "\n",
    "* introducer syntaks for funktion\n",
    "\n",
    "* fx er her en funktion der for hver kommune beregner arealet og laver et kort af kommunen\n",
    "\n"
   ]
  },
  {
   "cell_type": "code",
   "execution_count": 13,
   "id": "65349de3",
   "metadata": {},
   "outputs": [],
   "source": [
    "import geopandas as gpd  # her importerer vi et ekstra bibliotek som hedder geopandas\n",
    "\n",
    "# vi forkorter det til gpd så vi ikke behøver skrive geopandas hele tiden\n",
    "# geopandas er bygget oven på pandas, som er et bibliotek til at håndtere tabulære data (lidt ligesom excel)\n",
    "# geopandas tilføjer funktionalitet til at håndtere geografiske data"
   ]
  },
  {
   "cell_type": "code",
   "execution_count": null,
   "id": "54235ab5",
   "metadata": {},
   "outputs": [],
   "source": []
  },
  {
   "cell_type": "markdown",
   "id": "ec0550f2",
   "metadata": {},
   "source": [
    "***"
   ]
  },
  {
   "cell_type": "markdown",
   "id": "03b1e310",
   "metadata": {},
   "source": [
    "### Raster"
   ]
  },
  {
   "cell_type": "markdown",
   "id": "986c99bb",
   "metadata": {},
   "source": [
    "## Øvelser\n",
    "\n",
    "* basic python øvelser (definer nogle variable. Lav en liste med dem. Print det tredje element. Beregn hvad XX regnestykke er.)\n",
    "* Geodata-øvelser (reproject, spatial join, indlæs data)."
   ]
  },
  {
   "cell_type": "markdown",
   "id": "6b8ce4bf",
   "metadata": {},
   "source": [
    "## Udfordring!\n",
    "\n",
    "* skriv en funktion der kan et eller andet (geometriske operationer? find alle punkt data i hver kommune)\n",
    "\n",
    "* lav et kort med et eller andet"
   ]
  },
  {
   "cell_type": "markdown",
   "id": "b863176c",
   "metadata": {},
   "source": [
    "**Vil du lære mere? Se vores liste over kurser og bøger [HER](https://github.com/anerv/python_kortdage/blob/main/inspiration.md).**"
   ]
  }
 ],
 "metadata": {
  "kernelspec": {
   "display_name": "innotech",
   "language": "python",
   "name": "python3"
  },
  "language_info": {
   "codemirror_mode": {
    "name": "ipython",
    "version": 3
   },
   "file_extension": ".py",
   "mimetype": "text/x-python",
   "name": "python",
   "nbconvert_exporter": "python",
   "pygments_lexer": "ipython3",
   "version": "3.12.11"
  }
 },
 "nbformat": 4,
 "nbformat_minor": 5
}
