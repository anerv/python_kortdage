{
 "cells": [
  {
   "cell_type": "markdown",
   "metadata": {},
   "source": [
    "# Kortdage 2025 - Introduktion til Python - Raster\n",
    "\n",
    "## Hvorfor arbejde med raster? \n",
    "Raster giver nogle andre muligheder end vektordata, da man typisk kan få dækket større arealer på én gang og danne grundlag for fx bydækkende eller landsdækkende datasæt. \n",
    "Man kan fx bruge den nationale højdemodel til at lave klimatilpasningsanalyser, finde højde på bygninger og klassificere ortofotos.\n",
    "\n",
    "I dag findes der en masse gratis og offentlig tilgængelige rasterdata, specielt i form af satellitbilleder. Både ESA og NASA udstiller mange af deres produkter gratis og de kan med relativt simple analyser bruges i den offentlige forvaltning. KDS har også en del rasterprodukter, der udstiller frit, fx højdemodellen og ortofotos.\n",
    "\n",
    "I disse øvelser bliver der anvendt et billede fra en af NASA's Landsat satellitter. Landsat-missionen har eksisteret siden 1970'erne og er bredt anvendt i forskning og offentlig forvaltning. Vi skal bruge data på overfladetemperaturer, for at vise et eksempel på, hvordan overfladetemperaturerne i en dansk by varierer. \n",
    "\n",
    "I øvelserne bliver der taget udgangspunkt i overfladetemperaturer i Nykøbing Falster. Der anvendes to datasæt, et rasterbillede med overfladetemperaturer og nogle af afstemningsområderne fra området. Afstemningsområderne bliver brugt til at vise, hvordan man kan kombinere raster og vektordata. Overfladetemperaturerne er fra en tilfældig sommerdag og de skal blot ses som et eksempel på rasterdata, da der ikke er lavet kvalitetstjek af data.\n",
    "\n",
    "Vi skal igennem fem øvelser: \n",
    "1. Indlæsning af raster og vektordata samt simple plots\n",
    "2. Undersøgelse af gennemsnitsoverfladetemperaturen i nogle administrative områder\n",
    "3. Indeksering af raster \n",
    "4. Udpegning af de varmeste områder\n",
    "5. Eksport af data\n",
    "\n",
    "For at give jer lidt inspiration og præsentere jer for nogle af de muligheder, der er for at arbejde med raster i Python, indeholder denne del af workshoppen ikke så mange 'gør det selv'-opgaver. Læringskurven er ret stejl, men det kan forhåbentlig give jer lidt blod på tanden.\n",
    "\n",
    "Der er enormt mange måder at arbejde med data i Python og her bliver der kun præsenteret et par stykker. Denne del af workshoppen vil være præget af, at det er Julie, der har lavet eksemplerne. Måden koden er skrevet på, kommentarerne, de anvendte biblioteker mm vil være én måde at gøre det på og ikke nødvendigvis den mest effektive eller overskuelige for andre. \n",
    "Det handler i høj grad om at finde sin egen stil og en måde at kode på, der passer til ens eget temperament. \n",
    "\n",
    "Hvis der er noget, der ikke giver mening, skal I endelig ikke holde jer tilbage med at spørge. \n",
    "\n",
    "NB: Indentation er vigtigt i python. Nogle funktioner kræver, at nogle linjer er indenteret.  \n",
    "\n",
    "\n",
    "Der kan hentes yderligere inspiration og hjælp fra bl.a. disse sider: \n",
    "* [Earth Data Science - generel intro til raster](https://earthdatascience.org/courses/use-data-open-source-python/intro-raster-data-python/)\n",
    "* [Geo Hack Week - eksempler på arbejde med Landsat billeder](https://geohackweek.github.io/raster/04-workingwithrasters/)\n",
    "* [Google Earth Engine - gratis for non-kommercielle kunder ](https://earthengine.google.com/)\n",
    "\n",
    "\n",
    "Information og dokumentation af typisk anvendte biblioteker til raster: \n",
    "* [Rasterio](https://rasterio.readthedocs.io/en/stable/)\n",
    "* [Numpy](https://numpy.org/)\n",
    "* [GDAL, som også findes i QGIS](https://gdal.org/en/stable/)\n",
    "\n"
   ]
  },
  {
   "cell_type": "markdown",
   "metadata": {},
   "source": [
    "\n",
    "### Øvelse 1 - import af data \n",
    "Installation af libraries. Nogle af de libraries, der anvendes, når man arbejder med raster er ikke så gængse i Python-verdenen. \n",
    "Det mest anvendte er rasterio, men numpy kan også bruges til at løse mange opgaver. Det er også muligt at arbejde med GDAL, som også findes i QGIS. "
   ]
  },
  {
   "cell_type": "code",
   "execution_count": null,
   "metadata": {},
   "outputs": [],
   "source": [
    "!pip install geopandas\n",
    "!pip install pandas\n",
    "!pip install rasterio\n",
    "!pip install rasterstats\n",
    "!pip install owslib\n",
    "!pip install matplotlib"
   ]
  },
  {
   "cell_type": "markdown",
   "metadata": {},
   "source": [
    "Indlæsning af libraries. Når libraries er installeret skal de indlæses, så de kan anvendes i scriptet. \n",
    "\n",
    "Bemærk at flere af dem indlæses med et alias (fx import geopandas as gpd). Det gøres, for at slippe for at skrive hele navnet, når man skal kalde en funktion. "
   ]
  },
  {
   "cell_type": "code",
   "execution_count": null,
   "metadata": {},
   "outputs": [],
   "source": [
    "import geopandas as gpd\n",
    "import pandas as pd\n",
    "\n",
    "import numpy as np\n",
    "import rasterio\n",
    "from rasterio.plot import show\n",
    "from rasterio.mask import mask\n",
    "from rasterio.plot import plotting_extent\n",
    "\n",
    "from rasterstats import zonal_stats\n",
    "from datetime import datetime\n",
    "import os\n",
    "\n",
    "import matplotlib.pyplot as plt\n",
    "from matplotlib.colors import ListedColormap, Normalize\n",
    "import matplotlib.colors as colors"
   ]
  },
  {
   "cell_type": "markdown",
   "metadata": {},
   "source": [
    "**Indlæsning af data**\n",
    "\n",
    "Til opgaven skal der anvendes et rasterbillede og noget vektordata. \n",
    "Rasterdata kan indlæses på flere måder. Rasterio har en relativ simpel 'open' funktion, hvor båndene i en rasterfil kan indlæses ét af gangen eller flere på samme tid. \n",
    "I dette tilfælde har rasterfilen kun et bånd og det indlæses i variablen 'uhiraster' ved at bruge stien til billedet.\n",
    "\n",
    "Vektordata kan også indlæses på flere måder. I dette tilfælde anvendes Geopandas, som også blev anvendt i den første del af workshoppen. \n",
    "Vektordataen kommer fra en geopackage og bliver indlæst med geopandas funktionen 'read_file'. Der kan også indlæses data fra andre filformater, databaser og diverse web-services. "
   ]
  },
  {
   "cell_type": "code",
   "execution_count": null,
   "metadata": {},
   "outputs": [],
   "source": [
    "# For at downloade vores input data til google colab kloner vi vores github repository \n",
    "if not os.path.exists('/content/python_kortdage'):\n",
    "\n",
    "    ! git clone https://github.com/anerv/python_kortdage\n",
    "\n",
    "else:\n",
    "    print(\"Repository already cloned\")"
   ]
  },
  {
   "cell_type": "code",
   "execution_count": null,
   "metadata": {},
   "outputs": [],
   "source": [
    "# Url til billedets placering\n",
    "inputuhi = \"/content/python_kortdage/data/lst_nykoebing_f_2025_celcius.tif\"\n",
    "\n",
    "\n",
    "# Åbn billedet med rasterio. Læs bånd nr. 1 og definer datatypen som float.\n",
    "with rasterio.open(inputuhi) as src:\n",
    "    uhiraster = src.read(1)  # Læs det første bånd\n",
    "    transform = (\n",
    "        src.transform\n",
    "    )  # Transform bruges til placeringen af rasteren, cellestørrelse mm\n",
    "    raster_crs = src.crs# Læs CRS\n",
    "    uhi_extent = plotting_extent(src)  # Bruges til plot \n",
    "\n",
    "# No-data værdien i dette billede er sat til en negativ værdi, så alle celler, der er under 0, sættes til No Data (her er et eksempel på, hvordan numpy kan bruges med rasterdata)\n",
    "uhiraster[uhiraster < 0] = np.nan\n",
    "\n",
    "# ***Indlæs vektordata ***\n",
    "# Sti til geopackage defineres\n",
    "url = \"/content/python_kortdage/data/nykoebing_afstemningsomraader.gpkg\"\n",
    "\n",
    "# Geopandas bruges til at indlæse filen. Herefter defineres koordinatsystemet\n",
    "admin_gr_gdf = gpd.read_file(url)\n",
    "admin_gr_gdf = admin_gr_gdf.set_crs(epsg=25832, inplace=True, allow_override=True)\n",
    "\n",
    "# For lige at tjekke at data ser ud som forventet, printes tabellen\n",
    "admin_gr_gdf.head()"
   ]
  },
  {
   "cell_type": "markdown",
   "metadata": {},
   "source": [
    "**Simpelt plot**\n",
    "\n",
    "Der er endeløse muligheder for at plotte sit data. \n",
    "\n",
    "Herunder plotter vi både rasterbilledet og afstemningsområderne på en meget simpel måde. \n",
    "Det kan være smart med et simpelt plot, hvis man skal tjekke at data er indlæst korrekt. \n",
    "\n",
    "Når man skal plotte en geodataframe, kan man blot skrive navnet på geodataframen efterfulgt af .plot() og så bliver data automatisk plottet. \n",
    "Rasterbilledet bliver vist med rasteriopluginnets funktion 'imshow', der også kan bruges til at vise andre typer af billeder (fx png eller jpeg)"
   ]
  },
  {
   "cell_type": "code",
   "execution_count": null,
   "metadata": {},
   "outputs": [],
   "source": [
    "# Plot af afstemningsområderne\n",
    "admin_gr_gdf.plot()\n",
    "\n",
    "# Plot af rasterbilledet\n",
    "fig, ax = plt.subplots(figsize=(10, 5))\n",
    "chm_plot = ax.imshow(uhiraster, extent=uhi_extent, cmap=\"YlOrRd\")\n",
    "\n",
    "ax.set_title(\"Overfladetemperaturer\")\n",
    "plt.show()"
   ]
  },
  {
   "cell_type": "markdown",
   "metadata": {},
   "source": [
    "**Subplots**\n",
    "\n",
    "En lidt pænere og strømlinet måde at plotte flere datasæt er ved at lave et subplot. \n",
    "\n",
    "Her kan man definere et grid, hvori man kan placere sine plots, så de har den samme størrelse, deler signaturforklaringer, akserne bliver ens mm. \n",
    "\n",
    "Det bliver lavet med matplotlib-biblioteket, som indeholder enormt mange muligheder, men det er godt dokumenteret og der findes masser af eksempler på brugen af det. "
   ]
  },
  {
   "cell_type": "code",
   "execution_count": null,
   "metadata": {},
   "outputs": [],
   "source": [
    "# Definer størrelse på subplot\n",
    "fig, ax = plt.subplots(1, 2, figsize=(12, 5))\n",
    "\n",
    "# Plot afstemningsområder\n",
    "fig_afstemningsomr = admin_gr_gdf.plot(\n",
    "    linewidth=0.5,              # Linewidth på outline\n",
    "    edgecolor=\"#768c8a\",      # Farve på outline\n",
    "    ax=ax[0],                   # Definer hvilken akse/del af grid plottet skal være i \n",
    ")\n",
    "\n",
    "# Definer overskrift\n",
    "ax[0].set_title(\"Afstemningsområder\")\n",
    "\n",
    "# Plot rasterbilledet\n",
    "chm_plot = ax[1].imshow(uhiraster, extent=uhi_extent, cmap=\"YlOrRd\") #ax[1] definerer placeringen i griddet\n",
    "\n",
    "# Definer overskrift\n",
    "ax[1].set_title(\"Overfladetemperaturer\")\n",
    "\n",
    "plt.show()"
   ]
  },
  {
   "cell_type": "markdown",
   "metadata": {},
   "source": [
    "Det er også muligt at plotte afstemningsområderne og overfladetemperaturene i det samme plot, så man kan se områderne over billedet. \n",
    "Her skal begge datasæt plottes på den samme akse (ax) og man skal sørge for, at det datasæt, man gerne vil have øverst, bliver plottet til sidst "
   ]
  },
  {
   "cell_type": "code",
   "execution_count": null,
   "metadata": {},
   "outputs": [],
   "source": [
    "# Definer størrelse på subplot (her 1,1, da der kun er et plot)\n",
    "fig, ax = plt.subplots(1, 1, figsize=(12, 5))\n",
    "\n",
    "# Plot rasterbilledet\n",
    "chm_plot = ax.imshow(uhiraster, extent=uhi_extent, cmap='inferno')\n",
    "\n",
    "# Definer overskrift\n",
    "ax.set_title(\"Overfladetemperaturer med afstemningsområder\")\n",
    "\n",
    "# Plot afstemningsområder\n",
    "fig_afstemningsomr = admin_gr_gdf.plot(\n",
    "    linewidth=4,                # Linewidth på outline\n",
    "    facecolor=\"none\",           # Ingen fyldfarve      \n",
    "    edgecolor=\"#fafafa\",      # Farve på outline\n",
    "    ax=ax                  # Definer hvilken akse/del af grid plottet skal være i \n",
    ")\n",
    "\n",
    "plt.show()"
   ]
  },
  {
   "cell_type": "markdown",
   "metadata": {},
   "source": [
    "### Øvelse 2 - zonal statistics\n",
    "\n",
    "Man kan rigtig meget med rasterbilleder i sig selv, men det er ofte brugbart at undersøge rasterværdierne inden for nogle definerede områder. \n",
    "Det gør det nemmere at præsentere data og fx bruge data til at lave indsatsområder eller undersøge udvikling over tid. \n",
    "\n",
    "Når data skal præsenteres for beslutningstagere er det også ofte nemmere at præsentere data inden for de samme grænser og det bliver nemmere at sammenligne resultater fra forskellige analyser. \n",
    "\n",
    "I dette eksempel skal vi finde gennemsnitsoverfladetemperaturen inden for afstemningsområderne vi har indlæst overfor. \n",
    "Hvis vi fx også undersøgte befæstelsesgraden eller vegetationsdækket inden for de samme områder, ville vi nemt kunne lave en grov sammenligning af disse parametre\n",
    "\n",
    "\n"
   ]
  },
  {
   "cell_type": "markdown",
   "metadata": {},
   "source": [
    "**Zonal statistics**\n",
    "\n",
    "Zonal statistics er en gængs måde at undersøge rasterværdier inden for polygoner. Funktionen findes også i de fleste GIS-programmer og er en nyttig måde at bringe de to datatyper sammen\n",
    "\n",
    "I dette eksempel bruger vi et library, zonal_stats, som vi indlæste i toppen af scriptet. "
   ]
  },
  {
   "cell_type": "code",
   "execution_count": null,
   "metadata": {},
   "outputs": [],
   "source": [
    "# Kør funktionen med afstemningsområderne og overfladetemperaturerne. Bemærk, at indlæsningen af rasterfilen er direkte fra tif-filen\n",
    "# Der kan laves forskellige aggregeringer (fx max-værdier, standardafvigelser mm). Her er vi kun interesseret i gennemsnittet.\n",
    "zs_uhi_adminomraader = zonal_stats(\n",
    "    admin_gr_gdf, inputuhi, stats=\"mean\", geojson_out=True\n",
    ")\n",
    "\n",
    "# Resultatet af zonals stats er en geojson. For at vi nemmere kan arbejde videre med den, konverteres den til en geodataframe\n",
    "gdf_uhi_adminomraader = gpd.GeoDataFrame.from_features(zs_uhi_adminomraader)\n",
    "\n",
    "# Resultatet plottes. Resultaten af zonals er en tilføjet kolonne med værdien/værdierne, man har defineret i funktionen, så i dette tilfælde er der tilføjet et kolonne med 'mean'\n",
    "gdf_uhi_adminomraader.head(2)"
   ]
  },
  {
   "cell_type": "markdown",
   "metadata": {},
   "source": [
    "Øvelse: Prøv at få både gennemsnit og max-værdi i zonal statistics. \n",
    "\n",
    "Dokumentation kan ses her https://pythonhosted.org/rasterstats/"
   ]
  },
  {
   "cell_type": "code",
   "execution_count": null,
   "metadata": {},
   "outputs": [],
   "source": [
    "# Kopier koden fra ovensående afsnit og prøv dig frem"
   ]
  },
  {
   "cell_type": "code",
   "execution_count": null,
   "metadata": {},
   "outputs": [],
   "source": [
    "# Svaret kan også findes her:\n",
    "\n",
    "zs_uhi_adminomraader_mean_max = zonal_stats(\n",
    "    admin_gr_gdf, inputuhi, stats=\"mean max\", geojson_out=True\n",
    ")\n",
    "\n",
    "gdf_uhi_adminomraader_mean_max = gpd.GeoDataFrame.from_features(\n",
    "    zs_uhi_adminomraader_mean_max\n",
    ")\n",
    "\n",
    "#Print den øverste del af dataframen\n",
    "gdf_uhi_adminomraader_mean_max.head(2)"
   ]
  },
  {
   "cell_type": "markdown",
   "metadata": {},
   "source": [
    "**Plot gennemsnitsværdier inden for grænser**\n",
    "\n",
    "Resultaterne plottes. Her kan der virkelig leges med farver, signaturforklaring mm "
   ]
  },
  {
   "cell_type": "code",
   "execution_count": null,
   "metadata": {},
   "outputs": [],
   "source": [
    "# Definer størrelse på figuren, som plottet skal være inde i\n",
    "fig, ax = plt.subplots(1, 1, figsize=(6, 6))\n",
    "\n",
    "fig = gdf_uhi_adminomraader.plot(\n",
    "    column=\"mean\",  # Den kolonne, der skal farvelægges efter\n",
    "    cmap=\"YlOrRd\",  # Man kan bruge en af de mange prædefinerede farvepaletter eller evt. lave sin egen.\n",
    "    # De prædefinerede kan ses her: https://matplotlib.org/stable/users/explain/colors/colormaps.html\n",
    "    linewidth=0.5,  # Linjebredde på polygonerne\n",
    "    edgecolor=\"black\",  # Farve på linjer. Her kan der også anvendes HEX-koder\n",
    "    legend=True,  # True = der er signaturforklaring, False = ingen signaturforklaring\n",
    "    ax=ax,  # Definerer hvilket subplot, plottet skal være i\n",
    "    legend_kwds={\n",
    "        \"label\": \"°C\",\n",
    "        \"shrink\": 0.7,\n",
    "    },  # Definerer parametre til signaturforklaringen.\n",
    "    # Mulighederne kan ses her: https://matplotlib.org/stable/api/_as_gen/matplotlib.pyplot.colorbar.html#matplotlib.pyplot.colorbar\n",
    ")\n",
    "\n",
    "# Definer titel\n",
    "ax.set_title(\"GNS overfladetemp\", fontsize=14)\n",
    "\n",
    "# Fjern akserne (koordinaterne i siden)\n",
    "ax.axis(\"off\")\n",
    "plt.show()"
   ]
  },
  {
   "cell_type": "markdown",
   "metadata": {},
   "source": [
    "Øvelse: lav et plot med visning af max-værdierne i stedet for mean. Husk, at vær opmærksom på navnet på geodataframen "
   ]
  },
  {
   "cell_type": "code",
   "execution_count": null,
   "metadata": {},
   "outputs": [],
   "source": [
    "# Kopier ovenstående plot og prøv dig frem. Du kan også prøve at skifte farvepaletten ud eller ændre i legendens opsætning"
   ]
  },
  {
   "cell_type": "code",
   "execution_count": null,
   "metadata": {},
   "outputs": [],
   "source": [
    "# Svaret kan også findes her\n",
    "\n",
    "# Definer størrelse på figuren, som plottet skal være inde i\n",
    "fig, ax = plt.subplots(1, 1, figsize=(6, 6))\n",
    "\n",
    "fig = gdf_uhi_adminomraader_mean_max.plot(\n",
    "    column=\"max\",  # Den kolonne, der skal farvelægges efter\n",
    "    cmap=\"turbo\",  # Man kan bruge en af de mange prædefinerede farvepaletter eller evt. lave sin egen.\n",
    "    # De prædefinerede kan ses her: https://matplotlib.org/stable/users/explain/colors/colormaps.html\n",
    "    linewidth=0.5,  # Linjebredde på polygonerne\n",
    "    edgecolor=\"black\",  # Farve på linjer. Her kan der også anvendes HEX-koder\n",
    "    legend=True,  # True = der er signaturforklaring, False = ingen signaturforklaring\n",
    "    ax=ax,  # Definerer hvilket subplot, plottet skal være i\n",
    "    legend_kwds={\n",
    "        \"label\": \"°C\",\n",
    "        \"shrink\": 0.7,\n",
    "    },  # Definerer parametre til signaturforklaringen.\n",
    "    # Mulighederne kan ses her: https://matplotlib.org/stable/api/_as_gen/matplotlib.pyplot.colorbar.html#matplotlib.pyplot.colorbar\n",
    ")\n",
    "\n",
    "# Definer titel\n",
    "ax.set_title(\"GNS overfladetemp\", fontsize=14)\n",
    "\n",
    "# Fjern akserne (koordinaterne i siden)\n",
    "ax.axis(\"off\")\n",
    "plt.show()"
   ]
  },
  {
   "cell_type": "markdown",
   "metadata": {},
   "source": [
    "### Øvelse 3 - Indeksering af raster \n",
    "\n",
    "Det kan ofte være en god idé at lave en indeksering af rasterværdier, for at gøre det nemmere at sammenligne med andre datsæt, hvor værdierne eller datatyperne er meget forskellige. \n",
    "\n",
    "Med indeksering menes der at reklassificere værdierne ind i nogle prædefinerede numeriske klasser. \n",
    "\n",
    "I dette eksempel vil vi gerne have fem klasser, hvor værdierne går fra 1-5 defineret ud fra minimum og maxværdierne i billedet. \n",
    "Denne reklassificering kan også laves på resultatet af zonal statistics, men i nogle tilfælde vil det være relevant at gøre det på selve billedet.\n",
    "\n",
    "Man kan også lave en reklassificering ud fra nogle faste intervaller, man selv definerer manuelt eller automatisk "
   ]
  },
  {
   "cell_type": "markdown",
   "metadata": {},
   "source": [
    "Der er igen mange veje til rom. En af de nemmeste veje er at bruge librariet numpy til at definere antallet af klasser og lave inddelingen: "
   ]
  },
  {
   "cell_type": "code",
   "execution_count": null,
   "metadata": {},
   "outputs": [],
   "source": [
    "# Sørg for at det kun er celler der har en værdi, der kommer med. Der laves en 'maske' som lægges oven på billedet for kun af få de celler, der har en værdi. \n",
    "valid_mask = ~np.isnan(uhiraster)\n",
    "valid_values = uhiraster[valid_mask]\n",
    "\n",
    "# Definer antallet af klasser samt grænseværdierne for dem. Grænserne sættes ud fra mininum og maksimum værdierne i datasættet.\n",
    "n_classes = 5\n",
    "bins = np.linspace(np.nanmin(uhiraster), np.nanmax(uhiraster), n_classes + 1)\n",
    "\n",
    "# Reklassificer vha klasserne defineret ovenfor\n",
    "reclassified_uhi = np.zeros_like(uhiraster, dtype=int)\n",
    "reclassified_uhi[valid_mask] = np.digitize(valid_values, bins, right=False)"
   ]
  },
  {
   "cell_type": "markdown",
   "metadata": {},
   "source": [
    "Plot resultatet"
   ]
  },
  {
   "cell_type": "code",
   "execution_count": null,
   "metadata": {},
   "outputs": [],
   "source": [
    "# Plot det reklassificerede\n",
    "fig, ax = plt.subplots(figsize=(10, 5))\n",
    "\n",
    "# Definer de farver, man gerne vil bruge til plottet. Der kan også anvendes en prædefineret\n",
    "cmap = ListedColormap([\"#3232a8\", \"#1eebda\", \"#eaf516\", \"#f58216\", \"#f51616\"])\n",
    "\n",
    "chm_plot = ax.imshow(reclassified_uhi, cmap=cmap)\n",
    "\n",
    "ax.set_title(\"Reclassed uhi\", fontsize=14)\n",
    "ax.axis(\"off\")\n",
    "plt.show()"
   ]
  },
  {
   "cell_type": "markdown",
   "metadata": {},
   "source": [
    "### Øvelse 4 - udpegning af de varmeste områder \n",
    "Man kan bruge resultatet af zonal statistics til at finde de varmeste områder, men hvis man er interesseret i at finde de varmeste områder uden de prædefinerede grænser, kan man arbejde med rasterbilledet i sig selv. \n",
    "\n",
    "En måde at gøre det på, er at bruge standardafvgielsen og gennemsnittet, til at finde de varmeste områder. Grænsen kan også være manuelt defineret, hvis man fx er interesseret i at finde alle områder, hvor overfladetemperaturen er over 40 grader. \n",
    "\n",
    "I dette eksempel vil vi kun have de varmeste områder inden for alle afstemningsområderne og ikke hele billedet i sig selv, så der anvendes zonal statistics for at finde gennemsnit og standardafvigelse inden for polygonet."
   ]
  },
  {
   "cell_type": "code",
   "execution_count": null,
   "metadata": {},
   "outputs": [],
   "source": [
    "# Grænserne mellem afstemningsområderne opløses, så der findes gns og std for hele området \n",
    "merged_omr = admin_gr_gdf[[\"id\", \"geometry\"]].dissolve()\n",
    "\n",
    "# Der bruges zonal statistics til at finde gennemsnittet og standardafvigelsen\n",
    "uhi_std = zonal_stats(merged_omr, inputuhi, stats=\"mean std\", geojson_out=True)\n",
    "\n",
    "# For at trække gennemsnit og standardafvigelsen ud som tal, der kan bruges i en reklassificering, skal man trække tallene ud af en dictionary\n",
    "mean_value = uhi_std[0][\"properties\"][\"mean\"]\n",
    "std_value = uhi_std[0][\"properties\"][\"std\"]\n",
    "\n",
    "# Grænsen for UHI defineres i dette eksempel som gennemsnit + (2x standardafvigelse)\n",
    "uhi_graense = mean_value + (std_value * 2)\n",
    "\n",
    "# Print grænsen\n",
    "print(\"Grænsen for de varmeste områder er: \", round(uhi_graense, 1), \"°C\")"
   ]
  },
  {
   "cell_type": "markdown",
   "metadata": {},
   "source": [
    "**Filtrering af billedet efter grænseværdien og plot**\n",
    "\n",
    "For at visualisere de områder, hvor der er varmest, skal billedet med overfladetemperaturer reklassificeres, så alle celler under grænseværdien fjernes. \n",
    "I samme omgang klippes rasterbilledet, så det kun er celler inden for afstemningsområderne, der er med. \n",
    "\n",
    "Til reklassificeringen anvendes numpy.where, som minder om en case funktion "
   ]
  },
  {
   "cell_type": "code",
   "execution_count": null,
   "metadata": {},
   "outputs": [],
   "source": [
    "# Det originale rasterbillede åbnes, det klippes og herefter fjernes alle værdier under grænseværdien\n",
    "with rasterio.open(inputuhi) as src:\n",
    "    uhi_crs = src.crs\n",
    "\n",
    "    # Klip billedet, så pixels uden for polygonerne er væk\n",
    "    out_img, out_transform = mask(\n",
    "        src, merged_omr.geometry, crop=True\n",
    "    )  # Der klippes efter det mergede datasæt der blev lavet i tidligere afnsit\n",
    "\n",
    "    # Fjern værdier under grænseværdien\n",
    "    uhi = np.where(out_img[0] >= uhi_graense, 1, np.nan)"
   ]
  },
  {
   "cell_type": "markdown",
   "metadata": {},
   "source": [
    "Plot af resultatet. Her anvendes matplotlib igen."
   ]
  },
  {
   "cell_type": "code",
   "execution_count": null,
   "metadata": {},
   "outputs": [],
   "source": [
    "# Plot resultatet og brug afstemningsområderne som en simpel baggrund\n",
    "fig, ax = plt.subplots(figsize=(10, 5))\n",
    "\n",
    "cmap = ListedColormap([\"#352b2d\"])\n",
    "# Plot billede\n",
    "show(uhi, transform=out_transform, cmap=cmap, ax=ax)\n",
    "\n",
    "# Plot grænser\n",
    "fig_afstemningsomr = admin_gr_gdf.boundary.plot(\n",
    "    linewidth=0.5, edgecolor=\"#768c8a\", ax=ax\n",
    ")\n",
    "\n",
    "plt.show()"
   ]
  },
  {
   "cell_type": "markdown",
   "metadata": {},
   "source": [
    "### Øvelse 5 - Eksport af data\n",
    "\n",
    "Data kan eksporteres til mange formater. Typisk vil man eksportere dem til en tif-fil, hvis det er raster. \n",
    "Vektordatasæt kan også eksporteres til flere formater og kan nemt eksporteres til en database. \n",
    "Når man skal skrive med rasterio åbner man en fil i 'skrivemode' og putter billedet ind i den fil. "
   ]
  },
  {
   "cell_type": "code",
   "execution_count": null,
   "metadata": {},
   "outputs": [],
   "source": [
    "outputuhi = r\"/content/sample_data/uhi_esterimeret.tif\" # Stien er til sample_data mappen der findes ude i venstre side\n",
    "\n",
    "# *** Eksport af rasterdata***\n",
    "with rasterio.open(\n",
    "    outputuhi,\n",
    "    mode=\"w\",\n",
    "    height=uhi.shape[0],\n",
    "    width=uhi.shape[1],\n",
    "    driver=\"GTiff\",\n",
    "    count=1,\n",
    "    dtype=uhi.dtype,\n",
    "    crs=uhi_crs,\n",
    "    transform=out_transform,\n",
    ") as new_dataset:\n",
    "    new_dataset.write(uhi, 1)"
   ]
  },
  {
   "cell_type": "markdown",
   "metadata": {},
   "source": [
    "### Øvelse 6 - hent data fra en webservice \n",
    "\n",
    "Den sidste øvelse! Her skal vi hente et billede fra en webservice. Der er en del offentligt tilgængelige satellitbilleder, der er tilgængelige på webservices. NASA udstiller fx deres billeder i [GIBS](https://www.earthdata.nasa.gov/engage/open-data-services-software/earthdata-developer-portal/gibs-api). Der er en dokumentation af, hvordan man kan hente, søge og vise data fra webservicen [her](https://nasa-gibs.github.io/gibs-api-docs/python-usage/)\n",
    "\n",
    "\n",
    "Billederne kan hentes gennem python ved at anvende biblioteket owslib, som vi installerer herunder. \n",
    "\n",
    "\n",
    "I dette eksempel henter vi et billede fra en af [MODIS](https://modis.gsfc.nasa.gov/) satellitterne. MODIS tager billeder hver dag stort set alle steder på jorden. Opløsningen på de forskellige bånd er ret grov (mellem 250 og 10 km), men de daglige billeder giver mulighed for at lave mange forskellige analyser. "
   ]
  },
  {
   "cell_type": "code",
   "execution_count": null,
   "metadata": {},
   "outputs": [],
   "source": [
    "# Installer owslib biblioteket\n",
    "!pip install owslib"
   ]
  },
  {
   "cell_type": "code",
   "execution_count": null,
   "metadata": {},
   "outputs": [],
   "source": [
    "from owslib.wms import WebMapService\n",
    "from IPython.display import Image, display # Indbygget bibliotek til at vise billeder\n",
    "\n",
    "# Connect til  GIBS WMS Service\n",
    "wms = WebMapService('https://gibs.earthdata.nasa.gov/wms/epsg4326/best/wms.cgi?', version='1.1.1')\n",
    "\n",
    "# Konfigurer de ønskede parametre for at hente et MODIS Terra Corrected Reflectance billede\n",
    "img = wms.getmap(layers=['MODIS_Terra_CorrectedReflectance_Bands721'],  # Lag\n",
    "                 srs='epsg:4326',  # Kortprojektion (her er der et begrænset udvalg af projektioner)\n",
    "                 bbox=(12,54.5,13,57),  # Bounds\n",
    "                 size=(600, 600),  # Billedets størrelse i pixels\n",
    "                 time='2018-06-03',  # Dato \n",
    "                 format='image/png',  # Format\n",
    "                 transparent=True)  # Nodata transparency\n",
    "\n",
    "# Gem billede lokalt (her i google colab)\n",
    "path = r\"/content/sample_data/MODIS_Terra_CorrectedReflectance_TrueColor.png\"\n",
    "out = open(path, 'wb')\n",
    "out.write(img.read())\n",
    "out.close()\n",
    "\n",
    "# Vis billede\n",
    "Image(path)"
   ]
  },
  {
   "cell_type": "markdown",
   "metadata": {},
   "source": [
    "**Vil du lære mere? Se vores liste over kurser og bøger [HER](https://github.com/anerv/python_kortdage/blob/main/inspiration.md).**"
   ]
  }
 ],
 "metadata": {
  "kernelspec": {
   "display_name": "Python 3",
   "language": "python",
   "name": "python3"
  },
  "language_info": {
   "codemirror_mode": {
    "name": "ipython",
    "version": 3
   },
   "file_extension": ".py",
   "mimetype": "text/x-python",
   "name": "python",
   "nbconvert_exporter": "python",
   "pygments_lexer": "ipython3",
   "version": "3.13.7"
  }
 },
 "nbformat": 4,
 "nbformat_minor": 2
}
